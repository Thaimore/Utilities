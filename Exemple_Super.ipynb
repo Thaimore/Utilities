{
 "cells": [
  {
   "cell_type": "code",
   "execution_count": 1,
   "metadata": {},
   "outputs": [
    {
     "name": "stdout",
     "output_type": "stream",
     "text": [
      "t\n",
      "f\n",
      "g\n",
      "v\n",
      "b\n"
     ]
    }
   ],
   "source": [
    "a = {'a' : ('t', 'f' ,'g' ,'v' ,'b')}\n",
    "for i in a['a']:\n",
    "    print(i)"
   ]
  },
  {
   "cell_type": "code",
   "execution_count": 64,
   "metadata": {},
   "outputs": [
    {
     "name": "stdout",
     "output_type": "stream",
     "text": [
      "Sat Apr  4 18:54:20 2020: Hello\n",
      "['Hello']\n",
      "Sat Apr  4 18:54:20 2020: Goodbye\n",
      "['Hello', 'Goodbye']\n"
     ]
    }
   ],
   "source": [
    "class Loggable:\n",
    "    def log(self, msg):\n",
    "        print(str(time.ctime()) + \": \" + str(msg))\n",
    "\n",
    "class LoggableList(Loggable, list):\n",
    "    \n",
    "    def append(self, out):\n",
    "        self[len(self):] = [out]\n",
    "        x = super(LoggableList, self).log(out)\n",
    "        #print(self.log(out))\n",
    "        \n",
    "a = LoggableList()\n",
    "a.append('Hello')\n",
    "print(a)\n",
    "a.append('Goodbye')\n",
    "print(a)"
   ]
  },
  {
   "cell_type": "code",
   "execution_count": 42,
   "metadata": {},
   "outputs": [
    {
     "data": {
      "text/plain": [
       "'append'"
      ]
     },
     "execution_count": 42,
     "metadata": {},
     "output_type": "execute_result"
    }
   ],
   "source": [
    "list.append.__"
   ]
  },
  {
   "cell_type": "code",
   "execution_count": null,
   "metadata": {},
   "outputs": [],
   "source": []
  }
 ],
 "metadata": {
  "kernelspec": {
   "display_name": "Python 3",
   "language": "python",
   "name": "python3"
  },
  "language_info": {
   "codemirror_mode": {
    "name": "ipython",
    "version": 3
   },
   "file_extension": ".py",
   "mimetype": "text/x-python",
   "name": "python",
   "nbconvert_exporter": "python",
   "pygments_lexer": "ipython3",
   "version": "3.8.1"
  }
 },
 "nbformat": 4,
 "nbformat_minor": 4
}
