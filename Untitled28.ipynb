{
 "cells": [
  {
   "cell_type": "code",
   "execution_count": 21,
   "metadata": {},
   "outputs": [
    {
     "name": "stdout",
     "output_type": "stream",
     "text": [
      "4 5 6\n",
      "['4', '5', '6']\n",
      "4\n",
      "8\n"
     ]
    }
   ],
   "source": [
    "a = list(input().split())\n",
    "c = a[0]\n",
    "d = int(c) + int(c)\n",
    "print (a)\n",
    "print (c)\n",
    "print (d)"
   ]
  },
  {
   "cell_type": "code",
   "execution_count": 20,
   "metadata": {},
   "outputs": [
    {
     "name": "stdout",
     "output_type": "stream",
     "text": [
      "4 5 6\n",
      "4\n",
      "9\n"
     ]
    }
   ],
   "source": [
    "a = list(input().split())\n",
    "c = int(a[0])\n",
    "print (c)\n",
    "d = int(a[1])\n",
    "b = c + d\n",
    "print (b)"
   ]
  },
  {
   "cell_type": "code",
   "execution_count": 44,
   "metadata": {},
   "outputs": [
    {
     "name": "stdout",
     "output_type": "stream",
     "text": [
      "1 3 5 6 10\n",
      "['1', '8', '1', '8', '1', '8', '1', '8', '1', '8', '1', '8']\n"
     ]
    }
   ],
   "source": [
    "vvod = list(input().split())\n",
    "interval = len(vvod)\n",
    "score = 0\n",
    "currentscore = int(vvod[d])\n",
    "previousscore = 0\n",
    "nextscore = 0\n",
    "f = 0\n",
    "vivod = list('')\n",
    "g = list('')\n",
    "\n",
    "\n",
    "for i in range (interval+1) :\n",
    "    previousscore = int(vvod[d-1])\n",
    "    nextscore = int(vvod[d+1])\n",
    "    f = previousscore * nextscore\n",
    "    g = str(f)\n",
    "    vivod = list(vivod) + list(g)\n",
    "    score += 1\n",
    "    if score == interval :\n",
    "        nextscore = int(vvod[0])\n",
    "        previousscore = int(vvod[interval-1])\n",
    "        f = previousscore * nextscore\n",
    "        vivod = list(vivod) + list(g)\n",
    "        break\n",
    "\n",
    "    \n",
    "print (vivod)"
   ]
  },
  {
   "cell_type": "code",
   "execution_count": 35,
   "metadata": {},
   "outputs": [
    {
     "name": "stdout",
     "output_type": "stream",
     "text": [
      "['1', '2', '3', '4']\n",
      "1\n"
     ]
    }
   ],
   "source": [
    "a = ['1', '2', '3']\n",
    "a = a + ['4']\n",
    "print (a)\n",
    "ячейка = 0\n",
    "вывод = int(a[ячейка])\n",
    "print (вывод)"
   ]
  },
  {
   "cell_type": "code",
   "execution_count": 46,
   "metadata": {},
   "outputs": [
    {
     "name": "stdout",
     "output_type": "stream",
     "text": [
      "1 3 5 6 10\n",
      "[13, 6, 9, 15, 7]\n"
     ]
    }
   ],
   "source": [
    "a = [int(i) for i in input().split()]\n",
    "x = 0\n",
    "b = len(a)\n",
    "for i in range (b) :\n",
    "    if x == b:\n",
    "        break\n",
    "    if a.count(a[x]) < 2 :\n",
    "        del a[x]\n",
    "        if x == b - 1:\n",
    "            break\n",
    "    if a.count(a[x]) > 1 :\n",
    "        x += 1    \n",
    "    b = len(a)\n",
    "b = len(a)\n",
    "x = 0\n",
    "for i in range (b) :\n",
    "    if a.count(a[x]) > 1 :\n",
    "        del a[x]\n",
    "    else :\n",
    "        x += 1\n",
    "    b = len(a)\n",
    "for i in range (b) :\n",
    "    print (a[i], end = ' ')\n",
    "    "
   ]
  },
  {
   "cell_type": "code",
   "execution_count": 47,
   "metadata": {},
   "outputs": [
    {
     "name": "stdout",
     "output_type": "stream",
     "text": [
      "4 5 6 1\n",
      "16\n"
     ]
    }
   ],
   "source": [
    "a=[int(i) for i in input().split()]\n",
    "s=0\n",
    "for i in a:\n",
    "    s+=i\n",
    "print(s)"
   ]
  },
  {
   "cell_type": "code",
   "execution_count": 54,
   "metadata": {},
   "outputs": [
    {
     "data": {
      "text/plain": [
       "3"
      ]
     },
     "execution_count": 54,
     "metadata": {},
     "output_type": "execute_result"
    }
   ],
   "source": [
    "a = ['1', '2', '3', '1', '1']\n",
    "x = 0\n",
    "b = len(a)\n",
    "a.count(a[x])"
   ]
  },
  {
   "cell_type": "code",
   "execution_count": 58,
   "metadata": {},
   "outputs": [
    {
     "name": "stdout",
     "output_type": "stream",
     "text": [
      "5\n",
      "5\n",
      "5\n",
      "0\n",
      "75\n"
     ]
    }
   ],
   "source": [
    "a = int(input())\n",
    "b = 0\n",
    "c = 0\n",
    "while (a > 0) :    \n",
    "    b = b + a\n",
    "    c = c + (a * a)\n",
    "    a = int(input())\n",
    "    if (a <= 0) or (b <= 0) :\n",
    "        print (c)\n",
    "        break"
   ]
  },
  {
   "cell_type": "code",
   "execution_count": null,
   "metadata": {},
   "outputs": [],
   "source": []
  }
 ],
 "metadata": {
  "kernelspec": {
   "display_name": "Python 3",
   "language": "python",
   "name": "python3"
  },
  "language_info": {
   "codemirror_mode": {
    "name": "ipython",
    "version": 3
   },
   "file_extension": ".py",
   "mimetype": "text/x-python",
   "name": "python",
   "nbconvert_exporter": "python",
   "pygments_lexer": "ipython3",
   "version": "3.8.1"
  }
 },
 "nbformat": 4,
 "nbformat_minor": 4
}
