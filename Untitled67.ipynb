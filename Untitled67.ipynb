{
 "cells": [
  {
   "cell_type": "code",
   "execution_count": 4,
   "metadata": {},
   "outputs": [
    {
     "name": "stdout",
     "output_type": "stream",
     "text": [
      "False\n"
     ]
    }
   ],
   "source": [
    "a = {}\n",
    "print(bool(a))"
   ]
  },
  {
   "cell_type": "code",
   "execution_count": 2,
   "metadata": {},
   "outputs": [
    {
     "name": "stdout",
     "output_type": "stream",
     "text": [
      "[{'a': 0}, {'a': 1}]\n"
     ]
    }
   ],
   "source": [
    "a = 1\n",
    "b = [{'a': a} for a in range(2)]\n",
    "print(b)"
   ]
  },
  {
   "cell_type": "code",
   "execution_count": 4,
   "metadata": {},
   "outputs": [
    {
     "name": "stdout",
     "output_type": "stream",
     "text": [
      "<class 'bool'>\n",
      "True\n"
     ]
    }
   ],
   "source": [
    "a = True\n",
    "print(type(a))\n",
    "print(type(a) == bool)"
   ]
  },
  {
   "cell_type": "code",
   "execution_count": 5,
   "metadata": {},
   "outputs": [
    {
     "name": "stdout",
     "output_type": "stream",
     "text": [
      "<class 'int'>\n",
      "True\n"
     ]
    }
   ],
   "source": [
    "a = 10\n",
    "a = a + (a // 10)\n",
    "print(type(a))\n",
    "print(type(a) == int)"
   ]
  },
  {
   "cell_type": "code",
   "execution_count": 12,
   "metadata": {},
   "outputs": [
    {
     "ename": "TypeError",
     "evalue": "'str' object is not callable",
     "output_type": "error",
     "traceback": [
      "\u001b[1;31m---------------------------------------------------------------------------\u001b[0m",
      "\u001b[1;31mTypeError\u001b[0m                                 Traceback (most recent call last)",
      "\u001b[1;32m<ipython-input-12-21a6917eb042>\u001b[0m in \u001b[0;36m<module>\u001b[1;34m\u001b[0m\n\u001b[0;32m      4\u001b[0m \u001b[0mb\u001b[0m \u001b[1;33m=\u001b[0m \u001b[1;33m{\u001b[0m\u001b[1;36m1\u001b[0m\u001b[1;33m:\u001b[0m \u001b[1;34m'writer'\u001b[0m\u001b[1;33m}\u001b[0m\u001b[1;33m\u001b[0m\u001b[1;33m\u001b[0m\u001b[0m\n\u001b[0;32m      5\u001b[0m \u001b[0mf\u001b[0m \u001b[1;33m=\u001b[0m \u001b[0mb\u001b[0m\u001b[1;33m[\u001b[0m\u001b[1;36m1\u001b[0m\u001b[1;33m]\u001b[0m\u001b[1;33m\u001b[0m\u001b[1;33m\u001b[0m\u001b[0m\n\u001b[1;32m----> 6\u001b[1;33m \u001b[0mexec\u001b[0m\u001b[1;33m(\u001b[0m\u001b[1;34m'f(5)'\u001b[0m\u001b[1;33m)\u001b[0m\u001b[1;33m\u001b[0m\u001b[1;33m\u001b[0m\u001b[0m\n\u001b[0m",
      "\u001b[1;32m<string>\u001b[0m in \u001b[0;36m<module>\u001b[1;34m\u001b[0m\n",
      "\u001b[1;31mTypeError\u001b[0m: 'str' object is not callable"
     ]
    }
   ],
   "source": [
    "def writer(number):\n",
    "    print(number)\n",
    "\n",
    "b = {1: 'writer'}\n",
    "f = b[1]\n",
    "exec('f(5)')"
   ]
  },
  {
   "cell_type": "code",
   "execution_count": 25,
   "metadata": {},
   "outputs": [
    {
     "name": "stdout",
     "output_type": "stream",
     "text": [
      "1\n",
      "2\n",
      "3\n",
      "{'controllers': [{1: 10}]}\n",
      "{'controllers': [{1: 10}, {2: 20}]}\n"
     ]
    }
   ],
   "source": [
    "b = {1: 10, 2: 20, 3:30}\n",
    "for i in b:\n",
    "    print(i)\n",
    "    \n",
    "data = {\"controllers\": []}\n",
    "data[\"controllers\"] += [{1: b[1]}]\n",
    "print(data)\n",
    "data[\"controllers\"] += [{2: b[2]}]\n",
    "print(data)"
   ]
  },
  {
   "cell_type": "code",
   "execution_count": 26,
   "metadata": {},
   "outputs": [
    {
     "name": "stdout",
     "output_type": "stream",
     "text": [
      "{\"1\": 2, \"3\": 30}\n"
     ]
    }
   ],
   "source": [
    "import json\n",
    "\n",
    "a = {1: 2, 3: 30}\n",
    "print(json.dumps(a))"
   ]
  },
  {
   "cell_type": "code",
   "execution_count": 2,
   "metadata": {},
   "outputs": [
    {
     "name": "stdout",
     "output_type": "stream",
     "text": [
      "{'b': 10}\n"
     ]
    }
   ],
   "source": [
    "a = {}\n",
    "a.update({'b': 10})\n",
    "print(a)"
   ]
  },
  {
   "cell_type": "code",
   "execution_count": 2,
   "metadata": {},
   "outputs": [
    {
     "data": {
      "text/plain": [
       "<Response [403]>"
      ]
     },
     "execution_count": 2,
     "metadata": {},
     "output_type": "execute_result"
    }
   ],
   "source": [
    "import requests\n",
    "data = {'_csrf': ['U4do7WvGfY4sFYVpASpGQjRnrSOd3ktu2R0mOvxrwLvwGOoN8uLvswlP4rz1mXyl']}\n",
    "requests.post('http://127.0.0.1:8000/', params=data)"
   ]
  },
  {
   "cell_type": "code",
   "execution_count": 3,
   "metadata": {},
   "outputs": [
    {
     "name": "stdout",
     "output_type": "stream",
     "text": [
      "False\n",
      "False\n"
     ]
    }
   ],
   "source": [
    "a = {\"content\": [{1: 10, 3: 30}, {2: 20}]}\n",
    "b = {1: 10}\n",
    "print(b in a[\"content\"])\n",
    "d = {'control': []}\n",
    "print(bool(d['control']))"
   ]
  },
  {
   "cell_type": "code",
   "execution_count": null,
   "metadata": {},
   "outputs": [],
   "source": [
    "    if work_dict['leak_detector'] and (work_dict['cold_water'] or work_dict['hot_water']):\n",
    "        data['controllers'] += [{'name': 'cold_water', 'value': False}, {'name': 'hot_water', 'value': False}]\n",
    "        work_dict['cold_water'] = False\n",
    "        work_dict['hot_water'] = False\n",
    "        send_mail(\n",
    "            'Subject here',\n",
    "            'Here is the message.',\n",
    "            '{}'.format(settings.EMAIL_HOST),\n",
    "            ['{}'.format(settings.EMAIL_RECEPIENT)],\n",
    "            fail_silently=True,\n",
    "        )\n",
    "    if not work_dict['cold_water'] and (work_dict['boiler'] or work_dict['washing_machine']):\n",
    "        data['controllers'] += [{'name': 'boiler', 'value': False}, {'name': 'washing_machine', 'value': 'off'}]\n",
    "        work_dict['boiler'] = False\n",
    "        work_dict['washing_machine'] = False\n",
    "    if work_dict['smoke_detector'] and (work_dict['air_conditioner']\n",
    "                                        or work_dict['boiler']\n",
    "                                        or work_dict['bedroom_light']\n",
    "                                        or work_dict['bathroom_light']\n",
    "                                        or work_dict['washing_machine']):\n",
    "        data[\"controllers\"] += [{'name': 'air_conditioner', 'value': False}, {'name': 'boiler', 'value': False}]\n",
    "        data[\"controllers\"] += [{'name': 'bedroom_light', 'value': False}, {'name': 'bathroom_light', 'value': False}]\n",
    "        data[\"controllers\"] += [{'name': 'washing_machine', 'value': 'off'}]\n",
    "        work_dict['air_conditioner'] = False\n",
    "        work_dict['boiler'] = False\n",
    "        work_dict['bedroom_light'] = False\n",
    "        work_dict['bathroom_light'] = False\n",
    "        work_dict['washing_machine'] = False\n",
    "    if (work_dict['boiler_temperature'] < (water_temp.value - (water_temp.value // 10))) and not work_dict['boiler']:\n",
    "        if work_dict['cold_water'] and not work_dict['smoke_detector']:\n",
    "            data['controllers'] += [{'name': 'boiler', 'value': True}]\n",
    "            work_dict['boiler'] = True\n",
    "    if (work_dict['boiler_temperature'] > (water_temp.value + (water_temp.value // 10))) and work_dict['boiler']:\n",
    "        data['controllers'] += [{'name': 'boiler', 'value': False}]\n",
    "        work_dict['boiler'] = False\n",
    "    if work_dict['curtains'] != 'slightly_open':\n",
    "        if (work_dict['outdoor_light'] < 50 and not work_dict['bedroom_light']) and not work_dict['curtains']:\n",
    "            data[\"controllers\"] += [{'name': 'curtains', 'value': 'open'}]\n",
    "            work_dict['curtains'] = True\n",
    "        if (work_dict['outdoor_light'] > 50 or work_dict['bedroom_light']) and work_dict['curtains']:\n",
    "            data[\"controllers\"] += [{'name': 'curtains', 'value': 'close'}]\n",
    "            work_dict['curtains'] = False\n",
    "            \"\"\"\"\"\"\"\"\"\n",
    "    if work_dict['outdoor_light'] < 50 and not work_dict['bedroom_light']:\n",
    "        if work_dict['curtains'] != 'slightly_open':\n",
    "            data[\"controllers\"] += [{'name': 'curtains', 'value': 'open'}]\n",
    "            work_dict['curtains'] = True\n",
    "    if work_dict['outdoor_light'] > 50 or work_dict['bedroom_light']:\n",
    "        if work_dict['curtains'] != 'slightly_open':\n",
    "            data[\"controllers\"] += [{'name': 'curtains', 'value': 'close'}]\n",
    "            work_dict['curtains'] = False\n",
    "            \"\"\"\"\"\n",
    "    if (work_dict['bedroom_temperature'] > (bedroom.value + (bedroom.value // 10))) and not work_dict['air_conditioner']:\n",
    "        if not work_dict['smoke_detector']:\n",
    "            data[\"controllers\"] += [{'name': 'air_conditioner', 'value': True}]\n",
    "            work_dict['air_conditioner'] = True\n",
    "    if (work_dict['bedroom_temperature'] < (bedroom.value - (bedroom.value // 10))) and work_dict['air_conditioner']:\n",
    "        data[\"controllers\"] += [{'name': 'air_conditioner', 'value': False}]\n",
    "        work_dict['air_conditioner'] = False\n",
    "    if data:\n",
    "        requests.post('{}'.format(settings.SMART_HOME_API_URL), headers=headers, data=json.dumps(data))"
   ]
  }
 ],
 "metadata": {
  "kernelspec": {
   "display_name": "Python 3",
   "language": "python",
   "name": "python3"
  },
  "language_info": {
   "codemirror_mode": {
    "name": "ipython",
    "version": 3
   },
   "file_extension": ".py",
   "mimetype": "text/x-python",
   "name": "python",
   "nbconvert_exporter": "python",
   "pygments_lexer": "ipython3",
   "version": "3.8.3"
  }
 },
 "nbformat": 4,
 "nbformat_minor": 4
}
