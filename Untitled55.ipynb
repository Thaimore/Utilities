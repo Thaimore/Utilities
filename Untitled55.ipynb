{
 "cells": [
  {
   "cell_type": "code",
   "execution_count": 13,
   "metadata": {},
   "outputs": [
    {
     "name": "stdout",
     "output_type": "stream",
     "text": [
      "{'Primary Type': 1, 'THEFT': 12446, 'BATTERY': 10892, 'CRIMINAL TRESPASS': 1754, 'BURGLARY': 3566, 'MOTOR VEHICLE THEFT': 2914, 'CRIMINAL DAMAGE': 6989, 'ASSAULT': 3686, 'ROBBERY': 2266, 'DECEPTIVE PRACTICE': 2053, 'OTHER OFFENSE': 3703, 'CRIM SEXUAL ASSAULT': 229, 'NARCOTICS': 6727, 'KIDNAPPING': 57, 'PUBLIC PEACE VIOLATION': 447, 'PROSTITUTION': 684, 'WEAPONS VIOLATION': 585, 'LIQUOR LAW VIOLATION': 153, 'SEX OFFENSE': 220, 'OFFENSE INVOLVING CHILDREN': 388, 'INTIMIDATION': 43, 'HOMICIDE': 68, 'ARSON': 99, 'INTERFERENCE WITH PUBLIC OFFICER': 120, 'GAMBLING': 110, 'STALKING': 48, 'OBSCENITY': 1, 'HUMAN TRAFFICKING': 1}\n",
      "[]\n"
     ]
    }
   ],
   "source": [
    "import csv\n",
    "a = {}\n",
    "b = []\n",
    "with open('Crimes.csv') as f:\n",
    "    reader = csv.reader(f)\n",
    "    for row in reader:\n",
    "        if row[5] not in a:\n",
    "            c = {str(row[5]) : 1}\n",
    "            a.update(c)\n",
    "        else:\n",
    "            a[str(row[5])] += 1\n",
    "            \n",
    "        \n",
    "print(a)\n",
    "print(b)"
   ]
  },
  {
   "cell_type": "code",
   "execution_count": 3,
   "metadata": {},
   "outputs": [
    {
     "ename": "AttributeError",
     "evalue": "'_csv.writer' object has no attribute 'write'",
     "output_type": "error",
     "traceback": [
      "\u001b[1;31m---------------------------------------------------------------------------\u001b[0m",
      "\u001b[1;31mAttributeError\u001b[0m                            Traceback (most recent call last)",
      "\u001b[1;32m<ipython-input-3-c5c6bb4eb3d8>\u001b[0m in \u001b[0;36m<module>\u001b[1;34m\u001b[0m\n\u001b[0;32m      3\u001b[0m \u001b[1;32mwith\u001b[0m \u001b[0mopen\u001b[0m\u001b[1;33m(\u001b[0m\u001b[1;34m'Ex.csv'\u001b[0m\u001b[1;33m,\u001b[0m \u001b[1;34m'w'\u001b[0m\u001b[1;33m)\u001b[0m \u001b[1;32mas\u001b[0m \u001b[0mf\u001b[0m\u001b[1;33m:\u001b[0m\u001b[1;33m\u001b[0m\u001b[1;33m\u001b[0m\u001b[0m\n\u001b[0;32m      4\u001b[0m     \u001b[0mwriter\u001b[0m \u001b[1;33m=\u001b[0m \u001b[0mcsv\u001b[0m\u001b[1;33m.\u001b[0m\u001b[0mwriter\u001b[0m\u001b[1;33m(\u001b[0m\u001b[0mf\u001b[0m\u001b[1;33m)\u001b[0m\u001b[1;33m\u001b[0m\u001b[1;33m\u001b[0m\u001b[0m\n\u001b[1;32m----> 5\u001b[1;33m     \u001b[0mwriter\u001b[0m\u001b[1;33m.\u001b[0m\u001b[0mwrite\u001b[0m\u001b[1;33m(\u001b[0m\u001b[1;34m'First_name, Last_name, Localization'\u001b[0m\u001b[1;33m)\u001b[0m\u001b[1;33m\u001b[0m\u001b[1;33m\u001b[0m\u001b[0m\n\u001b[0m",
      "\u001b[1;31mAttributeError\u001b[0m: '_csv.writer' object has no attribute 'write'"
     ]
    }
   ],
   "source": [
    "import csv\n",
    "\n",
    "with open('Ex.csv', 'w') as f:\n",
    "    writer = csv.writer(f)\n",
    "    writer.write('First_name, Last_name, Localization')"
   ]
  },
  {
   "cell_type": "code",
   "execution_count": 12,
   "metadata": {},
   "outputs": [
    {
     "name": "stdout",
     "output_type": "stream",
     "text": [
      "{'2': 4}\n"
     ]
    }
   ],
   "source": [
    "a = {'2' : 3}\n",
    "a['2'] += 1\n",
    "print(a)"
   ]
  },
  {
   "cell_type": "code",
   "execution_count": null,
   "metadata": {},
   "outputs": [],
   "source": []
  }
 ],
 "metadata": {
  "kernelspec": {
   "display_name": "Python 3",
   "language": "python",
   "name": "python3"
  },
  "language_info": {
   "codemirror_mode": {
    "name": "ipython",
    "version": 3
   },
   "file_extension": ".py",
   "mimetype": "text/x-python",
   "name": "python",
   "nbconvert_exporter": "python",
   "pygments_lexer": "ipython3",
   "version": "3.8.1"
  }
 },
 "nbformat": 4,
 "nbformat_minor": 4
}
