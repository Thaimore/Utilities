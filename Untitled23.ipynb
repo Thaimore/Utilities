{
 "cells": [
  {
   "cell_type": "code",
   "execution_count": 19,
   "metadata": {},
   "outputs": [
    {
     "name": "stdout",
     "output_type": "stream",
     "text": [
      "4\n",
      "6\n",
      "7\n",
      "9\n",
      "\t 7\t8\t9\n",
      "4 \t 28\t32\n",
      "5 \t 35\t40\n",
      "6 \t 42\t48\n"
     ]
    }
   ],
   "source": [
    "a = int(input())\n",
    "b = int(input())\n",
    "c = int(input())\n",
    "d = int(input())\n",
    "x = c\n",
    "e = str('')\n",
    "while (c < d):\n",
    "    if e == str(''):\n",
    "        print ('\\t', c, end = '\\t')\n",
    "    else : \n",
    "        print (c, end = '\\t')\n",
    "    c += 1\n",
    "    e = c\n",
    "print (c, end '\\t')\n",
    "c = x\n",
    "while (a <= b) :\n",
    "    while (c <= d) :\n",
    "        if c <= x :\n",
    "            print (a, end = '\\t')\n",
    "        else :\n",
    "            print (a * c, end = '\\t')\n",
    "        c += 1\n",
    "    print ('\\n')\n",
    "    a += 1\n",
    "    c = x"
   ]
  },
  {
   "cell_type": "code",
   "execution_count": 39,
   "metadata": {},
   "outputs": [
    {
     "name": "stdout",
     "output_type": "stream",
     "text": [
      "7\n",
      "10\n",
      "5\n",
      "6\n",
      "\t 5\t5\n",
      "7 \t 35\t42\t\n",
      "\n",
      "8 \t 40\t48\t\n",
      "\n",
      "9 \t 45\t54\t\n",
      "\n",
      "10 \t 50\t\n",
      "\n"
     ]
    }
   ],
   "source": [
    "a = int(input())\n",
    "b = int(input())\n",
    "c = int(input())\n",
    "d = int(input())\n",
    "x = c\n",
    "e = str('')\n",
    "while (c < d):\n",
    "    if e == str(''):\n",
    "        print ('\\t', c, end = '\\t')\n",
    "    else : \n",
    "        print (c, end = '\\t')\n",
    "    c += 1\n",
    "    e = c\n",
    "c = x\n",
    "if c == d :\n",
    "    print (end = '\\t')\n",
    "print (c)\n",
    "#print ('\\n')\n",
    "while (a <= b) :\n",
    "    while c <= d :\n",
    "        if c <= x :\n",
    "            print (a, '\\t', a * c, end = '\\t')\n",
    "        else :\n",
    "            print (a * c, end = '\\t')\n",
    "        c += 1\n",
    "        if a == b:\n",
    "            break\n",
    "    print ('\\n')\n",
    "    a += 1\n",
    "    c = x"
   ]
  },
  {
   "cell_type": "code",
   "execution_count": null,
   "metadata": {},
   "outputs": [],
   "source": [
    "a = int(input())\n",
    "b = int(input())\n",
    "c = int(input())\n",
    "d = int(input())\n",
    "x = c\n",
    "e = str('')\n",
    "while (c < d):\n",
    "    if e == str(''):\n",
    "        print ('\\t', c, end = '\\t')\n",
    "    else : \n",
    "        print (c, end = '\\t')\n",
    "    c += 1\n",
    "    e = c\n",
    "print (c)\n",
    "c = x\n",
    "while (a <= b) :\n",
    "    while (c <= d) :\n",
    "        if c <= x :\n",
    "            print (a, '\\t', a * c, end = '\\t',)\n",
    "            c = c + 1\n",
    "            print (a * c)\n",
    "        else :\n",
    "            c += 1\n",
    "        \n",
    "    a += 1\n",
    "    c = x"
   ]
  }
 ],
 "metadata": {
  "kernelspec": {
   "display_name": "Python 3",
   "language": "python",
   "name": "python3"
  },
  "language_info": {
   "codemirror_mode": {
    "name": "ipython",
    "version": 3
   },
   "file_extension": ".py",
   "mimetype": "text/x-python",
   "name": "python",
   "nbconvert_exporter": "python",
   "pygments_lexer": "ipython3",
   "version": "3.8.1"
  }
 },
 "nbformat": 4,
 "nbformat_minor": 4
}
