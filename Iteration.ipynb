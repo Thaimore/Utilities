{
 "cells": [
  {
   "cell_type": "code",
   "execution_count": 8,
   "metadata": {},
   "outputs": [
    {
     "name": "stdout",
     "output_type": "stream",
     "text": [
      "0\n",
      "1\n",
      "2\n",
      "3\n",
      "4\n",
      "5\n"
     ]
    }
   ],
   "source": [
    "class Iterator:\n",
    "    \n",
    "    def iteration(self, start=0, end=0):\n",
    "        self.start = start\n",
    "        self.end = end\n",
    "        while True:\n",
    "            if self.start < end:\n",
    "                print(self.start)\n",
    "                self.start += 1\n",
    "            else:\n",
    "                break\n",
    "\n",
    "x = Iterator()\n",
    "x.iteration(0, 6)"
   ]
  },
  {
   "cell_type": "code",
   "execution_count": 18,
   "metadata": {},
   "outputs": [
    {
     "name": "stdout",
     "output_type": "stream",
     "text": [
      "3\n",
      "1\n"
     ]
    }
   ],
   "source": [
    "def judge_half(lst, pos=0, neg=0):\n",
    "    for i in lst:\n",
    "        if i:\n",
    "            pos += 1\n",
    "        else:\n",
    "            neg += 1\n",
    "    print(pos)\n",
    "    print(neg)\n",
    "    \n",
    "n = [0, 1, 2, 3]\n",
    "judge_half(n)"
   ]
  },
  {
   "cell_type": "code",
   "execution_count": 1,
   "metadata": {},
   "outputs": [
    {
     "name": "stdout",
     "output_type": "stream",
     "text": [
      "[0, 2, 3, 4, 5, 6, 8, 9, 10, 12, 14, 15, 16, 18, 20, 21, 22, 24, 25, 26, 27, 28, 30]\n"
     ]
    }
   ],
   "source": [
    "def mul2(x):\n",
    "    return x % 2 == 0\n",
    "\n",
    "def mul3(x):\n",
    "    return x % 3 == 0\n",
    "\n",
    "def mul5(x):\n",
    "    return x % 5 == 0\n",
    "\n",
    "class multifilter:\n",
    "    \n",
    "    def judge_half(pos, neg):\n",
    "        return pos >= neg\n",
    "\n",
    "    def judge_any(pos, neg):\n",
    "        return pos >= 1\n",
    "\n",
    "    def judge_all(pos, neg):\n",
    "        return neg == 0\n",
    "\n",
    "    def __init__(self, iterable, *funcs, judge=judge_any):\n",
    "        self.n = 0\n",
    "        self.iterable = iterable\n",
    "        self.funcs = funcs\n",
    "        self.lst = []\n",
    "        self.judge = judge\n",
    "                \n",
    "    def __iter__(self):\n",
    "        for i in self.iterable:\n",
    "            self.pos = 0\n",
    "            self.neg = 0\n",
    "            for f in self.funcs:\n",
    "                if f(i):\n",
    "                    self.pos += 1\n",
    "                else:\n",
    "                    self.neg += 1\n",
    "                    \n",
    "            if self.judge(self.pos, self.neg):\n",
    "                yield i\n",
    "        return self\n",
    "    \n",
    "a = [i for i in range(31)] # [0, 1, 2, ... , 30]\n",
    "\n",
    "print(list(multifilter(a, mul2, mul3, mul5))) \n",
    "# [0, 2, 3, 4, 5, 6, 8, 9, 10, 12, 14, 15, 16, 18, 20, 21, 22, 24, 25, 26, 27, 28, 30]"
   ]
  },
  {
   "cell_type": "code",
   "execution_count": null,
   "metadata": {},
   "outputs": [],
   "source": [
    "for i in self.iterable:\n",
    "            self.pos = 0\n",
    "            self.neg = 0\n",
    "            for f in self.funcs:\n",
    "                if f(i):\n",
    "                    self.pos += 1\n",
    "                else:\n",
    "                    self.neg += 1\n",
    "            if self.judge(self.pos, self.neg):\n",
    "                self.lst.append(i)\n",
    "            if i == len(self.iterable) - 1:\n",
    "                raise StopIteration\n",
    "                finally:\n",
    "                    return self.lst"
   ]
  },
  {
   "cell_type": "code",
   "execution_count": 56,
   "metadata": {},
   "outputs": [
    {
     "name": "stdout",
     "output_type": "stream",
     "text": [
      "0.5\n",
      "1.0\n",
      "1.5\n",
      "2.0\n",
      "2.5\n"
     ]
    }
   ],
   "source": [
    "class MyList:\n",
    "    def __init__(self, lst):\n",
    "        self.iterable = lst\n",
    "        self.index = 0\n",
    "\n",
    "    def __iter__(self):\n",
    "        return self\n",
    "\n",
    "    def f2(self, n):\n",
    "        return n / 2\n",
    "\n",
    "    def __next__(self):\n",
    "    \n",
    "        if self.index < len(self.iterable):\n",
    "            self.index += 1\n",
    "            return self.f2(self.iterable[self.index - 1])\n",
    "        raise StopIteration\n",
    "\n",
    "l = MyList([1, 2, 3, 4, 5])\n",
    "\n",
    "for i in l:\n",
    "    print(i)"
   ]
  },
  {
   "cell_type": "code",
   "execution_count": 61,
   "metadata": {},
   "outputs": [
    {
     "name": "stdout",
     "output_type": "stream",
     "text": [
      "[0, 1, 2, 3, 4, 5, 6, 7, 8, 9, 10, 11, 12, 13, 14, 15, 16, 17, 18, 19, 20, 21, 22, 23, 24, 25, 26, 27, 28, 29, 30]\n"
     ]
    }
   ],
   "source": [
    "a = [i for i in range(31)]\n",
    "print(a)"
   ]
  },
  {
   "cell_type": "code",
   "execution_count": null,
   "metadata": {},
   "outputs": [],
   "source": []
  }
 ],
 "metadata": {
  "kernelspec": {
   "display_name": "Python 3",
   "language": "python",
   "name": "python3"
  },
  "language_info": {
   "codemirror_mode": {
    "name": "ipython",
    "version": 3
   },
   "file_extension": ".py",
   "mimetype": "text/x-python",
   "name": "python",
   "nbconvert_exporter": "python",
   "pygments_lexer": "ipython3",
   "version": "3.8.1"
  }
 },
 "nbformat": 4,
 "nbformat_minor": 4
}
