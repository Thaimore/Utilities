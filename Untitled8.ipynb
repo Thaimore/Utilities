{
 "cells": [
  {
   "cell_type": "code",
   "execution_count": 20,
   "metadata": {
    "scrolled": true
   },
   "outputs": [
    {
     "name": "stdout",
     "output_type": "stream",
     "text": [
      "0\n",
      "0 программистов\n"
     ]
    }
   ],
   "source": [
    "n = int(input())\n",
    "\n",
    "if (n % 100 == 11) or (n % 100 == 12) or (n % 100 == 13) or (n % 100 == 14) or (5 <= n <= 14) or (n == 0) :\n",
    "    print (n, \"программистов\")\n",
    "if (2 <= n <= 4) or (n % 10 == 2) or (n % 10 == 3) or (n % 10 == 4) :\n",
    "    print (n, \"программиста\")\n",
    "if (n == 1) or ((n % 10 == 1) and (n > 11)) :\n",
    "    print (n, \"программист\")\n",
    "if ((n % 10 == 5) or (n % 10 == 6) or (n % 10 == 7) or (n % 10 == 8) or (n % 10 == 9)) and (n > 14) :\n",
    "    print (n, \"программистов\")"
   ]
  },
  {
   "cell_type": "code",
   "execution_count": 21,
   "metadata": {},
   "outputs": [
    {
     "name": "stdout",
     "output_type": "stream",
     "text": [
      "-1\n"
     ]
    }
   ],
   "source": [
    "n = int(input())\n",
    "\n",
    "if ((n % 100 == 11) or (n % 100 == 12) or (n % 100 == 13) or (n % 100 == 14) or (5 <= n <= 14) or (n == 0)) and (not n < 0) :\n",
    "    print (n, \"программистов\")\n",
    "if ((2 <= n <= 4) or (n % 10 == 2) or (n % 10 == 3) or (n % 10 == 4)) and (not n < 0) :\n",
    "    print (n, \"программиста\")\n",
    "if ((n == 1) or ((n % 10 == 1) and (n > 11))) and (not n < 0) :\n",
    "    print (n, \"программист\")\n",
    "if (((n % 10 == 5) or (n % 10 == 6) or (n % 10 == 7) or (n % 10 == 8) or (n % 10 == 9)) and (n > 14)) and (not n < 0) :\n",
    "    print (n, \"программистов\")"
   ]
  },
  {
   "cell_type": "code",
   "execution_count": 63,
   "metadata": {},
   "outputs": [
    {
     "name": "stdout",
     "output_type": "stream",
     "text": [
      "20\n",
      "20 программистов\n"
     ]
    }
   ],
   "source": [
    "n = int(input())\n",
    "\n",
    "if ((n % 100 == 11) or (n % 100 == 12) or (n % 100 == 13) or (n % 100 == 14)) and (0 < n ) :\n",
    "    print (int(n), \"программистов\")\n",
    "if ((5 <= n <= 14) or (n == 0) or (n % 100 == 0) or (n % 10 == 0)) and (0<= n) :\n",
    "    print (int(n), \"программистов\")\n",
    "if ((2 <= n <= 4) or (n % 10 == 2) or (n % 10 == 3) or (n % 10 == 4)) and (0 < n ) :\n",
    "    print (int(n), \"программиста\")\n",
    "if ((n == 1) or ((n % 10 == 1) and (n > 11))) and (0 < n ) :\n",
    "    print (int(n), \"программист\")\n",
    "if (((n % 10 == 5) or (n % 10 == 6) or (n % 10 == 7) or (n % 10 == 8) or (n % 10 == 9)) and (n > 14)) and (0 < n) :\n",
    "    print (int(n), \"программистов\")"
   ]
  },
  {
   "cell_type": "code",
   "execution_count": 69,
   "metadata": {},
   "outputs": [
    {
     "name": "stdout",
     "output_type": "stream",
     "text": [
      "1000\n",
      "10\n"
     ]
    }
   ],
   "source": [
    "n = int(input())\n",
    "n = n // 100\n",
    "print (n)"
   ]
  },
  {
   "cell_type": "code",
   "execution_count": null,
   "metadata": {},
   "outputs": [],
   "source": []
  }
 ],
 "metadata": {
  "kernelspec": {
   "display_name": "Python 3",
   "language": "python",
   "name": "python3"
  },
  "language_info": {
   "codemirror_mode": {
    "name": "ipython",
    "version": 3
   },
   "file_extension": ".py",
   "mimetype": "text/x-python",
   "name": "python",
   "nbconvert_exporter": "python",
   "pygments_lexer": "ipython3",
   "version": "3.8.1"
  }
 },
 "nbformat": 4,
 "nbformat_minor": 4
}
