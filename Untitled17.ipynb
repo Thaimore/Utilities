{
 "cells": [
  {
   "cell_type": "code",
   "execution_count": null,
   "metadata": {},
   "outputs": [
    {
     "name": "stdout",
     "output_type": "stream",
     "text": [
      " \t 2 \t 1\n",
      " \t 2 \t 2\n",
      " \t 2 \t 3\n",
      " \t 2 \t 4\n"
     ]
    }
   ],
   "source": [
    "a = 2\n",
    "b = 4\n",
    "c = 5\n",
    "d = 7\n",
    "e = str('')\n",
    "f = 0\n",
    "while (a != b) or (c != d):\n",
    "    if e == '' :\n",
    "        while f != b :\n",
    "            f += 2\n",
    "            print (e,'\\t',a,'\\t', f ) "
   ]
  },
  {
   "cell_type": "code",
   "execution_count": null,
   "metadata": {},
   "outputs": [],
   "source": []
  }
 ],
 "metadata": {
  "kernelspec": {
   "display_name": "Python 3",
   "language": "python",
   "name": "python3"
  },
  "language_info": {
   "codemirror_mode": {
    "name": "ipython",
    "version": 3
   },
   "file_extension": ".py",
   "mimetype": "text/x-python",
   "name": "python",
   "nbconvert_exporter": "python",
   "pygments_lexer": "ipython3",
   "version": "3.8.1"
  }
 },
 "nbformat": 4,
 "nbformat_minor": 4
}
