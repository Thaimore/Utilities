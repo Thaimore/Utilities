{
 "cells": [
  {
   "cell_type": "code",
   "execution_count": 52,
   "metadata": {},
   "outputs": [
    {
     "name": "stdout",
     "output_type": "stream",
     "text": [
      "C:\\Users\\Thaimore\\AppData\\Local\\Temp\n",
      "C:\\Users\\Thaimore\\AppData\\Local\\Temp\\tmphcw2om62\n",
      "None\n"
     ]
    }
   ],
   "source": [
    "import os\n",
    "import tempfile\n",
    "import sys\n",
    "\n",
    "inp = list(sys.argv)\n",
    "\n",
    "dictionary = {}\n",
    "\n",
    "storage_path = os.path.join(tempfile.gettempdir(),\n",
    "                            'storage.data')\n",
    "a = tempfile.NamedTemporaryFile(delete=False)\n",
    "def key_add(key, item):\n",
    "    global dictionary\n",
    "    if key in dictionary:\n",
    "        dictionary[key] += (item,)\n",
    "    else:\n",
    "        update = {key : (item,)}\n",
    "        dictionary.update(update)\n",
    "    return dictionary\n",
    "        \n",
    "def key_find(key):\n",
    "    global dictionary\n",
    "    if key in dictionary:\n",
    "        print(*dictionary[key], sep=', ')\n",
    "    else:\n",
    "        print(\"None\")\n",
    "\n",
    "if len(inp) == 5:\n",
    "    key_add(inp[2], inp[4])\n",
    "else:\n",
    "    key_find(inp[2])\n",
    "\n",
    "    \n",
    "\n",
    "if os.stat(a.name).st_size == 0: \n",
    "    with open(a.name, 'w') as f:\n",
    "        f.write(str(dictionary))\n",
    "        f.write('\\n')\n",
    "        f.close()\n",
    "if os.stat(a.name).st_size != 0:\n",
    "    with open(a.name, 'a') as f:\n",
    "        f.write(str(dictionary))\n",
    "        f.write('\\n')\n",
    "        f.close\n"
   ]
  },
  {
   "cell_type": "code",
   "execution_count": 33,
   "metadata": {},
   "outputs": [
    {
     "name": "stdout",
     "output_type": "stream",
     "text": [
      "Yes\n",
      "No\n"
     ]
    }
   ],
   "source": [
    "a = {1 : 2, 2 : 3}\n",
    "if 1 in a:\n",
    "    print('Yes')\n",
    "if 3 in a:\n",
    "    print('Yes')\n",
    "else:\n",
    "    print('No')"
   ]
  },
  {
   "cell_type": "code",
   "execution_count": null,
   "metadata": {},
   "outputs": [],
   "source": []
  }
 ],
 "metadata": {
  "kernelspec": {
   "display_name": "Python 3",
   "language": "python",
   "name": "python3"
  },
  "language_info": {
   "codemirror_mode": {
    "name": "ipython",
    "version": 3
   },
   "file_extension": ".py",
   "mimetype": "text/x-python",
   "name": "python",
   "nbconvert_exporter": "python",
   "pygments_lexer": "ipython3",
   "version": "3.8.1"
  }
 },
 "nbformat": 4,
 "nbformat_minor": 4
}
