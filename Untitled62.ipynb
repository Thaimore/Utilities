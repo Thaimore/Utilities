{
 "cells": [
  {
   "cell_type": "code",
   "execution_count": 29,
   "metadata": {},
   "outputs": [],
   "source": [
    "import requests\n",
    "from lxml import etree as ET\n",
    "\n",
    "start_ref = 'https://stepic.org/media/attachments/lesson/24472/sample0.html'\n",
    "end_ref = 'https://stepic.org/media/attachments/lesson/24472/sample2.html'\n",
    "current_level = 0\n",
    "def parser(ref, level):\n",
    "    global end_ref\n",
    "    current_ref = requests.get(ref)\n",
    "    new_ref = ET.fromstring(current_ref.text)\n",
    "    level += 1\n",
    "    if level >= 2 and end_ref in list(new_ref):\n",
    "        print('Yes')\n",
    "        return\n",
    "    else:\n",
    "        for i in new_ref:\n",
    "            parser(i.attrib['href'], level)\n",
    "\n",
    "parser(start_ref, current_level)"
   ]
  },
  {
   "cell_type": "code",
   "execution_count": null,
   "metadata": {},
   "outputs": [],
   "source": [
    "while True:\n",
    "    current_ref = requests.get(start_ref)\n",
    "    new_ref = ET.fromstring(current_ref.text)\n",
    "    for i in new_ref"
   ]
  },
  {
   "cell_type": "code",
   "execution_count": null,
   "metadata": {},
   "outputs": [],
   "source": [
    "import requests\n",
    "from lxml import etree as ET\n",
    "\n",
    "inp = str(input())\n",
    "end_list = []\n",
    "ref = requests.get(inp).text.splitlines()\n",
    "for new_ref in ref:\n",
    "    a = ET.fromstring(new_ref)\n",
    "    if requests.get(a.attrib['href']):\n",
    "        end_list += [new_ref]\n",
    "print(sorted(end_list))    "
   ]
  },
  {
   "cell_type": "code",
   "execution_count": 32,
   "metadata": {},
   "outputs": [
    {
     "name": "stdout",
     "output_type": "stream",
     "text": [
      "<Response [200]>\n"
     ]
    }
   ],
   "source": [
    "req = requests.get('https://ums.usmf.md/')\n",
    "print(req)"
   ]
  },
  {
   "cell_type": "code",
   "execution_count": null,
   "metadata": {},
   "outputs": [],
   "source": []
  }
 ],
 "metadata": {
  "kernelspec": {
   "display_name": "Python 3",
   "language": "python",
   "name": "python3"
  },
  "language_info": {
   "codemirror_mode": {
    "name": "ipython",
    "version": 3
   },
   "file_extension": ".py",
   "mimetype": "text/x-python",
   "name": "python",
   "nbconvert_exporter": "python",
   "pygments_lexer": "ipython3",
   "version": "3.8.1"
  }
 },
 "nbformat": 4,
 "nbformat_minor": 4
}
