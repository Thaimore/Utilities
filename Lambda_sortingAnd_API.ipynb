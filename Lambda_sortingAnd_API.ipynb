{
 "cells": [
  {
   "cell_type": "code",
   "execution_count": 23,
   "metadata": {},
   "outputs": [
    {
     "name": "stdout",
     "output_type": "stream",
     "text": [
      "Boring\n",
      "Interesting\n",
      "Interesting\n",
      "Interesting\n",
      "Boring\n",
      "Interesting\n",
      "Interesting\n",
      "Interesting\n",
      "Boring\n",
      "Boring\n",
      "Interesting\n",
      "Interesting\n",
      "Interesting\n",
      "Interesting\n",
      "Interesting\n"
     ]
    }
   ],
   "source": [
    "import requests\n",
    "import json\n",
    "\n",
    "with open('dataset_3.txt', 'r') as f:\n",
    "    c = f.read().split()\n",
    "    for interest in c:\n",
    "        num = 'http://numbersapi.com/{}/math?json=true'.format(interest)\n",
    "        req = requests.get(num)\n",
    "        a = req.text\n",
    "        \n",
    "        if json.loads(a)['found']:\n",
    "            print('Interesting')\n",
    "        else:\n",
    "            print('Boring')\n"
   ]
  },
  {
   "cell_type": "code",
   "execution_count": 20,
   "metadata": {},
   "outputs": [
    {
     "name": "stdout",
     "output_type": "stream",
     "text": [
      "['964', '900', '966', '968', '905', '937', '908', '974', '975', '945', '946', '982', '985', '953', '956']\n",
      "964\n",
      "900\n",
      "966\n",
      "968\n",
      "905\n",
      "937\n",
      "908\n",
      "974\n",
      "975\n",
      "945\n",
      "946\n",
      "982\n",
      "985\n",
      "953\n",
      "956\n"
     ]
    }
   ],
   "source": [
    "with open('dataset_3.txt', 'r') as f:\n",
    "    c = f.read().split()\n",
    "    print(c)\n",
    "    for interest in c:\n",
    "        print(interest)"
   ]
  },
  {
   "cell_type": "code",
   "execution_count": 42,
   "metadata": {},
   "outputs": [
    {
     "name": "stdout",
     "output_type": "stream",
     "text": [
      "Abraham de Bruyn\n",
      "Abraham van Diepenbeeck\n",
      "Abraham Roentgen\n",
      "Abildgaard Nicolai\n",
      "Ackermann Max\n",
      "Abelard Gesner\n",
      "Aarnio Eero\n",
      "Abad Pacita\n",
      "Abdelke Youssef\n",
      "Abait Luciana\n",
      "Aberle Christian\n",
      "Syed Abdullah  M. I.\n",
      "Aaron Flint Jamison\n",
      "Abrahams Johnny\n",
      "Adam D. Miller\n"
     ]
    }
   ],
   "source": [
    "import requests\n",
    "import json\n",
    "\n",
    "client_id = '9246724a4c206f09b278'\n",
    "client_secret = '36f8ee866ddb039794d0be9ecd7b9c3f'\n",
    "name_lst = {}\n",
    "\n",
    "# инициируем запрос на получение токена\n",
    "r = requests.post(\"https://api.artsy.net/api/tokens/xapp_token\",\n",
    "                  data={\n",
    "                      \"client_id\": client_id,\n",
    "                      \"client_secret\": client_secret\n",
    "                  })\n",
    "\n",
    "# разбираем ответ сервера\n",
    "j = json.loads(r.text)\n",
    "\n",
    "# достаем токен\n",
    "token = j[\"token\"]\n",
    "\n",
    "# создаем заголовок, содержащий наш токен\n",
    "headers = {\"X-Xapp-Token\" : token}\n",
    "# инициируем запрос с заголовком\n",
    "with open('dataset_4.txt', 'r') as f:\n",
    "    g = f.read().split()\n",
    "    for resp in g:\n",
    "        s = \"https://api.artsy.net/api/artists/{}\".format(resp)\n",
    "        r = requests.get(s, headers=headers)\n",
    "        j = json.loads(r.text)\n",
    "        \n",
    "        #print(j)\n",
    "        a = {j['sortable_name'] : j['birthday']}\n",
    "        name_lst.update(a)\n",
    "l = sorted(name_lst.items(), key=lambda x: (x[1], x[0]))\n",
    "for i in l:\n",
    "    print(i[0])"
   ]
  },
  {
   "cell_type": "code",
   "execution_count": null,
   "metadata": {},
   "outputs": [],
   "source": []
  }
 ],
 "metadata": {
  "kernelspec": {
   "display_name": "Python 3",
   "language": "python",
   "name": "python3"
  },
  "language_info": {
   "codemirror_mode": {
    "name": "ipython",
    "version": 3
   },
   "file_extension": ".py",
   "mimetype": "text/x-python",
   "name": "python",
   "nbconvert_exporter": "python",
   "pygments_lexer": "ipython3",
   "version": "3.8.1"
  }
 },
 "nbformat": 4,
 "nbformat_minor": 4
}
