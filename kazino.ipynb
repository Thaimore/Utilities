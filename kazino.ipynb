{
 "cells": [
  {
   "cell_type": "code",
   "execution_count": null,
   "metadata": {},
   "outputs": [],
   "source": [
    "with open(r'D:\\python\\text.txt', 'r') as f :\n",
    "    f = f.read().replace('\\n',';').split(';')\n",
    "with open(r'D:\\python\\output.txt', 'w') as d :\n",
    "    for i in range (0,len(f),4) :\n",
    "        c = int(f[i+1]) + int(f[i+2]) + int(f[i+3])\n",
    "        c = float(c) / 3\n",
    "        c = str(c)\n",
    "        d.write(c)\n",
    "        d.write('\\n')\n",
    "    for i in range (1,4) :\n",
    "        a = 0\n",
    "        c = 0\n",
    "        for n in range (i,len(f),4) :\n",
    "            a += int(f[n])\n",
    "            c += 1\n",
    "        a = float(a) / c\n",
    "        a = str(a)\n",
    "        d.write(a)\n",
    "        d.write(' ')"
   ]
  }
 ],
 "metadata": {
  "kernelspec": {
   "display_name": "Python 3",
   "language": "python",
   "name": "python3"
  },
  "language_info": {
   "codemirror_mode": {
    "name": "ipython",
    "version": 3
   },
   "file_extension": ".py",
   "mimetype": "text/x-python",
   "name": "python",
   "nbconvert_exporter": "python",
   "pygments_lexer": "ipython3",
   "version": "3.8.3"
  }
 },
 "nbformat": 4,
 "nbformat_minor": 4
}
