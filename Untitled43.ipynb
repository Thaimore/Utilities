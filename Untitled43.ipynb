{
 "cells": [
  {
   "cell_type": "code",
   "execution_count": 20,
   "metadata": {},
   "outputs": [
    {
     "name": "stdout",
     "output_type": "stream",
     "text": [
      "dUpddabcY dbbadXaTU dbbadXaTU TTXcpcpbb TXpX dXbdcbX UdcXYaaZ XYXcpZdd XdpX XZTXY YYaUUdcad dUpddabcY pcac ZUpZZdYXX ZaYZaXdUp TTZaUdU aZUbddcU TTXcpcpbb Y TXcTYbXUa ZcXcY Yp aU cbZpXdYc TYp dXbdcbX TTXcpcpbb Zbcpdp dbbadXaTU cT dbbadXaTU TZcYXdp b YcapXa ZaYZaXdUp TYp XZTXY X pUT bdccZcUb bdccZcUb abacUUbd bdccZcUb abacUUbd TXccd bdccZcUb U TXccd bdccZcUb bdccZcUb pcpbZcYpX Zbd cXaYcaUTX c cXaYcaUTX Zbd TaYcZpTb YYZb pU aYXbbbccZ aYbXpdp aYXbbbccZ bdcUdT paX YYZb Xc pUYpZcd cXaYcaUTX aYYpapT ZbYaZUdZU dZXpXUZTp dXXYZT pUbacUXT bcUYTUXUT TU cdZpU ZZUX bcUYTUXUT ZYaXT bcUYTUXUT YZYXT aTd Zcdpc Xpd YaXcbb TdacYp ZYaXT XdZbccU dTpYpZ YZdpXpUp cbZ TTTUYdd dcUUTZba YUpZXTcp cbZ bcYX acYX UapT cbZ dTpYpZ cbZ T bXYUpUpac cbXXa ZadZYTUTX bb cbZ ZZ bcXaZpZ UUbXd TZaXaY Y aUTaZZU bpZX pXbpXcdb bpZX pTUU bb ZabbbY XaTbX bYYX d bYYX UaYUdcT d TbU apUYcpbT YdYZpcTX Yb acpXUc YUU aYbdU ZZacabaT XaTbX UbXYUTZbd YU TbYb YU aYbdU TU TXTXcZYU Z pa UbpXXXpXX dT cdb UXXTbac UXXTbac UXXTbac UXXTbac UXXTbac cp YdXbpZdpp bpaZaUZ cdb cdb bbp TaUc abZcUZpX XpdbdXdX bpaZaUZ UXXTbac Zd aZYYU pbZbcbcdY ccTXYc TpXc dZpX YdXbpZdpp ZYaYYYU XTa UXXTbac UabZTYa adbc UpddpUUYc caTcd U UXXTbac caTcd adbc aZYYU UpddpUUYc Y XdpYUTXad TTbdcb UZaddpZUc aZYYU aZYYU UXXTbac aTbaYbcpb cdZd aZYYU ZapUTpa XbZpXZUZc TcT XYdb b UUpZ pT dXUXZbU TbUU dpTUZcUY adbdp dXUXZbU dpTUZcUY pYXbbcc TaZZdcZaZ Zccdc XZbTp TbUU cc bZYZUZY da ZT YbU bYXpZ pdUU cdaTTT TZdXT pZTpZbX dpTUZcUY TdpdZ pTdpU cYYY Tcac T dpTUZcUY TaZZdcZaZ bYXpZ cYXTb TbUU pacppUY TaZZdcZaZ Tb ZUUbUabb b p UYTpTZb pZTpZbX TaZZdcZaZ Zccdc XUpdbZ Y Zccdc adbYbUp bXaUYdadZ dXdaYX aYbYZdXc bXaUYdadZ bXaUYdadZ adbYbUp aYbYZdXc pUbZTaYb pUbZTaYb aYbYZdXc ZUY bc TaaZc ZXYaT c bTpUbZZUY UbTT bUa ZZYpYd TTapp bYU XZTX pUbZTaYb\n"
     ]
    },
    {
     "ename": "ValueError",
     "evalue": "invalid literal for int() with base 10: ''",
     "output_type": "error",
     "traceback": [
      "\u001b[1;31m---------------------------------------------------------------------------\u001b[0m",
      "\u001b[1;31mValueError\u001b[0m                                Traceback (most recent call last)",
      "\u001b[1;32m<ipython-input-20-e0f8da4a5020>\u001b[0m in \u001b[0;36m<module>\u001b[1;34m\u001b[0m\n\u001b[0;32m     10\u001b[0m     \u001b[1;32mif\u001b[0m \u001b[0ma\u001b[0m\u001b[1;33m[\u001b[0m\u001b[0mi\u001b[0m\u001b[1;33m]\u001b[0m \u001b[1;33m>\u001b[0m \u001b[1;34m'A'\u001b[0m \u001b[1;33m:\u001b[0m\u001b[1;33m\u001b[0m\u001b[1;33m\u001b[0m\u001b[0m\n\u001b[0;32m     11\u001b[0m         \u001b[0mc\u001b[0m \u001b[1;33m+=\u001b[0m \u001b[0ma\u001b[0m\u001b[1;33m[\u001b[0m\u001b[0mi\u001b[0m\u001b[1;33m]\u001b[0m\u001b[1;33m\u001b[0m\u001b[1;33m\u001b[0m\u001b[0m\n\u001b[1;32m---> 12\u001b[1;33m         \u001b[0md\u001b[0m \u001b[1;33m=\u001b[0m \u001b[0md\u001b[0m \u001b[1;33m+\u001b[0m \u001b[1;33m(\u001b[0m\u001b[0mc\u001b[0m \u001b[1;33m*\u001b[0m \u001b[0mint\u001b[0m\u001b[1;33m(\u001b[0m\u001b[0mb\u001b[0m\u001b[1;33m)\u001b[0m\u001b[1;33m)\u001b[0m\u001b[1;33m\u001b[0m\u001b[1;33m\u001b[0m\u001b[0m\n\u001b[0m\u001b[0;32m     13\u001b[0m     \u001b[0mb\u001b[0m \u001b[1;33m=\u001b[0m \u001b[0mstr\u001b[0m\u001b[1;33m(\u001b[0m\u001b[1;34m''\u001b[0m\u001b[1;33m)\u001b[0m\u001b[1;33m\u001b[0m\u001b[1;33m\u001b[0m\u001b[0m\n\u001b[0;32m     14\u001b[0m     \u001b[0mc\u001b[0m \u001b[1;33m=\u001b[0m \u001b[0mstr\u001b[0m\u001b[1;33m(\u001b[0m\u001b[1;34m''\u001b[0m\u001b[1;33m)\u001b[0m\u001b[1;33m\u001b[0m\u001b[1;33m\u001b[0m\u001b[0m\n",
      "\u001b[1;31mValueError\u001b[0m: invalid literal for int() with base 10: ''"
     ]
    }
   ],
   "source": []
  },
  {
   "cell_type": "code",
   "execution_count": 125,
   "metadata": {},
   "outputs": [
    {
     "name": "stdout",
     "output_type": "stream",
     "text": [
      "['Elmers', '64', '47', '71', 'Jones', '81', '38', '77', 'Oliver', '30', '31', '37', 'Aldridge', '97', '43', '55', 'Youmans', '98', '45', '90', 'Molligan', '48', '78', '49', 'Douglas', '95', '27', '96', 'Hamphrey', '89', '86', '84', 'Stevenson', '81', '67', '81', 'Benson', '95', '55', '62', 'Hodges', '83', '92', '66', 'Eddington', '92', '92', '44', 'Lewin', '40', '39', '28', 'Abramson', '41', '63', '37', 'Little', '44', '46', '32', 'Francis', '29', '67', '90', 'Brown', '46', '77', '71', 'Farrell', '56', '63', '87', 'MacDonald', '70', '100', '96', 'Goodman', '44', '36', '46', 'WifKinson', '65', '39', '96', 'Smith', '40', '81', '95', 'Fulton', '32', '45', '62', 'Simpson', '56', '52', '45', 'Taft', '96', '46', '98', 'Barnes', '33', '46', '34', 'Bawerman', '25', '41', '96', 'Ryder', '45', '65', '82', 'Neal', '76', '77', '64', 'Roberts', '40', '57', '31', 'Erickson', '97', '87', '43', 'Peacock', '98', '87', '85', 'Watson', '36', '71', '45', 'Oswald', '74', '48', '78', 'Pearcy', '50', '50', '88', 'Cramer', '50', '56', '71', 'Blare', '89', '35', '52', 'Marlow', '61', '94', '54', 'Mansfield', '54', '42', '52', 'Vance', '48', '51', '33', 'Dutton', '79', '75', '84', 'Wallace', '33', '70', '98', 'Creighton', '64', '55', '96', 'Wesley', '82', '48', '66', 'Sherlock', '68', '27', '98', 'Gustman', '50', '62', '50', 'Austin', '28', '80', '82']\n",
      "Elmers\n",
      "188\n"
     ]
    }
   ],
   "source": [
    "f = open(r'D:\\python\\text.txt', 'r')\n",
    "l = f.read().replace('\\n',';').split(';')\n",
    "print (l)\n",
    "print (l[0])\n",
    "print (len(l))\n",
    "for i in range (0,len(l),4) :\n",
    "    "
   ]
  },
  {
   "cell_type": "code",
   "execution_count": 152,
   "metadata": {},
   "outputs": [
    {
     "name": "stdout",
     "output_type": "stream",
     "text": [
      "['Elmers', '64', '47', '71', 'Jones', '81', '38', '77', 'Oliver', '30', '31', '37', 'Aldridge', '97', '43', '55', 'Youmans', '98', '45', '90', 'Molligan', '48', '78', '49', 'Douglas', '95', '27', '96', 'Hamphrey', '89', '86', '84', 'Stevenson', '81', '67', '81', 'Benson', '95', '55', '62', 'Hodges', '83', '92', '66', 'Eddington', '92', '92', '44', 'Lewin', '40', '39', '28', 'Abramson', '41', '63', '37', 'Little', '44', '46', '32', 'Francis', '29', '67', '90', 'Brown', '46', '77', '71', 'Farrell', '56', '63', '87', 'MacDonald', '70', '100', '96', 'Goodman', '44', '36', '46', 'WifKinson', '65', '39', '96', 'Smith', '40', '81', '95', 'Fulton', '32', '45', '62', 'Simpson', '56', '52', '45', 'Taft', '96', '46', '98', 'Barnes', '33', '46', '34', 'Bawerman', '25', '41', '96', 'Ryder', '45', '65', '82', 'Neal', '76', '77', '64', 'Roberts', '40', '57', '31', 'Erickson', '97', '87', '43', 'Peacock', '98', '87', '85', 'Watson', '36', '71', '45', 'Oswald', '74', '48', '78', 'Pearcy', '50', '50', '88', 'Cramer', '50', '56', '71', 'Blare', '89', '35', '52', 'Marlow', '61', '94', '54', 'Mansfield', '54', '42', '52', 'Vance', '48', '51', '33', 'Dutton', '79', '75', '84', 'Wallace', '33', '70', '98', 'Creighton', '64', '55', '96', 'Wesley', '82', '48', '66', 'Sherlock', '68', '27', '98', 'Gustman', '50', '62', '50', 'Austin', '28', '80', '82']\n"
     ]
    }
   ],
   "source": [
    "with open(r'D:\\python\\text.txt', 'r') as f :\n",
    "    f = f.read().replace('\\n',';').split(';')\n",
    "print (f)\n",
    "with open(r'D:\\python\\output.txt', 'w') as d :\n",
    "    for i in range (0,len(f),4) :\n",
    "        c = int(f[i+1]) + int(f[i+2]) + int(f[i+3])\n",
    "        c = float(c) / 3\n",
    "        c = str(c)\n",
    "        d.write(c)\n",
    "        d.write('\\n')\n",
    "    for i in range (1,4) :\n",
    "        a = 0\n",
    "        c = 0\n",
    "        for n in range (i,len(f),4) :\n",
    "            a += int(f[n])\n",
    "            c += 1\n",
    "        a = float(a) / c\n",
    "        a = str(a)\n",
    "        e.write(a)\n",
    "        e.write(' ')"
   ]
  },
  {
   "cell_type": "code",
   "execution_count": null,
   "metadata": {},
   "outputs": [],
   "source": []
  }
 ],
 "metadata": {
  "kernelspec": {
   "display_name": "Python 3",
   "language": "python",
   "name": "python3"
  },
  "language_info": {
   "codemirror_mode": {
    "name": "ipython",
    "version": 3
   },
   "file_extension": ".py",
   "mimetype": "text/x-python",
   "name": "python",
   "nbconvert_exporter": "python",
   "pygments_lexer": "ipython3",
   "version": "3.8.1"
  }
 },
 "nbformat": 4,
 "nbformat_minor": 4
}
