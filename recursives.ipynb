{
 "cells": [
  {
   "cell_type": "code",
   "execution_count": 12,
   "metadata": {},
   "outputs": [
    {
     "name": "stdout",
     "output_type": "stream",
     "text": [
      "None\n",
      "{1: 2, 3: 4, 2: 3}\n"
     ]
    }
   ],
   "source": [
    "a = {1 : 2, 3 : 4}\n",
    "print(a.get(2))\n",
    "c = {2:3}\n",
    "a.update(c)\n",
    "print (a)"
   ]
  },
  {
   "cell_type": "code",
   "execution_count": null,
   "metadata": {},
   "outputs": [],
   "source": [
    "n = int(input())\n",
    "par = [['global', 'None']]\n",
    "spaces = [['global']]\n",
    "def create (x,y):\n",
    "    global par, spaces\n",
    "    par += [[x,y]]\n",
    "    spaces += [[x]]\n",
    "    print (par, '\\n', spaces)\n",
    "    "
   ]
  },
  {
   "cell_type": "code",
   "execution_count": 18,
   "metadata": {},
   "outputs": [
    {
     "name": "stdout",
     "output_type": "stream",
     "text": [
      "2\n"
     ]
    }
   ],
   "source": [
    "a = {1 : 2, 3 : 4}\n",
    "b = {3 : 1}\n",
    "print (a[b[3]])"
   ]
  },
  {
   "cell_type": "code",
   "execution_count": 49,
   "metadata": {},
   "outputs": [
    {
     "name": "stdout",
     "output_type": "stream",
     "text": [
      "9\n",
      "add global a\n",
      "[['global', 'a']]\n",
      "create foo global\n",
      "[['global', 'None'], ['foo', 'global']]\n",
      "[['global', 'a'], ['foo']]\n",
      "add foo b\n",
      "[['global', 'a'], ['foo', 'b']]\n",
      "get foo a\n",
      "global\n",
      "None\n",
      "get foo c\n",
      "None\n",
      "create bar foo\n",
      "[['global', 'None'], ['foo', 'global'], ['bar', 'foo']]\n",
      "[['global', 'a'], ['foo', 'b'], ['bar']]\n",
      "add bar a\n",
      "[['global', 'a'], ['foo', 'b'], ['bar', 'a']]\n",
      "get bar a\n",
      "global\n",
      "None\n",
      "get bar b\n",
      "foo\n",
      "None\n"
     ]
    }
   ],
   "source": [
    "n = int(input())\n",
    "par = [['global', 'None']]\n",
    "spaces = [['global']]\n",
    "def create (x,y):\n",
    "    global par, spaces\n",
    "    par += [[x,y]]\n",
    "    spaces += [[x]]\n",
    "    print (par)\n",
    "    print (spaces)\n",
    "def add (x,y) :\n",
    "    global spaces\n",
    "    for i in range (len(spaces)):\n",
    "        if x in spaces[i] :\n",
    "            spaces[i] += [y]\n",
    "    print (spaces)\n",
    "\n",
    "def get (x,y) :\n",
    "    global par, spaces\n",
    "    for i in range (-1,-len(spaces),-1):\n",
    "        if y in spaces[i] :\n",
    "            print (spaces[i][0])\n",
    "            break\n",
    "    if y not in spaces :\n",
    "        print ('None')\n",
    "            \n",
    "for i in range (n) :\n",
    "    inp = input().split()\n",
    "    if inp[0] == 'create' :\n",
    "        create(inp[1],inp[2])\n",
    "    elif inp[0] == 'add' :\n",
    "        add(inp[1],inp[2])\n",
    "    elif inp[0] == 'get' :\n",
    "        get(inp[1],inp[2])"
   ]
  },
  {
   "cell_type": "code",
   "execution_count": 39,
   "metadata": {},
   "outputs": [
    {
     "name": "stdout",
     "output_type": "stream",
     "text": [
      "None\n",
      "{'glob': 2}\n"
     ]
    }
   ],
   "source": [
    "par = {'glob' : None}\n",
    "print (par['glob'])\n",
    "c = {'glob' : 1}\n",
    "par.update(c)\n",
    "b = par['glob']\n",
    "par.update(b)\n",
    "print (par)"
   ]
  },
  {
   "cell_type": "code",
   "execution_count": 33,
   "metadata": {},
   "outputs": [
    {
     "name": "stdout",
     "output_type": "stream",
     "text": [
      "add global a\n"
     ]
    },
    {
     "ename": "AttributeError",
     "evalue": "'list' object has no attribute 'split'",
     "output_type": "error",
     "traceback": [
      "\u001b[1;31m---------------------------------------------------------------------------\u001b[0m",
      "\u001b[1;31mAttributeError\u001b[0m                            Traceback (most recent call last)",
      "\u001b[1;32m<ipython-input-33-dc573533c296>\u001b[0m in \u001b[0;36m<module>\u001b[1;34m\u001b[0m\n\u001b[1;32m----> 1\u001b[1;33m \u001b[0ma\u001b[0m \u001b[1;33m=\u001b[0m \u001b[0minput\u001b[0m\u001b[1;33m(\u001b[0m\u001b[1;33m)\u001b[0m\u001b[1;33m.\u001b[0m\u001b[0msplit\u001b[0m\u001b[1;33m(\u001b[0m\u001b[1;33m)\u001b[0m\u001b[1;33m.\u001b[0m\u001b[0msplit\u001b[0m\u001b[1;33m(\u001b[0m\u001b[1;34m','\u001b[0m\u001b[1;33m)\u001b[0m\u001b[1;33m\u001b[0m\u001b[1;33m\u001b[0m\u001b[0m\n\u001b[0m\u001b[0;32m      2\u001b[0m \u001b[0mprint\u001b[0m \u001b[1;33m(\u001b[0m\u001b[0ma\u001b[0m\u001b[1;33m)\u001b[0m\u001b[1;33m\u001b[0m\u001b[1;33m\u001b[0m\u001b[0m\n",
      "\u001b[1;31mAttributeError\u001b[0m: 'list' object has no attribute 'split'"
     ]
    }
   ],
   "source": [
    "a = []\n"
   ]
  },
  {
   "cell_type": "code",
   "execution_count": 51,
   "metadata": {},
   "outputs": [
    {
     "name": "stdout",
     "output_type": "stream",
     "text": [
      "9\n",
      "add global a\n",
      "create foo global\n",
      "add foo b\n",
      "get foo a\n",
      "global\n",
      "get foo c\n",
      "None\n",
      "create bar foo\n",
      "add bar a\n",
      "get bar a\n",
      "bar\n",
      "get bar b\n",
      "foo\n"
     ]
    }
   ],
   "source": [
    "n = int(input())\n",
    "par = [['global', 'None']]\n",
    "spaces = [['global']]\n",
    "def create (x,y):\n",
    "    global par, spaces\n",
    "    par += [[x,y]]\n",
    "    spaces += [[x]]\n",
    "    \n",
    "def add (x,y) :\n",
    "    global spaces\n",
    "    for i in range (len(spaces)):\n",
    "        if x in spaces[i] :\n",
    "            spaces[i] += [y]\n",
    "\n",
    "def get (x,y) :\n",
    "    global par, spaces, inp    \n",
    "    for i in range (-1,-len(spaces)-1,-1):\n",
    "        if y in spaces[i] :\n",
    "            print (spaces[i][0])\n",
    "            break\n",
    "        if (i == (-len(spaces))) and (y not in spaces[i]):\n",
    "            print ('None')\n",
    "            \n",
    "for i in range (n) :\n",
    "    inp = input().split()\n",
    "    if inp[0] == 'create' :\n",
    "        create(inp[1],inp[2])\n",
    "    elif inp[0] == 'add' :\n",
    "        add(inp[1],inp[2])\n",
    "    elif inp[0] == 'get' :\n",
    "        get(inp[1],inp[2])"
   ]
  },
  {
   "cell_type": "code",
   "execution_count": 32,
   "metadata": {},
   "outputs": [
    {
     "name": "stdout",
     "output_type": "stream",
     "text": [
      "3\n",
      "create foo global\n",
      "[['global', 'None'], ['foo', 'global']] \n",
      " [['global'], ['foo']]\n",
      "[['global', 'foo'], ['foo']]\n",
      "add foo a\n",
      "[['global'], ['foo', 'a']]\n",
      "create boo foo\n",
      "[['global', 'None'], ['foo', 'global'], ['boo', 'foo']] \n",
      " [['global'], ['foo', 'a'], ['boo']]\n",
      "[['global', 'foo'], ['foo', 'boo'], ['boo']]\n"
     ]
    }
   ],
   "source": [
    "n = int(input())\n",
    "sec = [['global']]\n",
    "par = [['global', 'None']]\n",
    "spaces = [['global']]\n",
    "def create (x,y):\n",
    "    global par, spaces, sec\n",
    "    par += [[x,y]]\n",
    "    spaces += [[x]]\n",
    "    print (par, '\\n', spaces)\n",
    "    for i in range (len(sec)) :\n",
    "        if sec[i][0] == y :\n",
    "            sec [i] += [x]\n",
    "            sec += [[x]]\n",
    "            print (sec)\n",
    "            break\n",
    "        \n",
    "def add (x,y) :\n",
    "    global spaces\n",
    "    for i in range (len(spaces)):\n",
    "        if x == spaces[i][0] :\n",
    "            spaces[i] += [y]\n",
    "            print (spaces)\n",
    "\n",
    "def get (x,y) :\n",
    "    global par, spaces, inp, names\n",
    "    #while c != inp[2] :\n",
    "        #for i in range (-1,-len(spaces)-1,-1) :\n",
    "            #if spaces[i][0] == inp[1] and spaces[i][1] == inp[2] :\n",
    "                #c = inp[2]\n",
    "                #print (spaces[i][0])\n",
    "                #break\n",
    "    c = 0\n",
    "    while c != inp[2] :\n",
    "        for i in range (-1,-len(spaces)-1,-1) :\n",
    "            if names == spaces[i][0] and inp[2] == spaces[i][1] :\n",
    "                c = spaces[i][1]\n",
    "                print (spaces[i][0])\n",
    "                break\n",
    "        names = par[names]\n",
    "        if c != inp[2] and names == None :\n",
    "            print ('None')\n",
    "            break\n",
    "    \n",
    "    \n",
    "    #for i in range (-1,-len(spaces)-1,-1):\n",
    "        #c = i\n",
    "        #if spaces[i][0] == inp[1] :\n",
    "            #break\n",
    "    #for i in range (c,-len(spaces)-1,-1):\n",
    "        #if y in spaces[i] :\n",
    "            #print (spaces[i][0])\n",
    "            #break\n",
    "        #if (i == (-len(spaces))) and (y not in spaces[i]):\n",
    "           # print ('None')\n",
    "            \n",
    "for i in range (n) :\n",
    "    inp = input().split()\n",
    "    names = inp[1]\n",
    "    if inp[0] == 'create' :\n",
    "        create(inp[1],inp[2])\n",
    "    elif inp[0] == 'add' :\n",
    "        add(inp[1],inp[2])\n",
    "    elif inp[0] == 'get' :\n",
    "        get(inp[1],inp[2])"
   ]
  },
  {
   "cell_type": "code",
   "execution_count": 28,
   "metadata": {},
   "outputs": [
    {
     "name": "stdout",
     "output_type": "stream",
     "text": [
      "False\n"
     ]
    }
   ],
   "source": [
    "a = [['scknk', 'askcnk']]\n",
    "if 'scknk' in a :\n",
    "    print ('True')\n",
    "else :\n",
    "    print ('False')"
   ]
  },
  {
   "cell_type": "code",
   "execution_count": null,
   "metadata": {},
   "outputs": [],
   "source": []
  }
 ],
 "metadata": {
  "kernelspec": {
   "display_name": "Python 3",
   "language": "python",
   "name": "python3"
  },
  "language_info": {
   "codemirror_mode": {
    "name": "ipython",
    "version": 3
   },
   "file_extension": ".py",
   "mimetype": "text/x-python",
   "name": "python",
   "nbconvert_exporter": "python",
   "pygments_lexer": "ipython3",
   "version": "3.8.1"
  }
 },
 "nbformat": 4,
 "nbformat_minor": 4
}
