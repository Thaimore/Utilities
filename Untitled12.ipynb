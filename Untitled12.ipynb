{
 "cells": [
  {
   "cell_type": "code",
   "execution_count": 12,
   "metadata": {},
   "outputs": [
    {
     "name": "stdout",
     "output_type": "stream",
     "text": [
      "999997\n",
      "Обычный\n"
     ]
    }
   ],
   "source": [
    "n = int(input())\n",
    "a = 0\n",
    "b = 0\n",
    "c = 0\n",
    "d = 0\n",
    "e = 0\n",
    "f = 0\n",
    "g = 0\n",
    "j = 0\n",
    "\n",
    "if 0 < n < 100000 :\n",
    "    b = n // 10000\n",
    "    c = (n // 1000) % 10\n",
    "    d = (n // 100)  % 10\n",
    "    e = (n // 10) % 10\n",
    "    f = (n % 10)\n",
    "    g = b + c\n",
    "    j = d + e + f\n",
    "    a = g % 10\n",
    "    b = j % 10\n",
    "    if a == b :\n",
    "        print (\"Счастливый\")\n",
    "    else :\n",
    "        print (\"Обычный\")\n",
    "elif (100000 <= n < 1000000) :\n",
    "    a = n // 100000\n",
    "    b = (n // 10000) % 10\n",
    "    c = (n // 1000) % 10\n",
    "    d = (n // 100) % 10\n",
    "    e = (n // 10) % 10\n",
    "    f = (n % 10)\n",
    "    g = a + b + c\n",
    "    j = d + e + f\n",
    "    a = g % 10\n",
    "    b = j % 10\n",
    "    if a == b :\n",
    "        print (\"Счастливый\")\n",
    "    else :\n",
    "        print (\"Обычный\")\n",
    "elif n == 0 :\n",
    "    print (\"Счастливый\")"
   ]
  },
  {
   "cell_type": "code",
   "execution_count": 13,
   "metadata": {},
   "outputs": [
    {
     "name": "stdout",
     "output_type": "stream",
     "text": [
      "5 4 3 2 1 "
     ]
    }
   ],
   "source": [
    "a = 5\n",
    "\n",
    "while a > 0 :\n",
    "    print (a, end=' ')\n",
    "    a -= 1"
   ]
  },
  {
   "cell_type": "code",
   "execution_count": 14,
   "metadata": {},
   "outputs": [
    {
     "name": "stdout",
     "output_type": "stream",
     "text": [
      "152151\n",
      "Обычный\n"
     ]
    }
   ],
   "source": [
    "a, b, c, d, e, f = input()\n",
    "n= int(a)+int (b)+int(c)\n",
    "m= int(d)+int (e)+int(f)\n",
    "if n==m:\n",
    "    print ('Счастливый')\n",
    "else:\n",
    "    print ('Обычный')"
   ]
  },
  {
   "cell_type": "code",
   "execution_count": 15,
   "metadata": {},
   "outputs": [
    {
     "name": "stdout",
     "output_type": "stream",
     "text": [
      "*\n",
      "**\n",
      "*\n",
      "*\n",
      "**\n",
      "*\n",
      "***\n",
      "*\n",
      "**\n",
      "***\n"
     ]
    }
   ],
   "source": [
    "i = 0\n",
    "while i < 5:\n",
    "    print('*')\n",
    "    if i % 2 == 0:\n",
    "        print('**')\n",
    "    if i > 2:\n",
    "        print('***')\n",
    "    i = i + 1"
   ]
  },
  {
   "cell_type": "code",
   "execution_count": 26,
   "metadata": {},
   "outputs": [
    {
     "data": {
      "text/plain": [
       "1"
      ]
     },
     "execution_count": 26,
     "metadata": {},
     "output_type": "execute_result"
    }
   ],
   "source": [
    "10 % 3"
   ]
  },
  {
   "cell_type": "code",
   "execution_count": 25,
   "metadata": {},
   "outputs": [
    {
     "name": "stdout",
     "output_type": "stream",
     "text": [
      "5\n",
      "5\n",
      "5\n",
      "0\n",
      "15\n"
     ]
    }
   ],
   "source": [
    "a = 0\n",
    "b = 1\n",
    "if b != 0 :\n",
    "    while b != 0 :\n",
    "        b = int(input())\n",
    "        a += b\n",
    "        if b == 0 :\n",
    "            a == a - 1\n",
    "            print (a)\n",
    "\n",
    "else :\n",
    "    print (\"0\")"
   ]
  },
  {
   "cell_type": "code",
   "execution_count": 50,
   "metadata": {},
   "outputs": [
    {
     "name": "stdout",
     "output_type": "stream",
     "text": [
      "7\n"
     ]
    }
   ],
   "source": [
    "i = 0\n",
    "s = 0\n",
    "while i < 10:\n",
    "    i = i + 1\n",
    "    s = s + i\n",
    "    if s > 15:\n",
    "        break\n",
    "    i = i + 1\n",
    "print (i)"
   ]
  },
  {
   "cell_type": "code",
   "execution_count": 34,
   "metadata": {},
   "outputs": [
    {
     "data": {
      "text/plain": [
       "1"
      ]
     },
     "execution_count": 34,
     "metadata": {},
     "output_type": "execute_result"
    }
   ],
   "source": [
    "1 % 5"
   ]
  },
  {
   "cell_type": "code",
   "execution_count": null,
   "metadata": {},
   "outputs": [
    {
     "name": "stdout",
     "output_type": "stream",
     "text": [
      "12\n",
      "12\n",
      "56\n",
      "56\n",
      "10\n",
      "10\n",
      "10\n",
      "9\n"
     ]
    }
   ],
   "source": [
    "a = 0\n",
    "while a == 0 :\n",
    "    i = int(input())\n",
    "    if 10 < i < 100 :\n",
    "        print (i)\n",
    "    if i < 10 :\n",
    "        continue\n",
    "    if i > 100 :\n",
    "        break"
   ]
  },
  {
   "cell_type": "code",
   "execution_count": null,
   "metadata": {},
   "outputs": [],
   "source": []
  }
 ],
 "metadata": {
  "kernelspec": {
   "display_name": "Python 3",
   "language": "python",
   "name": "python3"
  },
  "language_info": {
   "codemirror_mode": {
    "name": "ipython",
    "version": 3
   },
   "file_extension": ".py",
   "mimetype": "text/x-python",
   "name": "python",
   "nbconvert_exporter": "python",
   "pygments_lexer": "ipython3",
   "version": "3.8.1"
  }
 },
 "nbformat": 4,
 "nbformat_minor": 4
}
