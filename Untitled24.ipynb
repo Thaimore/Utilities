{
 "cells": [
  {
   "cell_type": "code",
   "execution_count": 1,
   "metadata": {
    "scrolled": true
   },
   "outputs": [
    {
     "name": "stdout",
     "output_type": "stream",
     "text": [
      "4\n",
      "6\n",
      "7\n",
      "9\n",
      "\t 7\t8\t7\n",
      "4 \t 28\t32\t36\t\n",
      "\n",
      "5 \t 35\t40\t45\t\n",
      "\n",
      "6 \t 42\t\n",
      "\n"
     ]
    }
   ],
   "source": [
    "a = int(input())\n",
    "b = int(input())\n",
    "c = int(input())\n",
    "d = int(input())\n",
    "x = c\n",
    "e = str('')\n",
    "f = c\n",
    "while (c < d):\n",
    "    if e == str(''):\n",
    "        print ('\\t', c, end = '\\t')\n",
    "    else : \n",
    "        print (c, end = '\\t')\n",
    "    c += 1\n",
    "    e = c\n",
    "x = c\n",
    "c = f\n",
    "if c == d :\n",
    "    print (end = '\\t')\n",
    "print (x)\n",
    "#print ('\\n')\n",
    "while (a <= b) :\n",
    "    while c <= d :\n",
    "        if c <= f :\n",
    "            print (a, '\\t', a * c, end = '\\t')\n",
    "        else :\n",
    "            print (a * c, end = '\\t')\n",
    "        c += 1\n",
    "        if a == b:\n",
    "            break\n",
    "    print ('\\n')\n",
    "    a += 1\n",
    "    c = f"
   ]
  },
  {
   "cell_type": "code",
   "execution_count": 3,
   "metadata": {},
   "outputs": [
    {
     "name": "stdout",
     "output_type": "stream",
     "text": [
      "7\n",
      "10\n",
      "5\n",
      "6\n",
      "\t 5\t6\n",
      "7 \t 35\t42\t\n",
      "\n",
      "8 \t 40\t48\t\n",
      "\n",
      "9 \t 45\t54\t\n",
      "\n",
      "10 \t 50\t60\t\n",
      "\n"
     ]
    }
   ],
   "source": [
    "a = int(input())\n",
    "b = int(input())\n",
    "c = int(input())\n",
    "d = int(input())\n",
    "x = c\n",
    "e = str('')\n",
    "f = c\n",
    "while (c < d):\n",
    "    if e == str(''):\n",
    "        print ('\\t', c, end = '\\t')\n",
    "    else : \n",
    "        print (c, end = '\\t')\n",
    "    c += 1\n",
    "    e = c\n",
    "x = c\n",
    "c = f\n",
    "if c == d :\n",
    "    print (end = '\\t')\n",
    "print (x)\n",
    "#print ('\\n')\n",
    "while (a <= b) :\n",
    "    while c <= d :\n",
    "        if c <= f :\n",
    "            print (a, '\\t', a * c, end = '\\t')\n",
    "        else :\n",
    "            print (a * c, end = '\\t')\n",
    "        c += 1\n",
    "    print ('\\n')\n",
    "    a += 1\n",
    "    c = f"
   ]
  },
  {
   "cell_type": "code",
   "execution_count": 4,
   "metadata": {},
   "outputs": [
    {
     "name": "stdout",
     "output_type": "stream",
     "text": [
      "4\n",
      "6\n",
      "4\n",
      "5\n"
     ]
    }
   ],
   "source": [
    "c = int(input())\n",
    "d = int (input())\n",
    "\n",
    "for i in range (c,d) :\n",
    "    print (i)"
   ]
  },
  {
   "cell_type": "code",
   "execution_count": 6,
   "metadata": {},
   "outputs": [
    {
     "name": "stdout",
     "output_type": "stream",
     "text": [
      "4 6\n",
      "5\n"
     ]
    }
   ],
   "source": [
    "a, b = (int(i) for i in input().split())\n",
    "s = 0\n",
    "if a % 2 == 0 :\n",
    "    a += 1\n",
    "for i in range (a, b + 1, 2) :\n",
    "    s += i\n",
    "print (s)"
   ]
  },
  {
   "cell_type": "code",
   "execution_count": 7,
   "metadata": {},
   "outputs": [
    {
     "name": "stdout",
     "output_type": "stream",
     "text": [
      "-5\n",
      "12\n",
      "4.5\n"
     ]
    }
   ],
   "source": [
    "a = int(input())\n",
    "b = int(input())\n",
    "x = 0\n",
    "c = 0\n",
    "y = 0\n",
    "for i in range (a, b + 1) :\n",
    "    if i % 3 == 0 :\n",
    "        x = x + i\n",
    "        c += 1\n",
    "y = x / c\n",
    "print (y)\n",
    "        "
   ]
  },
  {
   "cell_type": "code",
   "execution_count": 19,
   "metadata": {},
   "outputs": [
    {
     "name": "stdout",
     "output_type": "stream",
     "text": [
      "acggtgttat\n",
      "40.0\n"
     ]
    }
   ],
   "source": [
    "s = str(input(''))\n",
    "x = 0\n",
    "y = 0\n",
    "a = (s.lower().count('a'))\n",
    "b = (s.lower().count('t'))\n",
    "c = (s.lower().count('g'))\n",
    "d = (s.lower().count('c'))\n",
    "y = ((c + d) / (a + b + c + d)) * 100\n",
    "print (float(y))"
   ]
  },
  {
   "cell_type": "code",
   "execution_count": 18,
   "metadata": {},
   "outputs": [
    {
     "name": "stdout",
     "output_type": "stream",
     "text": [
      "sadsad\n",
      "7\n"
     ]
    }
   ],
   "source": [
    "s = str(input(''))\n",
    "x = 0\n",
    "x = s.count('')\n",
    "print (x)"
   ]
  },
  {
   "cell_type": "code",
   "execution_count": null,
   "metadata": {},
   "outputs": [],
   "source": [
    "s = str(input(''))\n",
    "x = 0\n",
    "x = len(s)\n",
    "a = [0]"
   ]
  },
  {
   "cell_type": "code",
   "execution_count": 21,
   "metadata": {},
   "outputs": [
    {
     "name": "stdout",
     "output_type": "stream",
     "text": [
      "def\n",
      "abcdef\n",
      "defghijk\n",
      "kjihgfedcba\n",
      "ijk\n",
      "abcde\n",
      "kigec\n"
     ]
    }
   ],
   "source": [
    "s = 'abcdefghijk'\n",
    "print (s[3:6])\n",
    "print (s[:6])\n",
    "print (s[3:])\n",
    "print (s[::-1])\n",
    "print (s[-3:])\n",
    "print (s[:(-6)])\n",
    "print (s[-1:-10:-2])"
   ]
  },
  {
   "cell_type": "code",
   "execution_count": 22,
   "metadata": {},
   "outputs": [
    {
     "name": "stdout",
     "output_type": "stream",
     "text": [
      "6\n"
     ]
    }
   ],
   "source": [
    "a = 'ijgijs'\n",
    "print (len(a))"
   ]
  },
  {
   "cell_type": "code",
   "execution_count": 38,
   "metadata": {},
   "outputs": [
    {
     "name": "stdout",
     "output_type": "stream",
     "text": [
      "s\n",
      "a\n",
      "d\n",
      "g\n",
      "a\n",
      "s\n",
      "f\n"
     ]
    },
    {
     "ename": "IndexError",
     "evalue": "string index out of range",
     "output_type": "error",
     "traceback": [
      "\u001b[1;31m---------------------------------------------------------------------------\u001b[0m",
      "\u001b[1;31mIndexError\u001b[0m                                Traceback (most recent call last)",
      "\u001b[1;32m<ipython-input-38-ef996055aa06>\u001b[0m in \u001b[0;36m<module>\u001b[1;34m\u001b[0m\n\u001b[0;32m      7\u001b[0m     \u001b[0mc\u001b[0m \u001b[1;33m+=\u001b[0m \u001b[1;36m1\u001b[0m\u001b[1;33m\u001b[0m\u001b[1;33m\u001b[0m\u001b[0m\n\u001b[0;32m      8\u001b[0m     \u001b[0mprint\u001b[0m \u001b[1;33m(\u001b[0m\u001b[0ma\u001b[0m\u001b[1;33m)\u001b[0m\u001b[1;33m\u001b[0m\u001b[1;33m\u001b[0m\u001b[0m\n\u001b[1;32m----> 9\u001b[1;33m     \u001b[1;32mif\u001b[0m \u001b[0ma\u001b[0m \u001b[1;33m==\u001b[0m \u001b[0mx\u001b[0m\u001b[1;33m[\u001b[0m\u001b[0mc\u001b[0m\u001b[1;33m]\u001b[0m \u001b[1;33m:\u001b[0m\u001b[1;33m\u001b[0m\u001b[1;33m\u001b[0m\u001b[0m\n\u001b[0m\u001b[0;32m     10\u001b[0m         \u001b[0mprint\u001b[0m \u001b[1;33m(\u001b[0m\u001b[0mstr\u001b[0m\u001b[1;33m(\u001b[0m\u001b[0ma\u001b[0m\u001b[1;33m,\u001b[0m \u001b[0mc\u001b[0m\u001b[1;33m)\u001b[0m\u001b[1;33m)\u001b[0m\u001b[1;33m\u001b[0m\u001b[1;33m\u001b[0m\u001b[0m\n",
      "\u001b[1;31mIndexError\u001b[0m: string index out of range"
     ]
    }
   ],
   "source": [
    "x = str('sadgasf')\n",
    "a = 0\n",
    "b = len(x)\n",
    "c = 0\n",
    "for i in range (b + 1):\n",
    "    a = x[c]\n",
    "    c += 1\n",
    "    print (a)\n",
    "    if a == x[c] :\n",
    "        print (str(a, c))\n"
   ]
  },
  {
   "cell_type": "code",
   "execution_count": null,
   "metadata": {},
   "outputs": [],
   "source": []
  }
 ],
 "metadata": {
  "kernelspec": {
   "display_name": "Python 3",
   "language": "python",
   "name": "python3"
  },
  "language_info": {
   "codemirror_mode": {
    "name": "ipython",
    "version": 3
   },
   "file_extension": ".py",
   "mimetype": "text/x-python",
   "name": "python",
   "nbconvert_exporter": "python",
   "pygments_lexer": "ipython3",
   "version": "3.8.1"
  }
 },
 "nbformat": 4,
 "nbformat_minor": 4
}
