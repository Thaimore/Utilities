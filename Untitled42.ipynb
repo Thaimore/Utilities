{
 "cells": [
  {
   "cell_type": "code",
   "execution_count": 5,
   "metadata": {},
   "outputs": [
    {
     "name": "stdout",
     "output_type": "stream",
     "text": [
      "TZY UUaZZcaT X X UY X TTXZbTbpY X ZZXTa YcZXXbX TZY XaXdbX UaZddY UpXYbcac TZY bXpUZX pdbX bcXT cbdUbap X TbaXZcp apXa abdpdYc TccYadUdX TZY X X bcbpTYTb YaaUcc dpbZUdTa UabTaTZ Ybc dXTXTcZYX ZaYad X ZTdaZYTUp Zc TUX Y ZaYad TbaXZcp ZadXYcc X X TTXZbTbpY UXTYYdXT aUbbY YUdZbXbd TXTT cUpU aTUccbcc cUpU a aTUccbcc pUcTdaY cUpU aTUccbcc aTUccbcc aXcbYYbd aTUccbcc dpYpYdX cZZddYp TXUYU X dbZT Xc pbb aTUccbcc UXcYUXTpU aTUccbcc ccaUcbZYZ ZXZXbZTU aTUccbcc dp a a cp ZXZXbZTU aTUccbcc cUpU UbZ UUpY cUpU c cUpU aTZaXTY UZaXUd aYdaXabp YUXY bUTZbb bUTZbb YcdYYpXp dpUaaXbcX TcbZbX dTUbdcd dpUaaXbcX b cUba TTdpUpcXY TcbZbX bTdbcdYTZ TcbXpUc Tpd UXXpUcdU ZcZccbZZ dTUbdcd ZcZccbZZ cUba Ua YTUa TYZZ appdTd aZb XcXXcbcT YTUa YTUa cca aUZUc pbUY X cpbXbXU aapbdpp XTcZdbTbY YTUa XcXXcbcT ccZUY UZY aZb bXdcXba bbbcpYbbU UTcaUdXT bpU bbbcpYbbU aXXXT c b aXXXT paZ T aUZUc X YpabTX aZb TadcZZ pbUY pbc aXdUapdb YTUa YTUa aapbdpp bUTcp dXdaYXd ba U TTb ccZUY pYY YpabTX YpabTX ba XXccab XXccab XXccab acX aU acX XXaY cppTbXTp XXccab YbY acX YXpabpTc b XTTp ZYUUdUb cZcXpTdZ Ua bddaUYZYd XXaY YbY T bdUXc XXccab ccapZTdXa dpXbdZT aU acX dbZUpaabZ acX TUb bZUcd pab cXd dXdccXXbp UUXbYYdab bddaUYZYd XXccab Ua dXdccXXbp cXd bbX dXdccXXbp cbp XdbbZZU TXcccUUbT ZUZb Xb Xb p bcZXZZ ZTYXpYdY pcXXa Xbdp pd pd UbUbcaTc UbUbcaTc pUUaZdUcU pd pd aaZ aaZ dZbT baXaTacd T XY UbUbcaTc XXppU XY p cYdaUcU TcTab XXppU Td pd cYdaUcU pd dZbT aaZ YaY pd pd UX XcpUYcbU aXXabdTY baYYaabd UX Yabdpc Yabdpc cX Yabdpc UX UYppZpa pccT UX ZcXadU paaXUcXd bYdpYaa X TbXpXc Yabdpc UYcbTTa bYdpYaa bcYUpYdZY Yabdpc pY YaYpppc dZUUT YcT bYdpYaa dcZpTd UcdbXpZ UZUTXaT dX XTUTYZ ZcXadU apYpbTYTb cTZZaTU bYdpYaa dacYbUUb ZcXadU UYppZpa UTapcYcY Yabdpc pY dU dX TcXUX ZcXadU pZc Yabdpc pY dXp ZZaXTZd ZdZaTZp b ZdZaTZp cTX cXdcdYp dZbT ZdaX ZdZaTZp ZdZaTZp pcUdaUaU Tp ppZ aTUcpc XdYbXZUXd ZdaX Zda ZZX XdYbXZUXd Y d d cpbYcdabZ TpUZpU XTUTd XTUTd dUdXbdUZ UXbcTXUa caUYUU XTUTd p ZpaYd dZ XTUTd aZ a aT dT abdc cTb TbpTYbaUT dp acT XTUTd TTppUaZYc Zp bTbTppad pUUT Zp YaYYdpY TdUbY cdaXdUUb cdaXdUUb Tp Tp TXc TXc TXc Tp Tp d ddp Tp pZUZ abbUU aUYaa cdaXdUUb cTTZUb Tp apXp aX ab dTYpdX bU pZTUaacpZ d ZTUXdcTc ccdXTbbYp TZpbbb ZZTbbZ dYTUZUpd TXc bYTXX XUXXUcpY ab XT YTYTZcY UYZ Tp acbp YXacUUcdd cZXca UadX YUTbUp cdaXdUUb cYU cYU Y cYU cYU pXapYU cYU aXcZT XabaUTp adbaZc pYYX cpcXTp bbZYT T UXXpZTXZ cYU XZcaZZZ XabaUTp Ya cd Td dcT cYU dpZdd cbY Tcpp TdcTZZdZX Y ZUU ddpadpU XadZYdb cbY dX Ya Y YTXXp ddpadpU UpYUba YY cYb cYU cbY UU TbTXZa aZbZYTpT adbaZc ZTX cpUXYdd YadbZ cpUXYdd Xpbd YUZXcZ dccpdYpUY XTbUbXdb ZbXpbYd dTaZZXa cpUXYdd YUZXcZ Z TTacYYp d dccpdYpUY TbdXpYT Zba aYXd TZXbbbdXc Xpbd Ub UTcUUZ YYbcUTd Y dccpdYpUY d dc bccpTdYY TbdXpYT cc bccpTdYY bapTaUX Udp XUXYXYZU Y TcXTUcT bTXYYYZb YpU a YdXaTUp Z ZpYpZ cXZZ Xpbd TTcUadZa dXTTdc Xpbd a bccpTdYY YXXXX dcYYUYUZ UcTac UddTcY UZcXYUT ba cZdcYd cZdcYd cZdcYd aUYZcZY cZdcYd cZdcYd UZcXYUT cZabYYT bp aUYZcZY UZcXYUT YdpXcTpp UZbTdca cZdcYd cbZYdppd bp XY UZcXYUT UbZppZY ba ZYaaTXYZZ cZdcYd cZdcYd TYp Z cc XUpZZTcbX U U Z ZUXUY Zb YYZYYTY Z UXpad cac U YZT ppccUTYZ Z bdXTZccZ U TZbXU TZbXU b TZ b c ZY a UaYdc Zaa UX XZZbb cpcpdZcZ ZaZ ppc dcaUdYd pZbpcY Udbbd bdaT TUpXpZYZc acpZp ZY bpZdZ d YpY TUpXpZYZc Xp TUpXpZYZc YTUcc ddpXUZY pcdp pZbpcY Yacd d p pcUTpdXYc pTbbTUZT U TZ YYTpcUcX ppc YUUdX ppc aYXaZ TbYbpUbX YTUcc ZdpUU bYZYYTY ZZddpYb cpcpdZcZ pc XpapXT XpapXT XpapXT ZdcZ pacdUZYb dp cp adp aZaX aaZ YUdZpZU cp UaXY XpapXT XpapXT ZbcaZTXZp ZcTdX ppaZaXUZZ XYa UddbZZad aTbbcbpd adXcTppdZ cYUXUaXb cYYcadUY b TpTccT UXd bddca Za bddca ZbZdpXZU dYcbZTYd Y ZXdY U T U TdcY apU Xa apU a bpZX XdTTbcpXb p p YaUd abd p TcZ XdTTbcpXb pXZbUT abd paXbaUTbZ ZpUc c YaUd pZbZTcX Yp U c XbTb U T Uap c abX Uap p dXbUY Zap XaZZpdUU YacY bT pTa dppTdc TZZT dbbcbcZ TpZXcX XdTTbcpXb aZUXUbd Xa cbcYZ bapYX\n",
      "x 14\n"
     ]
    }
   ],
   "source": [
    "a = list(input().split())\n",
    "b = str('')\n",
    "\n",
    "for i in range (len(a)) :\n",
    "    a[i] = a[i].lower()\n",
    "\n",
    "for i in range (len(a)) :\n",
    "    if a.count(a[i]) > a.count(b) :\n",
    "        b = a[i]\n",
    "    if (a.count(a[i]) == a.count(b)) and (a[i] > b) :\n",
    "        b = a[i]\n",
    "print (b, a.count(b))\n"
   ]
  },
  {
   "cell_type": "code",
   "execution_count": null,
   "metadata": {},
   "outputs": [],
   "source": []
  }
 ],
 "metadata": {
  "kernelspec": {
   "display_name": "Python 3",
   "language": "python",
   "name": "python3"
  },
  "language_info": {
   "codemirror_mode": {
    "name": "ipython",
    "version": 3
   },
   "file_extension": ".py",
   "mimetype": "text/x-python",
   "name": "python",
   "nbconvert_exporter": "python",
   "pygments_lexer": "ipython3",
   "version": "3.8.1"
  }
 },
 "nbformat": 4,
 "nbformat_minor": 4
}
