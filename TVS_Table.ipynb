{
 "cells": [
  {
   "cell_type": "code",
   "execution_count": 55,
   "metadata": {},
   "outputs": [
    {
     "name": "stdout",
     "output_type": "stream",
     "text": [
      "1 126.0\n",
      "2 128.6\n",
      "3 134.0\n",
      "4 140.5\n",
      "5 142.0\n",
      "6 155.2\n",
      "7 162.75\n",
      "8 164.0\n",
      "9 172.25\n",
      "10 171.0\n",
      "11 177.14285714285714\n"
     ]
    }
   ],
   "source": [
    "with open(r'dataset_3380_5.txt', 'r') as f:\n",
    "    f = f.read().replace('\\n',' ').split()\n",
    "\n",
    "d = {a : 0 for a in range (1,12)}\n",
    "\n",
    "for i in range (0,len(f),3) :\n",
    "    d[int(f[i])] += int(f[i+2])    \n",
    "\n",
    "for i in range (1,12) :\n",
    "    if d[i] == None :\n",
    "        print (i, '-')\n",
    "        continue\n",
    "    c = str(i)\n",
    "    print (i, float(d[i] / f.count(c)))\n"
   ]
  },
  {
   "cell_type": "code",
   "execution_count": 13,
   "metadata": {},
   "outputs": [
    {
     "name": "stdout",
     "output_type": "stream",
     "text": [
      "{0: 1, 1: 1, 2: 0, 3: 0, 4: 0, 5: 0, 6: 0, 7: 0, 8: 0, 9: 0, 10: 0, 11: 0}\n"
     ]
    }
   ],
   "source": [
    "d = {a : 0 for a in range (12)}\n",
    "for i in range (2) :\n",
    "    d[i] += 1\n",
    "print (d)"
   ]
  },
  {
   "cell_type": "code",
   "execution_count": 20,
   "metadata": {},
   "outputs": [
    {
     "name": "stdout",
     "output_type": "stream",
     "text": [
      "1 -\n"
     ]
    }
   ],
   "source": [
    "a = 1\n",
    "print (a, '-')"
   ]
  },
  {
   "cell_type": "code",
   "execution_count": null,
   "metadata": {},
   "outputs": [],
   "source": []
  }
 ],
 "metadata": {
  "kernelspec": {
   "display_name": "Python 3",
   "language": "python",
   "name": "python3"
  },
  "language_info": {
   "codemirror_mode": {
    "name": "ipython",
    "version": 3
   },
   "file_extension": ".py",
   "mimetype": "text/x-python",
   "name": "python",
   "nbconvert_exporter": "python",
   "pygments_lexer": "ipython3",
   "version": "3.8.1"
  }
 },
 "nbformat": 4,
 "nbformat_minor": 4
}
