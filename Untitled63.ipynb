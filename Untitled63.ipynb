{
 "cells": [
  {
   "cell_type": "code",
   "execution_count": 8,
   "metadata": {},
   "outputs": [
    {
     "name": "stdout",
     "output_type": "stream",
     "text": [
      "['palm.cpu 2.0 1150864247', 'palm.cpu 0.5 1150864248', 'eardrum.cpu 3.0 1150864250']\n"
     ]
    }
   ],
   "source": [
    "a = 'ok\\npalm.cpu 2.0 1150864247\\npalm.cpu 0.5 1150864248\\neardrum.cpu 3.0 1150864250\\n\\n'\n",
    "a = a.split('\\n')\n",
    "del a[0], a[-1], a[-1]\n",
    "for i in a:\n",
    "    i.split(' ')\n",
    "print(a)"
   ]
  },
  {
   "cell_type": "code",
   "execution_count": 23,
   "metadata": {},
   "outputs": [
    {
     "name": "stdout",
     "output_type": "stream",
     "text": [
      "{'palm.cpu': [('vsbf', 'svds'), ('svsxc', 'vsdva')]}\n"
     ]
    }
   ],
   "source": [
    "a = {'palm.cpu': [('vsbf', 'svds')]}\n",
    "b = a['palm.cpu']\n",
    "a['palm.cpu'] += [('svsxc', 'vsdva')]\n",
    "print(a)"
   ]
  },
  {
   "cell_type": "code",
   "execution_count": 36,
   "metadata": {},
   "outputs": [
    {
     "name": "stdout",
     "output_type": "stream",
     "text": [
      "['palm.cpu', '2.0', '1150864248.2']\n",
      "['palm.cpu', '0.5', '1150864245.5']\n",
      "['palm.cpu', '1.2', '1150864247']\n",
      "['palm.cpu', '1.1', '1150864246']\n",
      "{'palm.cpu': [(1150864248, 2.0), (1150864245, 0.5), (1150864247, 1.2), (1150864246, 1.1)]}\n",
      "{'palm.cpu': [(1150864245, 0.5), (1150864246, 1.1), (1150864247, 1.2), (1150864248, 2.0)]}\n"
     ]
    }
   ],
   "source": [
    "class ClientError(Exception):\n",
    "    pass\n",
    "\n",
    "\n",
    "data = 'ok\\npalm.cpu 2.0 1150864248.2\\npalm.cpu 0.5 1150864245.5\\npalm.cpu 1.2 1150864247\\npalm.cpu 1.1 1150864246\\n\\n'\n",
    "empty_dict = {}\n",
    "if not data.startswith('ok') or not data.endswith('\\n\\n'):\n",
    "    raise ClientError\n",
    "data = data.split('\\n')\n",
    "del data[0], data[-1], data[-1]\n",
    "for i in data:\n",
    "    i = i.split(' ')\n",
    "    print(i)\n",
    "    i[2] = float(i[2])\n",
    "    i[1] = float(i[1])\n",
    "    if i[0] in empty_dict:\n",
    "        empty_dict[i[0]] += [(int(i[2]), float(i[1]))]\n",
    "    else:\n",
    "        a = {i[0]: [(int(i[2]), float(i[1]))]}\n",
    "        empty_dict.update(a)\n",
    "print(empty_dict)\n",
    "for i in empty_dict:\n",
    "    empty_dict[i].sort()\n",
    "print(empty_dict)"
   ]
  },
  {
   "cell_type": "code",
   "execution_count": 29,
   "metadata": {},
   "outputs": [
    {
     "ename": "KeyError",
     "evalue": "'lame'",
     "output_type": "error",
     "traceback": [
      "\u001b[1;31m---------------------------------------------------------------------------\u001b[0m",
      "\u001b[1;31mKeyError\u001b[0m                                  Traceback (most recent call last)",
      "\u001b[1;32m<ipython-input-29-7c149bb1ff9d>\u001b[0m in \u001b[0;36m<module>\u001b[1;34m\u001b[0m\n\u001b[0;32m      1\u001b[0m \u001b[0ma\u001b[0m \u001b[1;33m=\u001b[0m \u001b[1;33m{\u001b[0m\u001b[1;34m'palm'\u001b[0m\u001b[1;33m:\u001b[0m \u001b[1;33m[\u001b[0m\u001b[1;36m1214\u001b[0m\u001b[1;33m,\u001b[0m \u001b[1;36m1546\u001b[0m\u001b[1;33m,\u001b[0m \u001b[1;36m6851\u001b[0m\u001b[1;33m,\u001b[0m \u001b[1;36m6364\u001b[0m\u001b[1;33m]\u001b[0m\u001b[1;33m}\u001b[0m\u001b[1;33m\u001b[0m\u001b[1;33m\u001b[0m\u001b[0m\n\u001b[1;32m----> 2\u001b[1;33m \u001b[0mprint\u001b[0m\u001b[1;33m(\u001b[0m\u001b[1;36m1214\u001b[0m \u001b[1;32min\u001b[0m \u001b[0ma\u001b[0m\u001b[1;33m[\u001b[0m\u001b[1;34m'lame'\u001b[0m\u001b[1;33m]\u001b[0m\u001b[1;33m)\u001b[0m\u001b[1;33m\u001b[0m\u001b[1;33m\u001b[0m\u001b[0m\n\u001b[0m",
      "\u001b[1;31mKeyError\u001b[0m: 'lame'"
     ]
    }
   ],
   "source": [
    "a = {'palm': [1214, 1546, 6851, 6364]}\n",
    "print(1214 in a['lame'])"
   ]
  },
  {
   "cell_type": "code",
   "execution_count": 26,
   "metadata": {},
   "outputs": [
    {
     "name": "stdout",
     "output_type": "stream",
     "text": [
      "False\n"
     ]
    }
   ],
   "source": [
    "print(bool(0.0))"
   ]
  },
  {
   "cell_type": "code",
   "execution_count": null,
   "metadata": {},
   "outputs": [],
   "source": [
    "import asyncio\n",
    "\n",
    "\n",
    "class ClientServerProtocol(asyncio.Protocol):\n",
    "    empty_list = []\n",
    "    empty_dict = {}\n",
    "\n",
    "    def connection_made(self, transport):\n",
    "        self.transport = transport\n",
    "\n",
    "    def data_received(self, data):\n",
    "        resp = process_data(data.decode('utf8'))\n",
    "        self.transport.write(resp.encode())\n",
    "\n",
    "\n",
    "def process_data(some_data):\n",
    "    some_data = some_data.split()\n",
    "    b = ''\n",
    "    a = 'ok\\n'\n",
    "    if 'put' in some_data or 'get' in some_data:\n",
    "        if 'put' in some_data:\n",
    "            if len(some_data) != 4 or some_data[0] != 'put':\n",
    "                return 'error\\nwrong command\\n\\n'\n",
    "            try:\n",
    "                some_data[2] = float(some_data[2])\n",
    "                some_data[3] = int(some_data[3])\n",
    "            except:\n",
    "                return 'error\\nwrong command\\n\\n'\n",
    "            ClientServerProtocol.empty_list += some_data[1], some_data[2], some_data[3]\n",
    "            if some_data[1] in ClientServerProtocol.empty_dict:\n",
    "                ClientServerProtocol.empty_dict[some_data[1]] += [(some_data[2], some_data[3])]\n",
    "            else:\n",
    "                prepared = {some_data[1]: [(some_data[2], some_data[3])]}\n",
    "                ClientServerProtocol.empty_dict.update(prepared)\n",
    "            return 'ok\\n\\n'\n",
    "        if 'get' in some_data:\n",
    "            if len(some_data) != 2 or some_data[0] != 'get':\n",
    "                return 'error\\nwrong command\\n\\n'\n",
    "            if some_data[1] == '*':\n",
    "                for i in ClientServerProtocol.empty_list:\n",
    "                    if len(str(i)) == 10:\n",
    "                        a = a + str(i) + str('\\n')\n",
    "                    else:\n",
    "                        a = a + str(i) + ' '\n",
    "                return a + '\\n'\n",
    "            else:\n",
    "                if some_data[1] in ClientServerProtocol.empty_dict:\n",
    "                    for i in ClientServerProtocol.empty_dict[some_data[1]]:\n",
    "                        a = a + str(some_data[1]) + ' ' + str(i[0]) + ' ' + str(i[1]) + str('\\n')\n",
    "                    return a + '\\n'\n",
    "                else:\n",
    "                    return a + '\\n'\n",
    "    else:\n",
    "        return 'error\\nwrong command\\n\\n'\n",
    "\n",
    "\n",
    "def run_server(host, port):\n",
    "    loop = asyncio.get_event_loop()\n",
    "    coro = loop.create_server(\n",
    "        ClientServerProtocol,\n",
    "        host, port\n",
    "    )\n",
    "\n",
    "    server = loop.run_until_complete(coro)\n",
    "\n",
    "    try:\n",
    "        loop.run_forever()\n",
    "    except KeyboardInterrupt:\n",
    "        pass\n",
    "\n",
    "    server.close()\n",
    "    loop.run_until_complete(server.wait_closed())\n",
    "    loop.close()\n",
    "run_server('127.0.0.1', 10001)"
   ]
  }
 ],
 "metadata": {
  "kernelspec": {
   "display_name": "Python 3",
   "language": "python",
   "name": "python3"
  },
  "language_info": {
   "codemirror_mode": {
    "name": "ipython",
    "version": 3
   },
   "file_extension": ".py",
   "mimetype": "text/x-python",
   "name": "python",
   "nbconvert_exporter": "python",
   "pygments_lexer": "ipython3",
   "version": "3.8.1"
  }
 },
 "nbformat": 4,
 "nbformat_minor": 4
}
