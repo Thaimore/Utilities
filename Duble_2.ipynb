{
 "cells": [
  {
   "cell_type": "code",
   "execution_count": 10,
   "metadata": {},
   "outputs": [
    {
     "name": "stdout",
     "output_type": "stream",
     "text": [
      "9\n",
      "add global a\n",
      "create foo global\n",
      "add foo b\n",
      "get foo a\n",
      "global\n",
      "get foo c\n",
      "None\n",
      "create bar foo\n",
      "add bar a\n",
      "get bar a\n",
      "bar\n",
      "get bar b\n",
      "foo\n"
     ]
    }
   ],
   "source": [
    "n = int(input())\n",
    "parent = {'global' : None}\n",
    "var = {'global' : ()}\n",
    "\n",
    "def create(space, par):\n",
    "    global parent, var\n",
    "    space, par = str(space), str(par)\n",
    "    a = {space : par}\n",
    "    parent.update(a)\n",
    "    a = {space : ()}\n",
    "    var.update(a)\n",
    "\n",
    "def add(space, variab):\n",
    "    global var\n",
    "    space, variab = str(space), str(variab)\n",
    "    var[space] += (variab,)\n",
    "    \n",
    "def get(space, variab):\n",
    "    global parent, var\n",
    "    space, variab = str(space), str(variab)\n",
    "    while True:\n",
    "        if space not in parent or space == None:\n",
    "            print('None')\n",
    "            break\n",
    "        elif variab in var[space]:\n",
    "            print(space)\n",
    "            break\n",
    "        else:\n",
    "            space = parent[space]\n",
    "        \n",
    "\n",
    "for i in range (n) :\n",
    "    inp = input().split()\n",
    "    names = inp[1]\n",
    "    if inp[0] == 'create' :\n",
    "        create(inp[1],inp[2])\n",
    "    elif inp[0] == 'add' :\n",
    "        add(inp[1],inp[2])\n",
    "    elif inp[0] == 'get' :\n",
    "        get(inp[1],inp[2])"
   ]
  },
  {
   "cell_type": "code",
   "execution_count": 2,
   "metadata": {},
   "outputs": [
    {
     "ename": "TypeError",
     "evalue": "unsupported operand type(s) for +=: 'dict' and 'dict'",
     "output_type": "error",
     "traceback": [
      "\u001b[1;31m---------------------------------------------------------------------------\u001b[0m",
      "\u001b[1;31mTypeError\u001b[0m                                 Traceback (most recent call last)",
      "\u001b[1;32m<ipython-input-2-aa0fd769f0f7>\u001b[0m in \u001b[0;36m<module>\u001b[1;34m\u001b[0m\n\u001b[0;32m      1\u001b[0m \u001b[0ma\u001b[0m \u001b[1;33m=\u001b[0m \u001b[1;33m{\u001b[0m\u001b[1;34m'1'\u001b[0m \u001b[1;33m:\u001b[0m \u001b[1;36m1\u001b[0m\u001b[1;33m,\u001b[0m \u001b[1;34m'2'\u001b[0m \u001b[1;33m:\u001b[0m \u001b[1;36m2\u001b[0m\u001b[1;33m}\u001b[0m\u001b[1;33m\u001b[0m\u001b[1;33m\u001b[0m\u001b[0m\n\u001b[1;32m----> 2\u001b[1;33m \u001b[0ma\u001b[0m \u001b[1;33m+=\u001b[0m \u001b[1;33m{\u001b[0m\u001b[1;34m'3'\u001b[0m \u001b[1;33m:\u001b[0m \u001b[1;36m3\u001b[0m\u001b[1;33m}\u001b[0m\u001b[1;33m\u001b[0m\u001b[1;33m\u001b[0m\u001b[0m\n\u001b[0m\u001b[0;32m      3\u001b[0m \u001b[0mprint\u001b[0m\u001b[1;33m(\u001b[0m\u001b[0ma\u001b[0m\u001b[1;33m)\u001b[0m\u001b[1;33m\u001b[0m\u001b[1;33m\u001b[0m\u001b[0m\n",
      "\u001b[1;31mTypeError\u001b[0m: unsupported operand type(s) for +=: 'dict' and 'dict'"
     ]
    }
   ],
   "source": [
    "a = {'1' : 1, '2' : 2}\n"
   ]
  },
  {
   "cell_type": "code",
   "execution_count": null,
   "metadata": {},
   "outputs": [],
   "source": [
    "for i in range (n) :\n",
    "    inp = input().split()\n",
    "    names = inp[1]\n",
    "    if inp[0] == 'create' :\n",
    "        create(inp[1],inp[2])\n",
    "    elif inp[0] == 'add' :\n",
    "        add(inp[1],inp[2])\n",
    "    elif inp[0] == 'get' :\n",
    "        get(inp[1],inp[2])"
   ]
  }
 ],
 "metadata": {
  "kernelspec": {
   "display_name": "Python 3",
   "language": "python",
   "name": "python3"
  },
  "language_info": {
   "codemirror_mode": {
    "name": "ipython",
    "version": 3
   },
   "file_extension": ".py",
   "mimetype": "text/x-python",
   "name": "python",
   "nbconvert_exporter": "python",
   "pygments_lexer": "ipython3",
   "version": "3.8.1"
  }
 },
 "nbformat": 4,
 "nbformat_minor": 4
}
