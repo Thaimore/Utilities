{
 "cells": [
  {
   "cell_type": "code",
   "execution_count": 3,
   "metadata": {},
   "outputs": [
    {
     "name": "stdout",
     "output_type": "stream",
     "text": [
      "Z14D10V8m15R6a17V5o15y16W5i20U13O9Q13p17o10O16w12E19q6Z10c12G16Q10E7m13k14L12q10w9V9u17B11n20g10f4M1q2K7j10v13X1K6w5f20G1k10E20\n",
      "ZZZZZZZZZZZZZZDDDDDDDDDDVVVVVVVVmmmmmmmmmmmmmmmRRRRRRaaaaaaaaaaaaaaaaaVVVVVoooooooooooooooyyyyyyyyyyyyyyyyWWWWWiiiiiiiiiiiiiiiiiiiiUUUUUUUUUUUUUOOOOOOOOOQQQQQQQQQQQQQpppppppppppppppppooooooooooOOOOOOOOOOOOOOOOwwwwwwwwwwwwEEEEEEEEEEEEEEEEEEEqqqqqqZZZZZZZZZZccccccccccccGGGGGGGGGGGGGGGGQQQQQQQQQQEEEEEEEmmmmmmmmmmmmmkkkkkkkkkkkkkkLLLLLLLLLLLLqqqqqqqqqqwwwwwwwwwVVVVVVVVVuuuuuuuuuuuuuuuuuBBBBBBBBBBBnnnnnnnnnnnnnnnnnnnnggggggggggffffMqqKKKKKKKjjjjjjjjjjvvvvvvvvvvvvvXKKKKKKwwwwwffffffffffffffffffffGkkkkkkkkkkEEEEEEEEEEEEEEEEEEEE\n"
     ]
    }
   ],
   "source": [
    "a = str(input(''))\n",
    "b = str('')\n",
    "c = str('')\n",
    "d = str('')\n",
    "for i in range (len(a)-1, -1, -1) :\n",
    "    if a[i] < 'A' :\n",
    "        b += a[i]\n",
    "        continue\n",
    "    b = b[::-1]\n",
    "    if a[i] > 'A' :\n",
    "        c += a[i]\n",
    "    d = d + (c * int(b))\n",
    "    b = str('')\n",
    "    c = str('')\n",
    "d = d[::-1]\n",
    "print (d)"
   ]
  },
  {
   "cell_type": "code",
   "execution_count": 1,
   "metadata": {},
   "outputs": [
    {
     "name": "stdout",
     "output_type": "stream",
     "text": [
      "11b4j01s\n"
     ]
    }
   ],
   "source": [
    "b = ('s10j4b11')\n",
    "b = b[::-1]\n",
    "print(b)"
   ]
  },
  {
   "cell_type": "code",
   "execution_count": null,
   "metadata": {},
   "outputs": [],
   "source": []
  }
 ],
 "metadata": {
  "kernelspec": {
   "display_name": "Python 3",
   "language": "python",
   "name": "python3"
  },
  "language_info": {
   "codemirror_mode": {
    "name": "ipython",
    "version": 3
   },
   "file_extension": ".py",
   "mimetype": "text/x-python",
   "name": "python",
   "nbconvert_exporter": "python",
   "pygments_lexer": "ipython3",
   "version": "3.8.1"
  }
 },
 "nbformat": 4,
 "nbformat_minor": 4
}
