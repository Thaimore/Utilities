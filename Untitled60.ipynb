{
 "cells": [
  {
   "cell_type": "code",
   "execution_count": 32,
   "metadata": {},
   "outputs": [
    {
     "name": "stdout",
     "output_type": "stream",
     "text": [
      "Some_text\n",
      "Some_text_again\n",
      "Some_text_again\n"
     ]
    },
    {
     "ename": "FileExistsError",
     "evalue": "[WinError 183] Невозможно создать файл, так как он уже существует: 'C:\\\\Users\\\\Thaimore\\\\AppData\\\\Local\\\\Temp\\\\tmpv1al66ju' -> 'solution.data'",
     "output_type": "error",
     "traceback": [
      "\u001b[1;31m---------------------------------------------------------------------------\u001b[0m",
      "\u001b[1;31mFileExistsError\u001b[0m                           Traceback (most recent call last)",
      "\u001b[1;32m<ipython-input-32-d832ff53cb6a>\u001b[0m in \u001b[0;36m<module>\u001b[1;34m\u001b[0m\n\u001b[0;32m     18\u001b[0m     \u001b[1;32mwith\u001b[0m \u001b[0mopen\u001b[0m\u001b[1;33m(\u001b[0m\u001b[1;34m'C:\\\\Users\\\\Thaimore\\\\AppData\\\\Local\\\\Temp\\\\tmpv1al66ju'\u001b[0m\u001b[1;33m,\u001b[0m \u001b[1;34m'r'\u001b[0m\u001b[1;33m)\u001b[0m \u001b[1;32mas\u001b[0m \u001b[0mf\u001b[0m\u001b[1;33m:\u001b[0m\u001b[1;33m\u001b[0m\u001b[1;33m\u001b[0m\u001b[0m\n\u001b[0;32m     19\u001b[0m         \u001b[0mprint\u001b[0m\u001b[1;33m(\u001b[0m\u001b[0mf\u001b[0m\u001b[1;33m.\u001b[0m\u001b[0mread\u001b[0m\u001b[1;33m(\u001b[0m\u001b[1;33m)\u001b[0m\u001b[1;33m)\u001b[0m\u001b[1;33m\u001b[0m\u001b[1;33m\u001b[0m\u001b[0m\n\u001b[1;32m---> 20\u001b[1;33m \u001b[0mos\u001b[0m\u001b[1;33m.\u001b[0m\u001b[0mrename\u001b[0m\u001b[1;33m(\u001b[0m\u001b[1;34m'C:\\\\Users\\\\Thaimore\\\\AppData\\\\Local\\\\Temp\\\\tmpv1al66ju'\u001b[0m\u001b[1;33m,\u001b[0m \u001b[1;34m'solution.data'\u001b[0m\u001b[1;33m)\u001b[0m\u001b[1;33m\u001b[0m\u001b[1;33m\u001b[0m\u001b[0m\n\u001b[0m\u001b[0;32m     21\u001b[0m \u001b[0mprint\u001b[0m\u001b[1;33m(\u001b[0m\u001b[0mb\u001b[0m\u001b[1;33m.\u001b[0m\u001b[0mname\u001b[0m\u001b[1;33m)\u001b[0m\u001b[1;33m\u001b[0m\u001b[1;33m\u001b[0m\u001b[0m\n\u001b[0;32m     22\u001b[0m \u001b[1;31m#with open(b, 'r') as j:\u001b[0m\u001b[1;33m\u001b[0m\u001b[1;33m\u001b[0m\u001b[1;33m\u001b[0m\u001b[0m\n",
      "\u001b[1;31mFileExistsError\u001b[0m: [WinError 183] Невозможно создать файл, так как он уже существует: 'C:\\\\Users\\\\Thaimore\\\\AppData\\\\Local\\\\Temp\\\\tmpv1al66ju' -> 'solution.data'"
     ]
    }
   ],
   "source": [
    "import os\n",
    "import tempfile\n",
    "\n",
    "a = tempfile.gettempdir()\n",
    "#print(os.listdir(path=a))\n",
    "b = tempfile.NamedTemporaryFile(mode='r+',delete=False)\n",
    "try:\n",
    "    with open('C:\\\\Users\\\\Thaimore\\\\AppData\\\\Local\\\\Temp\\\\tmpv1al66ju', 'x') as f:\n",
    "        f.write('Some_text')\n",
    "       \n",
    "    with open('C:\\\\Users\\\\Thaimore\\\\AppData\\\\Local\\\\Temp\\\\tmpv1al66ju', 'r') as f:\n",
    "        print(f.read())\n",
    "\n",
    "except:\n",
    "    with open('C:\\\\Users\\\\Thaimore\\\\AppData\\\\Local\\\\Temp\\\\tmpv1al66ju', 'a') as f:\n",
    "        f.write('\\nSome_text_again')\n",
    "        \n",
    "    with open('C:\\\\Users\\\\Thaimore\\\\AppData\\\\Local\\\\Temp\\\\tmpv1al66ju', 'r') as f:\n",
    "        print(f.read())\n",
    "os.rename('C:\\\\Users\\\\Thaimore\\\\AppData\\\\Local\\\\Temp\\\\tmpv1al66ju', 'solution.data')        \n",
    "print(b.name)\n",
    "#with open(b, 'r') as j:\n",
    "#    print(j.read())\n",
    "storage_path = os.path.join(tempfile.gettempdir(), 'storage.data')"
   ]
  },
  {
   "cell_type": "code",
   "execution_count": null,
   "metadata": {},
   "outputs": [],
   "source": []
  },
  {
   "cell_type": "code",
   "execution_count": null,
   "metadata": {},
   "outputs": [],
   "source": []
  }
 ],
 "metadata": {
  "kernelspec": {
   "display_name": "Python 3",
   "language": "python",
   "name": "python3"
  },
  "language_info": {
   "codemirror_mode": {
    "name": "ipython",
    "version": 3
   },
   "file_extension": ".py",
   "mimetype": "text/x-python",
   "name": "python",
   "nbconvert_exporter": "python",
   "pygments_lexer": "ipython3",
   "version": "3.8.1"
  }
 },
 "nbformat": 4,
 "nbformat_minor": 4
}
