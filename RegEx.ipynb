{
 "cells": [
  {
   "cell_type": "code",
   "execution_count": 10,
   "metadata": {},
   "outputs": [
    {
     "name": "stdout",
     "output_type": "stream",
     "text": [
      "cbcsbv\n",
      "c\n"
     ]
    }
   ],
   "source": [
    "a = 'abcsbv'\n",
    "b = 'c'\n",
    "a = a.replace('a', b)\n",
    "\n",
    "print(a)\n",
    "print(b)"
   ]
  },
  {
   "cell_type": "code",
   "execution_count": 14,
   "metadata": {},
   "outputs": [
    {
     "name": "stdout",
     "output_type": "stream",
     "text": [
      "abab\n",
      "ab\n",
      "ba\n",
      "bbaa\n"
     ]
    }
   ],
   "source": [
    "s = str(input())\n",
    "a = str(input())\n",
    "b = str(input())\n",
    "i = 0\n",
    "if s.count(a):\n",
    "    while s.count(a):\n",
    "        s = s.replace(a, b)\n",
    "        if i == 1000:\n",
    "            print('Impossible')\n",
    "            break\n",
    "        i += 1\n",
    "    if not s.count(a):\n",
    "        print(i)\n",
    "else:\n",
    "    print(i)\n",
    "        \n",
    "print(s)"
   ]
  },
  {
   "cell_type": "code",
   "execution_count": 27,
   "metadata": {},
   "outputs": [
    {
     "name": "stdout",
     "output_type": "stream",
     "text": [
      "0\n",
      "a\n"
     ]
    }
   ],
   "source": [
    "a = 'abababa'\n",
    "t = 'aba'\n",
    "b = 0\n",
    "print(a[b::].find(t))\n",
    "print(a[0])"
   ]
  },
  {
   "cell_type": "code",
   "execution_count": 48,
   "metadata": {},
   "outputs": [
    {
     "name": "stdout",
     "output_type": "stream",
     "text": [
      "aaaaa\n",
      "a\n",
      "5\n"
     ]
    }
   ],
   "source": [
    "a = str(input())\n",
    "t = str(input())\n",
    "b = a.find(t)\n",
    "f = a\n",
    "c = 0\n",
    "while True:\n",
    "    b = a.find(t, b)\n",
    "    f = f[b::]\n",
    "    \n",
    "    if b == -1:\n",
    "        print(c)\n",
    "        break\n",
    "    c += 1\n",
    "    b += 1"
   ]
  },
  {
   "cell_type": "code",
   "execution_count": 135,
   "metadata": {},
   "outputs": [
    {
     "name": "stdout",
     "output_type": "stream",
     "text": [
      "None\n"
     ]
    }
   ],
   "source": [
    "import re\n",
    "\n",
    "pattern = r'(\\w+)\\1'\n",
    "pattern_2 = r'\\2\\1'\n",
    "ex = 'attraction'\n",
    "result = re.match(pattern, ex)\n",
    "print(result)\n",
    "\n"
   ]
  },
  {
   "cell_type": "code",
   "execution_count": 70,
   "metadata": {},
   "outputs": [],
   "source": [
    "import sys\n",
    "import re\n",
    "\n",
    "pattern = r'\\b(\\w)(\\w)(\\w+)\\b'\n",
    "pattern_2 = r'\\1\\0'\n",
    "for line in sys.stdin:\n",
    "    line = line.rstrip()\n",
    "    result = re.sub(pattern, pattern_2, line, count=1)\n",
    "    if result != []:\n",
    "        print(result)\n",
    "    "
   ]
  },
  {
   "cell_type": "code",
   "execution_count": 8,
   "metadata": {},
   "outputs": [
    {
     "name": "stdout",
     "output_type": "stream",
     "text": [
      "blabla is a tandem repetition\n",
      "blabla is a tandem repetition\n",
      "['blabla', 'is', 'a', 'tandem', 'repetition']\n"
     ]
    }
   ],
   "source": [
    "a = str(input())\n",
    "print(a)\n",
    "b = a.split()\n",
    "print(b)"
   ]
  },
  {
   "cell_type": "code",
   "execution_count": null,
   "metadata": {},
   "outputs": [],
   "source": []
  }
 ],
 "metadata": {
  "kernelspec": {
   "display_name": "Python 3",
   "language": "python",
   "name": "python3"
  },
  "language_info": {
   "codemirror_mode": {
    "name": "ipython",
    "version": 3
   },
   "file_extension": ".py",
   "mimetype": "text/x-python",
   "name": "python",
   "nbconvert_exporter": "python",
   "pygments_lexer": "ipython3",
   "version": "3.8.1"
  }
 },
 "nbformat": 4,
 "nbformat_minor": 4
}
