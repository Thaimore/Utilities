{
 "cells": [
  {
   "cell_type": "code",
   "execution_count": 3,
   "metadata": {},
   "outputs": [
    {
     "name": "stdout",
     "output_type": "stream",
     "text": [
      "[(13, 10), (65, 14), (36, 12), (35, 21)]\n"
     ]
    }
   ],
   "source": [
    "a = [(13,), (65,), (36,), (35,)]\n",
    "b = [(10,), (14,), (12,), (21,)]\n",
    "for i in range(len(a)):\n",
    "    a[i] += b[i]\n",
    "print(a)"
   ]
  },
  {
   "cell_type": "code",
   "execution_count": 28,
   "metadata": {},
   "outputs": [
    {
     "name": "stdout",
     "output_type": "stream",
     "text": [
      "{\"response\":{\"count\":80,\"items\":[{\"id\":10147580,\"first_name\":\"Ксения\",\"last_name\":\"Кобан\",\"online\":1,\"track_code\":\"17427a9d1wfWEhOMwDrw5Rfi89WID4Zmx3aGiFN8rSoTbi9qm8e2ZOMrEY3FPPTiL1YXD5Rvi3HcE-g\"},{\"id\":10260826,\"first_name\":\"Лера\",\"last_name\":\"Йоши\",\"bdate\":\"24.2\",\"online\":1,\"track_code\":\"e40f9a8aez0aIU-DJoON_kSoPVtl77zbgKhA8sfadjla4ArJZBkaXngaGIYnjISgdxrZgXmPscybzS4\"},{\"id\":10903462,\"first_name\":\"Sergey\",\"last_name\":\"Filbert\",\"bdate\":\"3.10.1982\",\"online\":0,\"track_code\":\"41018005nyvw_5dS37ESp6BvsGERgbQDaxAmhLlk9BrErDi8EHH-SMPHkFLf5UTwlNlUuw3huRRwdUg\"},{\"id\":13403676,\"first_name\":\"Мария\",\"last_name\":\"Шевчук\",\"bdate\":\"17.11\",\"online\":0,\"track_code\":\"a7d5f7ea_c5LHxeKrb1gRMDgiGmtRQl6Z25sSqZ0olHIuuxksY2crXwiH4msvjJH9FJss7ElBG18CwI\"},{\"id\":13819987,\"first_name\":\"Vova\",\"last_name\":\"Zaharov\",\"bdate\":\"7.11.1988\",\"online\":0,\"track_code\":\"0c5bf8667OLWJxpHvSils6SZjgekRMGsXIMMd3oQ8XMhXkOxFYCNge8bTRfmePm8mCpq3bgkzLtH5mI\"},{\"id\":14126573,\"first_name\":\"Григорий\",\"last_name\":\"Герасимов\",\"online\":0,\"track_code\":\"dc15ca9e0GquZKHsXo5nhDKP6Gs5wSh3h81cFh5b7Ns6Xr7P76WxCchdp7tX2GmCADgMsSWhJWCcqDI\"},{\"id\":25094284,\"first_name\":\"Роман\",\"last_name\":\"Федоришин\",\"bdate\":\"16.9\",\"online\":0,\"track_code\":\"1e489f45z--ISHM6VH-fLaHxwuSPxIRAUwjhYUQX5VtNwrDCoBiujL50JT1Tccgnn0EmPpOkiVdIbY8\"},{\"id\":28574256,\"first_name\":\"Ваня\",\"last_name\":\"Потапов\",\"bdate\":\"29.1.1997\",\"online\":0,\"track_code\":\"e3687afa0yOY2zjB8uiQREqaYBba_v3qGvDJKH6zrBMnDF4OHQqyQKHkO52k5scVeCiEzMae8P0Blac\"},{\"id\":43238230,\"first_name\":\"Михаил\",\"last_name\":\"Ротарь\",\"bdate\":\"24.11\",\"online\":0,\"track_code\":\"c4722e32DJDU3hoj49htn4uU6Sh3hI5gxQiUJx0KS6xccEVevbZt8-3nT3O1iDfMsCAN8mvkg3febfo\"},{\"id\":43745518,\"first_name\":\"Ирина\",\"last_name\":\"Сары\",\"bdate\":\"3.8.1993\",\"online\":0,\"track_code\":\"4ecbaa8123z-hNKCg1qSI7jzfjE7_BVrbxNq4FN0kz8frN3KrKG6H86909XRVsFzgE-a6yecGHx0dgQ\"},{\"id\":49378765,\"first_name\":\"Маргарита\",\"last_name\":\"Дойловская\",\"bdate\":\"22.1.1997\",\"online\":1,\"track_code\":\"fe7f9b76RJ9_kfJMKD71kfXSy6iQWHThxcCd-QbFkf8T8HCNfkcl_Bv480crP_WUyWMvcow4efbepfM\"},{\"id\":51268409,\"first_name\":\"Саша\",\"last_name\":\"Чернов\",\"bdate\":\"26.7.1996\",\"online\":1,\"track_code\":\"bfb0f6255LMx3x3s4VKfbqu4aFbMzkdMAWjZMbSnNmwYwmpkNa2F0FDjHrvgVpRjkAWMjNCuSlsaDbc\"},{\"id\":53779626,\"first_name\":\"Серёжа\",\"last_name\":\"Сары\",\"bdate\":\"6.11\",\"online\":0,\"track_code\":\"c14470d6nqVoXB-ufvCBCsShisAT-heDzunN0O0OFJa2zOX60cb_xlxjH6Qt_9xa-hNuGg-aGpTVjKM\"},{\"id\":56879206,\"first_name\":\"Катерина\",\"last_name\":\"Чернова\",\"bdate\":\"6.3\",\"online\":0,\"track_code\":\"a7d28157Uaw76pwukS9QDdO6n-LoT1k9AUpkQruGsCrY-OCMHXYwzw7XkCGYKlEP7gh7OPQvVCoaLwo\"},{\"id\":57758154,\"first_name\":\"Iulia\",\"last_name\":\"Terzi\",\"bdate\":\"11.7\",\"online\":0,\"track_code\":\"adbbdd5eHJ6IWXLf-6NooOpl-r-s6yCMiDlyAu0QKLNmhT561Nt9_bhmdI3_pWj30dUeZbCLLZuTXBw\"},{\"id\":60295059,\"first_name\":\"Никита\",\"last_name\":\"Савельев\",\"bdate\":\"31.5\",\"online\":0,\"track_code\":\"9f98ff9el61aUKVHwgi-t67DQxinHp6ZOs_EzUAao3WjdyAJd4z2zjs89hGVBrixlH6nwrt-k44hqqo\"},{\"id\":60951969,\"first_name\":\"Victor\",\"last_name\":\"Perdivara\",\"bdate\":\"12.11.1997\",\"online\":0,\"track_code\":\"51fb4f71AyMKghyN6vksL1OuWptfJS8j9ASO2D5xlgc3W1aboXhiQDOyG962_C5wdRO-QUNFIjTvYeA\"},{\"id\":71337954,\"first_name\":\"Рита\",\"last_name\":\"Сары-Терзи\",\"bdate\":\"23.6.1998\",\"online\":1,\"track_code\":\"9e6ebf93G2389UiAJshein7lAtS43nALsgGQ-nnBcIVArnY6JV96DpjJHdRwyArRWlXmDqS-fRypZP4\"},{\"id\":83303714,\"first_name\":\"Вадим\",\"last_name\":\"Валуйский\",\"bdate\":\"14.6.1997\",\"online\":1,\"track_code\":\"485d4cc5wBwem7QeCaUITQPSqL-QV56m1ZVhjxKU19MqZn0filqhf3irvx1ZoVhIIGJMZYw3k7HO8A8\"},{\"id\":84089608,\"first_name\":\"Виктория\",\"last_name\":\"Каба\",\"bdate\":\"30.1\",\"online\":1,\"track_code\":\"927fa16c0W2RbpPSR68uXPUpNfaw0-V7u0PhKkHXhPZ8m2rT2mWwDqkCmNQS9HUJ1pXRLKyz6GygJo8\"},{\"id\":85194750,\"first_name\":\"Гриша\",\"last_name\":\"Ангелов\",\"bdate\":\"18.4\",\"online\":1,\"track_code\":\"fa37c557HpEroP2zKDUpNTTxJ5yVSMGOUfI2Tf3WbDBSkXd4AP9_8hub9-d8aC5kFUXDRokozJlKl1g\"},{\"id\":88814210,\"first_name\":\"Тоня\",\"last_name\":\"Скрепец\",\"bdate\":\"11.12\",\"online\":0,\"track_code\":\"7531dc32GkOynk1akxs9yiywDV8FUF5rZACE4sMQ4nV5F6N_3MZ7IIXwR1eeTj3NCATphRkwU3x_Zeo\"},{\"id\":89409267,\"first_name\":\"Анастасия\",\"last_name\":\"Янчогло\",\"bdate\":\"22.6\",\"online\":0,\"track_code\":\"198a3dd6WGttcH6ImhNh-NsnlgXLDPcXUzf6SS_-bGW_VI6gbRk5CA5Oc9KfEDmu-5Ry39ds-gBIUpQ\"},{\"id\":92409561,\"first_name\":\"Паша\",\"last_name\":\"Булашевский\",\"bdate\":\"6.9\",\"online\":0,\"track_code\":\"4da4b899io3yaYSqaxpKtoR2kWtRprELZxwjppArFT2Kj9bfaoHr7pBY3KlmH0a1pcN1sU3GvBx8eU0\"},{\"id\":92481642,\"first_name\":\"Марина\",\"last_name\":\"Фокша\",\"bdate\":\"5.11.1997\",\"online\":0,\"track_code\":\"ecdcc7dem9DY6QEzxbOtGyMBcrQYwEO7twzEZi78_R1mwQj_qLH6s7uFDjKTuaUUD7eWbgSgTqysaao\"},{\"id\":94779566,\"first_name\":\"Ваня\",\"last_name\":\"Кара\",\"bdate\":\"21.10\",\"online\":0,\"track_code\":\"9b60c88dqtYM3O_GLzwjNnR_7TNCU7qtlrCFbr2W8hiAJ2C0lybLtTzgspB9Mik2W80J6V4zt7qN1es\"},{\"id\":107979945,\"first_name\":\"Дмитрий\",\"last_name\":\"Кузнецов\",\"bdate\":\"25.9.1997\",\"online\":1,\"track_code\":\"bffc3fc12S4GQHjRjt1q-C-W9BmoDg1zhaDpY4dsGVLv5iEjI5C4TTUreIeL0mr5DCYjqLh9GWqJt4cH\"},{\"id\":112810017,\"first_name\":\"Егор\",\"last_name\":\"Деде\",\"online\":0,\"track_code\":\"f725fdf1NEW8o-QBmqVraRvVHEulrVC-MqRKKZ-jssbbM4mmSZRVJo2asAmQpG1qMGDJ-rXeRKc-syRN\"},{\"id\":120275048,\"first_name\":\"Петр\",\"last_name\":\"Гайдаржи\",\"bdate\":\"4.7\",\"online\":0,\"track_code\":\"ca5e299cLcGaX-dK8aKR0m9EOANcz1iZw8bMvTDtV5d67bvTXg5Movs1507yoJSFQ_Tisky8TIDP0aLZ\"},{\"id\":125464594,\"first_name\":\"Анастасия\",\"last_name\":\"Урсу\",\"bdate\":\"28.7.1997\",\"online\":0,\"track_code\":\"c15b4b84qbuEcK4N3iRUrl66Z3q46T5wsOQeSCsio7ErSCGP6EHI2LVOqFuKdQH8dgexy6iaKmm883As\"},{\"id\":126401234,\"first_name\":\"Елена\",\"last_name\":\"Кушнир\",\"bdate\":\"23.10\",\"online\":0,\"track_code\":\"6c5c226eRgRVmsWRrJ6ZYloXeRPojrAGuWGRjwvQJaXeVQVkTr0nZzPyl5etk8gwdqCvovj9pB-1dv_r\"},{\"id\":138601912,\"first_name\":\"Ксюшка\",\"last_name\":\"Терзи\",\"bdate\":\"1.8.1992\",\"online\":0,\"track_code\":\"d25e6a29EjFgDOdbLUp0LlpQok4Wt__MvMUyMSbv8HLdtuwU5YlzUlM3tF92TCF6fOVy_wbE69Ww0lxV\"},{\"id\":139610640,\"first_name\":\"Ирина\",\"last_name\":\"Пунга\",\"bdate\":\"13.12.1996\",\"online\":0,\"track_code\":\"8fe90b6cPbARwHEDWkXA2rHTUodidz29jz7_Cm0xiVHRojTa3dBc0yeocAgCRcDTp2OANnIEKaSDKZFu\"},{\"id\":141474379,\"first_name\":\"Юлия\",\"last_name\":\"Кот\",\"online\":0,\"track_code\":\"b4f146e4n5GYyeKucqL-k8I3MDyq1G_qweQOXdO6E3XBya5UHcX-8v2isfx19fqQ0ITrjbqne_PN82A5\"},{\"id\":141941811,\"first_name\":\"Анна\",\"last_name\":\"Мотыль\",\"bdate\":\"21.1\",\"online\":0,\"track_code\":\"08beac59YjZVZ1T93UH99pSJHo6cRr5QAu3S639goOuxY4ANTPUDVWUKXKrYTfqkjjzNP4w1qkkO-ryP\"},{\"id\":145433082,\"first_name\":\"Александр\",\"last_name\":\"Петрович\",\"bdate\":\"16.5\",\"online\":0,\"track_code\":\"426617f3l0HfSr4zIviA6SUkrZoJdlA9_o5bITK-u_J6qjDrEI_2Iu1y7TYkqNC-Nph9KxkFRCTymTVF\"},{\"id\":151962588,\"first_name\":\"Nicolina\",\"last_name\":\"Lozan\",\"bdate\":\"10.11\",\"online\":0,\"track_code\":\"9824585c_TS_w4diyu9j1ejDe_6Qj1a98MrodXtaxNKi-gD2gD-cV9mr1WDC4mTV-X-hT4D8QqT83YYR\"},{\"id\":157019466,\"first_name\":\"Ирина\",\"last_name\":\"Майка\",\"bdate\":\"27.6\",\"online\":0,\"track_code\":\"1763da57ARzDrHsFzPWxx0cAaYZxNomak0XTrSAwauFH1879fkpgf_CVclLLpuWcVrK9N2FFnYOfUr3J\"},{\"id\":158791039,\"first_name\":\"Oleg\",\"last_name\":\"Brailean\",\"bdate\":\"19.8.1995\",\"online\":0,\"track_code\":\"ea655824ZTICgwZ5oI2ZNchyWQiPhhMuF7mtYV65YM-EtCcT-MAEUTbuUir83MQ33sWCuZ_1BzcbrsMF\"},{\"id\":162648073,\"first_name\":\"Рина\",\"last_name\":\"Коновалова\",\"online\":0,\"track_code\":\"ca487c84UBjzNVYGPAt_HWbRMbHNXh8XgfjDFIxf2nugxm5KGaAxe8VfUVY9CC0VcWLgAN0tCw6N761w\"},{\"id\":164086640,\"first_name\":\"Иван\",\"last_name\":\"Гуцул\",\"bdate\":\"5.6\",\"online\":0,\"track_code\":\"9b82f2f2sgSuR0M28qxnZjp_puanGTQmVzLV1NlMRa41MpWBVPrTZ513EzH-_WxgJM90V7dqID9bJbuw\"},{\"id\":166000402,\"first_name\":\"Николай\",\"last_name\":\"Курдогло\",\"bdate\":\"29.12\",\"online\":0,\"track_code\":\"89e255d68pMzhnJ6fetmTw6icHxl8wDxFDuaGpGsDRDyn9CfNaiT8Fa7cX0o4zJPExagzXWAFOgYLPR-\"},{\"id\":174163855,\"first_name\":\"Женя\",\"last_name\":\"Бену\",\"online\":0,\"track_code\":\"677fd058BuBNK6WcbAIkU0xB0a7jAlvwAfOsZnSyeVdvSYaSwPdng3lAoZxsBXdXXvAGH_NxT-kN5MIC\"},{\"id\":174694377,\"first_name\":\"Наталия\",\"last_name\":\"Мазурук\",\"bdate\":\"20.8.1996\",\"online\":0,\"track_code\":\"8d81670creQHIF4mb7iVAa2TCVUAA2E2Fl_qj_0eLD-c_t-oirPMhzYRWSBruc8HtSDc5BBwdS8aSITr\"},{\"id\":178464890,\"first_name\":\"Натали\",\"last_name\":\"Михна\",\"bdate\":\"18.6\",\"online\":0,\"track_code\":\"34a02dabbZuq6ndyUdvMIkZzzMVLj1hif5Z01VtlOc1EJg0pQEMM-MjSf3JY3sgkUs4edFv8THtzgRqx\"},{\"id\":182643334,\"first_name\":\"Дима\",\"last_name\":\"Гайдаржи\",\"bdate\":\"7.6\",\"online\":0,\"track_code\":\"cb005fd0MaXPzh1u6VGgU9YnuVYam7-eeszGmFXBq11p3WO-2gJQxv_xGTO_VKcByJBv5wroq4d226j8\"},{\"id\":188572519,\"first_name\":\"Артём\",\"last_name\":\"Терзи\",\"bdate\":\"29.8.1996\",\"online\":0,\"track_code\":\"a060fc1dyA4lpNOOmciA-SuP097RX5A-d-_C0uMxhbkiHrD6126pbRKc0NfAyYCqMDoIb8EshCd7-Ky2\"},{\"id\":190910179,\"first_name\":\"Михаил\",\"last_name\":\"Дудогло\",\"online\":1,\"track_code\":\"a97c2b7caK1cZhK7KHbi7prGUMEWj5KcDhD27k2Kd5YqPxOgUKAJzmQKEeAveObmhHWLcAb8hoUCB5iK\"},{\"id\":191517521,\"first_name\":\"Глеб\",\"last_name\":\"Гладков\",\"online\":0,\"track_code\":\"76c61da2p3GRdiKoTT6FJ_M2fkcQhM31Ai6WaSDTIzgq1RFQKIfGEqEdJfceb4Un9oCt9gD32ewOOfgN\"},{\"id\":196557161,\"first_name\":\"Инесса\",\"last_name\":\"Намашко\",\"bdate\":\"19.4\",\"online\":0,\"track_code\":\"2ac79fd7aysfcICM2lGOv8roVvlieU04EFCifXLien9ywk0diHEKSH1I0NDUU465ylqFSHIKWSEcR8wZ\"},{\"id\":199458045,\"first_name\":\"Георгий\",\"last_name\":\"Михайлов\",\"bdate\":\"16.7.1997\",\"online\":0,\"track_code\":\"d70dcd28WsZ9fGsJgXly-BGl8txQtLIpeg04kyB4jBhIZ-nGt0M7pURMaFaAfn72ExUlbUDHpjB2Glb3\"},{\"id\":206686326,\"first_name\":\"Олечка\",\"last_name\":\"Койчев\",\"bdate\":\"11.6\",\"online\":1,\"track_code\":\"9e34260eQHoZ6fAG3UXwIpkFlAomUUdCyyWqKhh70PtScqephlwhGXrV8A_TRPglmbNAuzYiU1vHMsRO\"},{\"id\":210374081,\"first_name\":\"Александр\",\"last_name\":\"Кальчев\",\"bdate\":\"26.1\",\"online\":0,\"track_code\":\"4fdaed65vVASEZ_vcRICd8_TGHui3xXEZHjy6od7CkkkLkiOsPzcMyEslO0kRQx0y2_LyrKsAd1ob5yO\"},{\"id\":228704991,\"first_name\":\"Олечка\",\"last_name\":\"Ипатий\",\"bdate\":\"3.8.1997\",\"online\":0,\"track_code\":\"3550ef4au-Abxdl6XMKgOovxeTQmtpr7LSFVAgAsIHHqamR-Dhfag32oiipQw_I3h0yqhTbFjuIhNjtm\"},{\"id\":230116264,\"first_name\":\"Денис\",\"last_name\":\"Туманов\",\"bdate\":\"14.6\",\"online\":0,\"track_code\":\"ecb11e4egeMtCM1573pmJOfGwK7ipiCtCu5rNzi2DjIdX2KE5GDggBgxyHPtemVw43QWH_LVNLQG-QVT\"},{\"id\":231261796,\"first_name\":\"Катя\",\"last_name\":\"Онуфрейчук\",\"bdate\":\"3.8\",\"online\":0,\"track_code\":\"6bb8d6f6SnLis6pdAG4mq-pSwioy6BrA9mrI-jCmq2wazt6RqEErEduK_lYJOSmq6u8WmyKbDtn6faae\"},{\"id\":232932917,\"first_name\":\"Андрей\",\"last_name\":\"Медведев\",\"bdate\":\"28.7\",\"online\":0,\"track_code\":\"8f61488fVcAwwxXqxjtcBTJ-hSGnYN4QXbFFCOD2jnWaGxSL8Lw0owf6Fr_EN1YFM8tQkLcTyglRpits\"},{\"id\":239868571,\"first_name\":\"Juliana\",\"last_name\":\"Bogataya\",\"bdate\":\"28.3\",\"online\":0,\"track_code\":\"823e9ebeBac7dXaUYLXuWZd1My-tPIAQHUuP5eqtRi9AoDMvDutkxANMd8Jo6-tWm8bgnr1PlAkRXOGB\"},{\"id\":251209080,\"first_name\":\"Артём\",\"last_name\":\"Цуркан\",\"bdate\":\"12.10.1995\",\"online\":0,\"track_code\":\"4b90eee3p3ossScPJoFxnss47frDY4vkYeWcZFIA_z6zY_fPUtjGGRSBIQkm0HDDwYQ_S9MQn_1t8vIA\"},{\"id\":251228912,\"first_name\":\"Даша\",\"last_name\":\"Лейчу\",\"bdate\":\"31.3\",\"online\":1,\"track_code\":\"caef280fy4humk1Nnic_SmmcGy1tjEPgsaHgcTbs4OibzkfftdWq6wr2Hh6fIGwUaynLnH3_V_m9to4V\"},{\"id\":256359924,\"first_name\":\"Славик\",\"last_name\":\"Аврам\",\"bdate\":\"10.5\",\"online\":0,\"track_code\":\"2fe81f44rarI_rF8tm0OX_DIQ8XRe3lMEylxsYSlPcybbtdNverMyayWtiixOwlX9X6VdMEIbVUfPh_V\"},{\"id\":265062213,\"first_name\":\"Саша\",\"last_name\":\"Чернов\",\"bdate\":\"18.6.1996\",\"online\":0,\"track_code\":\"dbb9add4cTkX9NuOZfABCeJvaE3IgJfT9zJc8xu5sFZLJ9Baz1QQWnLN34Fn9A5d7dq5_Njzg8r7JTKX\"},{\"id\":270145926,\"first_name\":\"Sergiu\",\"last_name\":\"Mihalachi\",\"bdate\":\"14.7.1984\",\"online\":0,\"track_code\":\"4048ce534c3srdHGRf0urtlC-3GBtaPTFKg1qUQ4cIDXuZGg9EuAromXgZUW-y-r3vQvwJHGt8oYv1vN\"},{\"id\":274941894,\"first_name\":\"Нина\",\"last_name\":\"Шуляк\",\"bdate\":\"28.12.1960\",\"online\":0,\"track_code\":\"c7c79363XQLPW2HevsSSHmXplvRS_pJ_I3vbB_uSQH3yPJH94NM8YfphNo-yzZROYlRARUKNhmYvbLVj\"},{\"id\":278378117,\"first_name\":\"Даша\",\"last_name\":\"Морская\",\"online\":1,\"track_code\":\"4c646565oS0XXc6F2BegaHmxiH_xyCbhTDDyLJbg4V2NM-Tbpo_ATnIwzoWGRfY2CARdzuG7MvhAJ5xI\"},{\"id\":324224310,\"first_name\":\"Сергей\",\"last_name\":\"Янак\",\"online\":0,\"track_code\":\"3aebd2dctKm41kRUPXh8rAFOc5JsiSZMLefYpmmKA-Thglby9lfVyoi8EwM6fy38c_uhI3z6MlUh8LbC\"},{\"id\":364196211,\"first_name\":\"Гоша\",\"last_name\":\"Михайлов\",\"bdate\":\"16.7.1997\",\"online\":0,\"track_code\":\"548c39e3DFdxZjIjWtSE3NmBCJ4KyxdHVjGfmIWX1klbu6jU4iNtNEgOZyNZ19vaqTTbLxq4A15aJvH8\"},{\"id\":371100963,\"first_name\":\"Тори\",\"last_name\":\"Фельдман\",\"bdate\":\"13.5.1997\",\"online\":1,\"track_code\":\"cad12991R0YZgBJrHvssRQqTlubUMSFZHyEDTTeVdACNv5V-mFwmJX-6Ejgb_S5EcCFHV8RCNUATNm0p\"},{\"id\":382971957,\"first_name\":\"Alina\",\"last_name\":\"Ceb\",\"bdate\":\"19.6.1996\",\"online\":0,\"track_code\":\"694ccb9akObBxsYd8I6-jSP8yvFNKc68-iZrXUSlx1u2--xX1dnxhaT6l0Okj7uEXk0fQF1a2qX2MQU5\"},{\"id\":383028015,\"first_name\":\"Мария\",\"last_name\":\"Борисова\",\"bdate\":\"30.9\",\"online\":0,\"track_code\":\"8858e843GIGxleGZM2rYqk7p-x8mUQKZcjUkZU6hlRT7jDJhePN54tf955E2O4mlO1wsrjYiFoB-IkoB\"},{\"id\":387195867,\"first_name\":\"Dorin\",\"last_name\":\"Paiul\",\"bdate\":\"11.6.1993\",\"online\":0,\"track_code\":\"8159bd87OW0DAjUbIby52AxmINNKXRiXlGFsGbDtPmN8ladybXFYDmYyNhdyu-WPctT1YlouDI6YdgJ9\"},{\"id\":387455232,\"first_name\":\"Екатерина\",\"last_name\":\"Андреевна\",\"bdate\":\"17.8\",\"online\":0,\"track_code\":\"cca8fb25HdzSdbOvYlxvw4EvP8to8qzP9WxwtgixWDeYSpygGGt8v7RM4q5hUWKT9JjveniBuNb5ex7S\"},{\"id\":389995794,\"first_name\":\"Павел\",\"last_name\":\"Левитес\",\"online\":0,\"track_code\":\"641af3c4xujIDnOTTvL2RNy2FblKFzLCrhDI-p2KBaETjoEOHzuni603c5NFrvlGowvDCFpkJtuiB6ae\"},{\"id\":409149820,\"first_name\":\"Anastasiia\",\"last_name\":\"Istomina\",\"online\":0,\"track_code\":\"5526a13eaVEkQWjZ7u0e_KgtGqxRs1Ps4BdzAoX0UqKKyabT49EIMhV_aIvi6xr32ZvIHUHAR_XsAB1m\"},{\"id\":470347202,\"first_name\":\"Людмила\",\"last_name\":\"Янак\",\"online\":0,\"track_code\":\"5ef694c8sUo2xJ_AvDgdtKn4z93qEh_QPtEl7e4e8w8apniB_mrQKQb9m8a-PUqw0UwfbPphC8kyxkuJ\"},{\"id\":482082028,\"first_name\":\"Варвара\",\"last_name\":\"Дорошенко\",\"online\":0,\"track_code\":\"7a6cc201uqVw23paC3Ou_X8h7sGwQKgZJoKA10wcRRduB_-ApufbxhXhfFAMJaH6BJc0cKAzvAAqle6z\"},{\"id\":491929701,\"first_name\":\"Римма\",\"last_name\":\"Янак\",\"bdate\":\"26.6\",\"online\":0,\"track_code\":\"98f4d7bcuLCLYluNj5zA3NKrlbCMMD0l2aF-uxahj0-KpS5iwvPZ07pTXdCLnZHXqR9GAZxDKTzVthDf\"},{\"id\":561370048,\"first_name\":\"Маргарита\",\"last_name\":\"Янак\",\"bdate\":\"15.10.2004\",\"online\":0,\"track_code\":\"2dda5449a0qF-1oOGXTdNSj3PQ8xDyodPmstfK8gRthLnDX2uhMKKbzFXlxNcNg8VUfnviF8PgQyfEMY\"},{\"id\":580109943,\"first_name\":\"Tatiana\",\"last_name\":\"Zgircibaba\",\"bdate\":\"12.10.1993\",\"online\":0,\"track_code\":\"335861faWs5nCMskzkDOgyp1zc8t2OhKrKq8pDy-TPf5AN26Z_s7rVJjnSmdSMaOXcUcfj2r_FOgvdLA\"},{\"id\":590839449,\"first_name\":\"Varvara\",\"last_name\":\"Doroshenko\",\"bdate\":\"2.4.2006\",\"online\":0,\"track_code\":\"af63012fVayxOjbRwvespll7ntUCqcv5k4LSDp1e2h-o1wyt-ao0z4ILZtnL9_z9IstFZBLa3-Cflbxq\"}]}}\n"
     ]
    }
   ],
   "source": [
    "import requests\n",
    "import datetime\n",
    "import json\n",
    "\n",
    "\n",
    "req = requests.get('https://api.vk.com/method/friends.get?v=5.71&access_token=317af5ee07f47e684933546f3bc2efed27bdbd5d86c60a4411f31fcd401518b7632a683ac5d54a23aab75&fields=bdate')\n",
    "print(req.text)"
   ]
  },
  {
   "cell_type": "code",
   "execution_count": 56,
   "metadata": {},
   "outputs": [
    {
     "name": "stdout",
     "output_type": "stream",
     "text": [
      "2020\n",
      "24.2\n",
      "3.10.1982\n",
      "17.11\n",
      "7.11.1988\n",
      "16.9\n",
      "29.1.1997\n",
      "24.11\n",
      "3.8.1993\n",
      "22.1.1997\n",
      "26.7.1996\n",
      "6.11\n",
      "6.3\n",
      "11.7\n",
      "31.5\n",
      "12.11.1997\n",
      "23.6.1998\n",
      "14.6.1997\n",
      "30.1\n",
      "18.4\n",
      "11.12\n",
      "22.6\n",
      "6.9\n",
      "5.11.1997\n",
      "21.10\n",
      "25.9.1997\n",
      "4.7\n",
      "28.7.1997\n",
      "23.10\n",
      "1.8.1992\n",
      "13.12.1996\n",
      "21.1\n",
      "16.5\n",
      "10.11\n",
      "27.6\n",
      "19.8.1995\n",
      "5.6\n",
      "29.12\n",
      "20.8.1996\n",
      "18.6\n",
      "7.6\n",
      "29.8.1996\n",
      "19.4\n",
      "16.7.1997\n",
      "11.6\n",
      "26.1\n",
      "3.8.1997\n",
      "14.6\n",
      "3.8\n",
      "28.7\n",
      "28.3\n",
      "12.10.1995\n",
      "31.3\n",
      "10.5\n",
      "18.6.1996\n",
      "14.7.1984\n",
      "28.12.1960\n",
      "16.7.1997\n",
      "13.5.1997\n",
      "19.6.1996\n",
      "30.9\n",
      "11.6.1993\n",
      "17.8\n",
      "26.6\n",
      "15.10.2004\n",
      "12.10.1993\n",
      "2.4.2006\n",
      "[38, 32, 23, 27, 23, 24, 23, 22, 23, 23, 23, 23, 28, 24, 25, 24, 24, 23, 23, 25, 24, 36, 60, 23, 23, 24, 27, 16, 27, 14]\n"
     ]
    }
   ],
   "source": [
    "a = datetime.datetime.now().year\n",
    "print(a)\n",
    "g = req.text\n",
    "result = json.loads(g)\n",
    "bdays = []\n",
    "#print(result['response']['items'])\n",
    "for i in result['response']['items']:\n",
    "    #print(i)\n",
    "    try:\n",
    "        print(i['bdate'])\n",
    "        f = i['bdate'].split('.')\n",
    "        if len(f) == 3:\n",
    "            bdays += [a - int(f[2])]\n",
    "    except:\n",
    "        continue\n",
    "print(bdays)"
   ]
  },
  {
   "cell_type": "code",
   "execution_count": 75,
   "metadata": {},
   "outputs": [
    {
     "name": "stdout",
     "output_type": "stream",
     "text": [
      "[[1, 38], [1, 32], [11, 23], [3, 27], [6, 24], [1, 22], [1, 28], [2, 25], [1, 36], [1, 60], [1, 16], [1, 14]]\n",
      "[[11, 23], [6, 24], [3, 27], [2, 25], [1, 60], [1, 38], [1, 36], [1, 32], [1, 28], [1, 22], [1, 16], [1, 14]]\n",
      "[(23, 11), (24, 6), (27, 3), (25, 2), (14, 1), (16, 1), (22, 1), (28, 1), (32, 1), (36, 1), (38, 1), (60, 1)]\n",
      "[(23, 11), (24, 6), (27, 3), (25, 2), (60, 1), (38, 1), (36, 1), (32, 1), (28, 1), (22, 1), (16, 1), (14, 1)]\n"
     ]
    }
   ],
   "source": [
    "result_days = []\n",
    "sec = []\n",
    "end_list = []\n",
    "for i in bdays:\n",
    "    if i not in sec:\n",
    "        result_days += [[bdays.count(i), i]]\n",
    "        sec += [i]\n",
    "        \n",
    "print(result_days)\n",
    "result_days = sorted(result_days, reverse=True)\n",
    "print(result_days)\n",
    "for i in result_days:\n",
    "    end_list += [(i[1], i[0])]\n",
    "    \n",
    "print(sorted(end_list, key=lambda x: (x[1], -x[0]), reverse=True))\n",
    "print(end_list)"
   ]
  },
  {
   "cell_type": "code",
   "execution_count": 58,
   "metadata": {},
   "outputs": [
    {
     "ename": "SyntaxError",
     "evalue": "invalid syntax (<ipython-input-58-db94ae3227ff>, line 2)",
     "output_type": "error",
     "traceback": [
      "\u001b[1;36m  File \u001b[1;32m\"<ipython-input-58-db94ae3227ff>\"\u001b[1;36m, line \u001b[1;32m2\u001b[0m\n\u001b[1;33m    print(sorted(gg, key=lambda x: x = gg[0][1]))\u001b[0m\n\u001b[1;37m                                     ^\u001b[0m\n\u001b[1;31mSyntaxError\u001b[0m\u001b[1;31m:\u001b[0m invalid syntax\n"
     ]
    }
   ],
   "source": [
    "gg = [[1, 3], [6, 2], [9, 5]]\n",
    "print(sorted(gg, key=lambda x: x = gg[0][1]))"
   ]
  },
  {
   "cell_type": "code",
   "execution_count": null,
   "metadata": {},
   "outputs": [],
   "source": []
  }
 ],
 "metadata": {
  "kernelspec": {
   "display_name": "Python 3",
   "language": "python",
   "name": "python3"
  },
  "language_info": {
   "codemirror_mode": {
    "name": "ipython",
    "version": 3
   },
   "file_extension": ".py",
   "mimetype": "text/x-python",
   "name": "python",
   "nbconvert_exporter": "python",
   "pygments_lexer": "ipython3",
   "version": "3.8.1"
  }
 },
 "nbformat": 4,
 "nbformat_minor": 4
}
