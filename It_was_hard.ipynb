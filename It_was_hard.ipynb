{
 "cells": [
  {
   "cell_type": "code",
   "execution_count": 5,
   "metadata": {},
   "outputs": [
    {
     "name": "stdout",
     "output_type": "stream",
     "text": [
      "Спартак;1;ЦСКА;1\n",
      "Зенит;3;Спартак;1\n"
     ]
    },
    {
     "ename": "ValueError",
     "evalue": "invalid literal for int() with base 10: 'Спартак'",
     "output_type": "error",
     "traceback": [
      "\u001b[1;31m---------------------------------------------------------------------------\u001b[0m",
      "\u001b[1;31mValueError\u001b[0m                                Traceback (most recent call last)",
      "\u001b[1;32m<ipython-input-5-268f700ca77d>\u001b[0m in \u001b[0;36m<module>\u001b[1;34m\u001b[0m\n\u001b[0;32m      4\u001b[0m \u001b[0mg\u001b[0m \u001b[1;33m=\u001b[0m \u001b[1;33m[\u001b[0m\u001b[1;33m]\u001b[0m\u001b[1;33m\u001b[0m\u001b[1;33m\u001b[0m\u001b[0m\n\u001b[0;32m      5\u001b[0m \u001b[1;32mfor\u001b[0m \u001b[0mi\u001b[0m \u001b[1;32min\u001b[0m \u001b[0mrange\u001b[0m \u001b[1;33m(\u001b[0m\u001b[0mlen\u001b[0m\u001b[1;33m(\u001b[0m\u001b[0mc\u001b[0m\u001b[1;33m)\u001b[0m\u001b[1;33m)\u001b[0m \u001b[1;33m:\u001b[0m\u001b[1;33m\u001b[0m\u001b[1;33m\u001b[0m\u001b[0m\n\u001b[1;32m----> 6\u001b[1;33m     \u001b[1;32mif\u001b[0m \u001b[0mc\u001b[0m\u001b[1;33m[\u001b[0m\u001b[0mi\u001b[0m\u001b[1;33m]\u001b[0m \u001b[1;33m!=\u001b[0m \u001b[0mint\u001b[0m\u001b[1;33m(\u001b[0m\u001b[0mc\u001b[0m\u001b[1;33m[\u001b[0m\u001b[0mi\u001b[0m\u001b[1;33m]\u001b[0m\u001b[1;33m)\u001b[0m \u001b[1;33m:\u001b[0m\u001b[1;33m\u001b[0m\u001b[1;33m\u001b[0m\u001b[0m\n\u001b[0m\u001b[0;32m      7\u001b[0m         \u001b[0mg\u001b[0m \u001b[1;33m+=\u001b[0m \u001b[0mc\u001b[0m\u001b[1;33m[\u001b[0m\u001b[0mi\u001b[0m\u001b[1;33m]\u001b[0m\u001b[1;33m\u001b[0m\u001b[1;33m\u001b[0m\u001b[0m\n\u001b[0;32m      8\u001b[0m \u001b[1;33m\u001b[0m\u001b[0m\n",
      "\u001b[1;31mValueError\u001b[0m: invalid literal for int() with base 10: 'Спартак'"
     ]
    }
   ],
   "source": [
    "a = input().split(';')\n",
    "b = input().split(';')\n",
    "c = a + b\n",
    "g = []\n",
    "for i in range (len(c)) :\n",
    "    if c[i] != int(c[i]) :\n",
    "        g += c[i]\n",
    "\n",
    "print (g)"
   ]
  },
  {
   "cell_type": "code",
   "execution_count": 15,
   "metadata": {},
   "outputs": [
    {
     "name": "stdout",
     "output_type": "stream",
     "text": [
      "3\n",
      "Зенит;3;Спартак;1\n",
      "Спартак;1;ЦСКА;1\n",
      "ЦСКА;0;Зенит;2\n",
      "['Зенит', '3', 'Спартак', '1', 'Спартак', '1', 'ЦСКА', '1', 'ЦСКА', '0', 'Зенит', '2']\n",
      "{'Зенит': [0, 0, 0, 0, 0], 'Спартак': [0, 0, 0, 0, 0], 'ЦСКА': [0, 0, 0, 0, 0]}\n",
      "Зенит:2 2 0 0 6\n",
      "Спартак:2 0 1 1 1\n",
      "ЦСКА:2 0 1 1 1\n"
     ]
    }
   ],
   "source": [
    "n = int(input())\n",
    "a = []\n",
    "for i in range (n) :\n",
    "    a += input().split(';')\n",
    "d = {a[e] : [0]*5 for e in range (0,len(a),2)}\n",
    "for i in range (0,len(a),4) :\n",
    "    if int(a[i+1]) > int(a[i+3]) :\n",
    "        d[a[i]][4] += 3\n",
    "        d[a[i]][1] += 1\n",
    "        d[a[i+2]][3] += 1\n",
    "        d[a[i]][0] += 1\n",
    "        d[a[i+2]][0] += 1\n",
    "    if int(a[i+1]) < int(a[i+3]) :\n",
    "        d[a[i+2]][4] += 3\n",
    "        d[a[i+2]][1] += 1\n",
    "        d[a[i]][3] += 1\n",
    "        d[a[i]][0] += 1\n",
    "        d[a[i+2]][0] += 1\n",
    "    if int(a[i+1]) == int(a[i+3]):\n",
    "        d[a[i]][4] += 1\n",
    "        d[a[i+2]][4] += 1\n",
    "        d[a[i]][2] += 1\n",
    "        d[a[i+2]][2] += 1\n",
    "        d[a[i]][0] += 1\n",
    "        d[a[i+2]][0] += 1\n",
    "for key,value in d.items() :\n",
    "    print (key,':',sep = '', end = '')\n",
    "    print (value[0],value[1],value[2],value[3],value[4])"
   ]
  },
  {
   "cell_type": "code",
   "execution_count": 9,
   "metadata": {},
   "outputs": [
    {
     "name": "stdout",
     "output_type": "stream",
     "text": [
      "2\n"
     ]
    }
   ],
   "source": [
    "d = {0 : [1,2,3]}\n",
    "print (d[0][1])"
   ]
  },
  {
   "cell_type": "code",
   "execution_count": null,
   "metadata": {},
   "outputs": [],
   "source": []
  }
 ],
 "metadata": {
  "kernelspec": {
   "display_name": "Python 3",
   "language": "python",
   "name": "python3"
  },
  "language_info": {
   "codemirror_mode": {
    "name": "ipython",
    "version": 3
   },
   "file_extension": ".py",
   "mimetype": "text/x-python",
   "name": "python",
   "nbconvert_exporter": "python",
   "pygments_lexer": "ipython3",
   "version": "3.8.1"
  }
 },
 "nbformat": 4,
 "nbformat_minor": 4
}
