{
 "cells": [
  {
   "cell_type": "code",
   "execution_count": 28,
   "metadata": {},
   "outputs": [
    {
     "name": "stdout",
     "output_type": "stream",
     "text": [
      "[[3, 2, 1], [3, 5, 7], [5, 6, 9]]\n"
     ]
    }
   ],
   "source": [
    "a = [[1,2,3], [3,5,7], [5,6,9]]\n",
    "a[0].reverse()\n",
    "print (a)"
   ]
  },
  {
   "cell_type": "code",
   "execution_count": 32,
   "metadata": {},
   "outputs": [
    {
     "name": "stdout",
     "output_type": "stream",
     "text": [
      "3\n",
      "[[0, 0, 0], [0, 0, 0], [0, 0, 0]]\n",
      "1 2 3 \n",
      "0 0 0 \n",
      "0 0 0 \n"
     ]
    }
   ],
   "source": [
    "n = int(input())\n",
    "d = 1\n",
    "b = []\n",
    "a = [[0 for j in range (n)] for i in range (n)]\n",
    "print (a)\n",
    "for i in range (len(a)) :\n",
    "    b = b + [[int(f) for f in a[i]]]\n",
    "\n",
    "for i in range (n) :\n",
    "    print (d, end = ' ')\n",
    "    d += 1\n",
    "print ('\\n', end = '')\n",
    "\n",
    "for i in range (len(a) - 1) :\n",
    "    for j in range (len(a)) :\n",
    "        print (int(b[i][j]), end = ' ')\n",
    "    print ('\\n', end = '')"
   ]
  },
  {
   "cell_type": "code",
   "execution_count": 37,
   "metadata": {},
   "outputs": [
    {
     "name": "stdout",
     "output_type": "stream",
     "text": [
      "[[1, 1], [1, 2, 1]]\n",
      "[[1, 1, 2], [1, 2, 1]]\n"
     ]
    }
   ],
   "source": [
    "a = [[1,2,1], [1,2,1]]\n",
    "a[0].remove(2)\n",
    "print (a)\n",
    "a[0].append(2)\n",
    "print (a)"
   ]
  },
  {
   "cell_type": "code",
   "execution_count": 40,
   "metadata": {},
   "outputs": [
    {
     "name": "stdout",
     "output_type": "stream",
     "text": [
      "3\n"
     ]
    }
   ],
   "source": [
    "a = [[[1],[2],[3]], [[1],[2],[3]]]\n",
    "print (a[1][2][0])"
   ]
  },
  {
   "cell_type": "code",
   "execution_count": 41,
   "metadata": {},
   "outputs": [
    {
     "name": "stdout",
     "output_type": "stream",
     "text": [
      "5\n",
      "1 2 3 4 5\n",
      "16 17 18 19 6\n",
      "15 24 25 20 7\n",
      "14 23 22 21 8\n",
      "13 12 11 10 9\n"
     ]
    }
   ],
   "source": [
    "#n - размерность матрицы n x n\n",
    "#mat - результирующая матрица\n",
    "#st - текущее значение-счетчик для записи в матрицу\n",
    "#m - коеффициент, используемый для заполнения верхней\n",
    "#матрицы последующих витков, т.к. одномерные матрицы\n",
    "#следующих витков имеют меньше значений\n",
    "n = int(input())\n",
    "mat = [[0]*n for i in range(n)]\n",
    "st, m = 1, 0\n",
    "# Заранее присваиваю значение центральному элементу\n",
    "# матрицы\n",
    "mat[n//2][n//2]=n*n\n",
    "for v in range(n//2):\n",
    "    #Заполнение верхней горизонтальной матрицы\n",
    "    for i in range(n-m):\n",
    "        mat[v][i+v] = st\n",
    "        st+=1\n",
    "        #i+=1\n",
    "    #Заполнение правой вертикальной матрицы    \n",
    "    for i in range(v+1, n-v):\n",
    "        mat[i][-v-1] = st\n",
    "        st+=1\n",
    "        #i+=1\n",
    "    #Заполнение нижней горизонтальной матрицы\n",
    "    for i in range(v+1, n-v):\n",
    "        mat[-v-1][-i-1] =st\n",
    "        st+=1\n",
    "        #i+=1\n",
    "    #Заполнение левой вертикальной матрицы\n",
    "    for i in range(v+1, n-(v+1)):\n",
    "        mat[-i-1][v]=st\n",
    "        st+=1\n",
    "        #i+=1\n",
    "    #v+=1\n",
    "    m+=2\n",
    "#Вывод результата на экран\n",
    "for i in mat:\n",
    "    print(*i)"
   ]
  },
  {
   "cell_type": "code",
   "execution_count": 42,
   "metadata": {},
   "outputs": [
    {
     "data": {
      "text/plain": [
       "2"
      ]
     },
     "execution_count": 42,
     "metadata": {},
     "output_type": "execute_result"
    }
   ],
   "source": [
    "5//2"
   ]
  },
  {
   "cell_type": "code",
   "execution_count": null,
   "metadata": {},
   "outputs": [],
   "source": []
  }
 ],
 "metadata": {
  "kernelspec": {
   "display_name": "Python 3",
   "language": "python",
   "name": "python3"
  },
  "language_info": {
   "codemirror_mode": {
    "name": "ipython",
    "version": 3
   },
   "file_extension": ".py",
   "mimetype": "text/x-python",
   "name": "python",
   "nbconvert_exporter": "python",
   "pygments_lexer": "ipython3",
   "version": "3.8.1"
  }
 },
 "nbformat": 4,
 "nbformat_minor": 4
}
