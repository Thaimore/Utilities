{
 "cells": [
  {
   "cell_type": "code",
   "execution_count": 2,
   "metadata": {},
   "outputs": [
    {
     "name": "stdout",
     "output_type": "stream",
     "text": [
      "-20\n",
      "False\n"
     ]
    }
   ],
   "source": [
    "x = int(input())\n",
    "if (-15 < x <= 12) or (14 < x < 17) or (19 <= x) :\n",
    "    print (\"True\")\n",
    "else: print (\"False\")"
   ]
  },
  {
   "cell_type": "code",
   "execution_count": 21,
   "metadata": {},
   "outputs": [
    {
     "name": "stdout",
     "output_type": "stream",
     "text": [
      "0\n",
      "2\n",
      "mod\n",
      "0.0\n"
     ]
    }
   ],
   "source": [
    "a = float(input(''))\n",
    "b = float(input(''))\n",
    "c = str(input(''))\n",
    "if (c == \"mod\") and (b == 0) :\n",
    "    print (\"Деление на 0!\")\n",
    "elif (c == \"mod\") :\n",
    "        print (a % b)\n",
    "        \n",
    "if c == \"*\" :\n",
    "    print (a * b)\n",
    "    \n",
    "if c == \"pow\" :\n",
    "    print (a ** b)\n",
    "    \n",
    "if (c == \"/\") and (b == 0) :\n",
    "    print (\"Деление на 0!\")\n",
    "if c == \"/\" :\n",
    "    print (a / b)"
   ]
  },
  {
   "cell_type": "code",
   "execution_count": 7,
   "metadata": {},
   "outputs": [
    {
     "name": "stdout",
     "output_type": "stream",
     "text": [
      "adb\n",
      "adb\n"
     ]
    }
   ],
   "source": [
    "a = float(input(''))\n",
    "b = float(input(''))\n",
    "c = str(input(''))\n",
    "if (c == \"mod\") and ((b == 0) or (a == 0)) :\n",
    "    print (\"Деление на 0!\")\n",
    "elif (c == \"mod\") :\n",
    "        print (a % b)\n",
    "        \n",
    "if c == \"*\" :\n",
    "    print (a * b)\n",
    "    \n",
    "if c == \"pow\" :\n",
    "    print (a ** b)\n",
    "    \n",
    "if (c == \"/\") and ((b == 0) or (a == 0)) :\n",
    "    print (\"Деление на 0!\")\n",
    "if c == \"/\" :\n",
    "    print (a / b)\n",
    "if c == \"-\" :\n",
    "    print (a - b)\n",
    "if c == \"+\" :\n",
    "    print (a + b)\n",
    "    "
   ]
  },
  {
   "cell_type": "code",
   "execution_count": null,
   "metadata": {},
   "outputs": [],
   "source": [
    "Площадь треугольника:\n",
    "\n",
    "S = √p(p - a)(p - b)(p - c)\n",
    "\n",
    "Площадь прямоугольника:\n",
    "\n",
    "S = a · b\n",
    "\n",
    "Площадь круга:\n",
    "\n",
    "S = π r2"
   ]
  },
  {
   "cell_type": "code",
   "execution_count": 38,
   "metadata": {},
   "outputs": [
    {
     "name": "stdout",
     "output_type": "stream",
     "text": [
      "круг\n",
      "2\n",
      "12.56\n"
     ]
    }
   ],
   "source": [
    "f = str(input())\n",
    "g = float(3.14)\n",
    "if f == 'треугольник' :\n",
    "    a = float(input())\n",
    "    b = float(input())\n",
    "    c = float(input())\n",
    "    p = float((a + b +c) / 2)\n",
    "    s = (float((p * (p - a) * (p - b) * (p - c)) ** 0.5))\n",
    "    print (s)\n",
    "if f == 'прямоугольник' :\n",
    "    a = float(input())\n",
    "    b = float(input())\n",
    "    s = float(a * b)\n",
    "    print (s)\n",
    "if f == 'круг' :\n",
    "    a = float(input()) ** 2\n",
    "    s = float(g * a)\n",
    "    print (s)"
   ]
  },
  {
   "cell_type": "code",
   "execution_count": 40,
   "metadata": {},
   "outputs": [
    {
     "name": "stdout",
     "output_type": "stream",
     "text": [
      "10\n",
      "6\n",
      "4\n",
      "10\n",
      "4\n",
      "6\n"
     ]
    }
   ],
   "source": [
    "a = int(input())\n",
    "b = int(input())\n",
    "c = int(input())\n",
    "if a >= b > c :\n",
    "    print (a)\n",
    "    print (c)\n",
    "    print (b)\n",
    "if a >= c > b :\n",
    "    print (a)\n",
    "    print (b)\n",
    "    print (c)\n",
    "if b >= a > c:\n",
    "    print (b)\n",
    "    print (c)\n",
    "    print (a)\n",
    "if b >= c > a:\n",
    "    print (b)\n",
    "    print (a)\n",
    "    print (c)\n",
    "if c >= a > b:\n",
    "    print (c)\n",
    "    print (b)\n",
    "    print (a)\n",
    "if c >= b > a:\n",
    "    print (c)\n",
    "    print (a)\n",
    "    print (b)"
   ]
  },
  {
   "cell_type": "code",
   "execution_count": 39,
   "metadata": {},
   "outputs": [
    {
     "ename": "SyntaxError",
     "evalue": "invalid syntax (<ipython-input-39-6828c624d6d1>, line 3)",
     "output_type": "error",
     "traceback": [
      "\u001b[1;36m  File \u001b[1;32m\"<ipython-input-39-6828c624d6d1>\"\u001b[1;36m, line \u001b[1;32m3\u001b[0m\n\u001b[1;33m    (if a == b) and (if b == a) :\u001b[0m\n\u001b[1;37m     ^\u001b[0m\n\u001b[1;31mSyntaxError\u001b[0m\u001b[1;31m:\u001b[0m invalid syntax\n"
     ]
    }
   ],
   "source": []
  },
  {
   "cell_type": "code",
   "execution_count": null,
   "metadata": {},
   "outputs": [],
   "source": []
  }
 ],
 "metadata": {
  "kernelspec": {
   "display_name": "Python 3",
   "language": "python",
   "name": "python3"
  },
  "language_info": {
   "codemirror_mode": {
    "name": "ipython",
    "version": 3
   },
   "file_extension": ".py",
   "mimetype": "text/x-python",
   "name": "python",
   "nbconvert_exporter": "python",
   "pygments_lexer": "ipython3",
   "version": "3.8.1"
  }
 },
 "nbformat": 4,
 "nbformat_minor": 4
}
