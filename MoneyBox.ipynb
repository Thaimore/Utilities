{
 "cells": [
  {
   "cell_type": "code",
   "execution_count": 41,
   "metadata": {},
   "outputs": [
    {
     "name": "stdout",
     "output_type": "stream",
     "text": [
      "True\n",
      "False\n"
     ]
    },
    {
     "data": {
      "text/plain": [
       "13"
      ]
     },
     "execution_count": 41,
     "metadata": {},
     "output_type": "execute_result"
    }
   ],
   "source": [
    "class MoneyBox:\n",
    "    def __init__(self, capacity, count = 0):\n",
    "        self.capacity = capacity\n",
    "        self.count = count\n",
    "\n",
    "    def can_add(self, v):\n",
    "        self.v = v\n",
    "        if self.capacity - self.v < 0 :\n",
    "            return False\n",
    "        else:\n",
    "            return True\n",
    "\n",
    "        \n",
    "    def add(self, v):\n",
    "        self.v = v\n",
    "        self.capacity -= v\n",
    "\n",
    "            \n",
    "a = MoneyBox(30)\n",
    "a.add(17)\n",
    "print(a.can_add(13))\n",
    "print(a.can_add(40))\n",
    "a.capacity"
   ]
  },
  {
   "cell_type": "code",
   "execution_count": null,
   "metadata": {},
   "outputs": [],
   "source": []
  }
 ],
 "metadata": {
  "kernelspec": {
   "display_name": "Python 3",
   "language": "python",
   "name": "python3"
  },
  "language_info": {
   "codemirror_mode": {
    "name": "ipython",
    "version": 3
   },
   "file_extension": ".py",
   "mimetype": "text/x-python",
   "name": "python",
   "nbconvert_exporter": "python",
   "pygments_lexer": "ipython3",
   "version": "3.8.3"
  }
 },
 "nbformat": 4,
 "nbformat_minor": 4
}
