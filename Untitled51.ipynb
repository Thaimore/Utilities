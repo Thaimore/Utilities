{
 "cells": [
  {
   "cell_type": "code",
   "execution_count": 2,
   "metadata": {},
   "outputs": [
    {
     "name": "stdout",
     "output_type": "stream",
     "text": [
      "100 2\n",
      "200\n",
      "50\n",
      "[50, 200]\n",
      "1\n"
     ]
    }
   ],
   "source": [
    "pol = input().split()\n",
    "a = int(pol[0])\n",
    "d = []\n",
    "b = []\n",
    "f = 0\n",
    "for i in range(int(pol[1])):\n",
    "    b += input().split()\n",
    "for i in b:\n",
    "    d += [int(i)]\n",
    "d.sort()\n",
    "for i in range(len(d)):\n",
    "    c = int(d[i])\n",
    "    if a - c < 0:\n",
    "        continue\n",
    "    a -= c\n",
    "    f += 1\n",
    "print(f)\n"
   ]
  },
  {
   "cell_type": "code",
   "execution_count": 35,
   "metadata": {},
   "outputs": [
    {
     "name": "stdout",
     "output_type": "stream",
     "text": [
      "2\n",
      "2 4\n",
      "3\n",
      "2 6 9\n",
      "Yes\n"
     ]
    }
   ],
   "source": [
    "n = int(input())\n",
    "sel = input().split()\n",
    "t = int(input())\n",
    "bom = input().split()\n",
    "\n",
    "for i in range (len(sel)):\n",
    "    b = int(sel[i])\n",
    "    for f in range (100001):\n",
    "        if str(b + f) in bom:\n",
    "            print(bom.index(str(b + f)) + 1, end=' ')\n",
    "            break\n",
    "        if str(b - f) in bom:\n",
    "            print(bom.index(str(b - f)) + 1, end=' ')\n",
    "            break\n"
   ]
  },
  {
   "cell_type": "code",
   "execution_count": null,
   "metadata": {},
   "outputs": [],
   "source": [
    "scs = []\n",
    "for i in range (sel):\n",
    "    scs += input().split()\n",
    "    selr += [[scs[i]]]\n",
    "    selr[i] += str(i + 1)\n",
    "bom = int(input())\n",
    "scb = []\n",
    "bomr = []\n",
    "for i in range (bom):\n",
    "    scb += input().split()\n",
    "    bomr += [[scb[i]]]\n",
    "    bomr[i] += str(i + 1)\n",
    "\n",
    "print(selr, '\\n', scs, '\\n', scb, '\\n', bomr)"
   ]
  },
  {
   "cell_type": "code",
   "execution_count": 42,
   "metadata": {},
   "outputs": [
    {
     "name": "stdout",
     "output_type": "stream",
     "text": [
      "3\n",
      "10 24 26\n",
      "5\n",
      "3 7 9 14 22\n",
      "3 5 5 "
     ]
    }
   ],
   "source": [
    "n = int(input())\n",
    "sel = input().split()\n",
    "t = int(input())\n",
    "bom = input().split()\n",
    "\n",
    "for i in range (len(sel)):\n",
    "    b = int(sel[i])\n",
    "    for f in range (100001):\n",
    "        if str(b + f) in bom or str(b - f) in bom:\n",
    "            if str(b + f) in bom:\n",
    "                print(bom.index(str(b + f)) + 1, end=' ')\n",
    "                break\n",
    "            if str(b - f) in bom:\n",
    "                print(bom.index(str(b - f)) + 1, end=' ')\n",
    "                break\n",
    "            \n"
   ]
  },
  {
   "cell_type": "code",
   "execution_count": 40,
   "metadata": {},
   "outputs": [
    {
     "name": "stdout",
     "output_type": "stream",
     "text": [
      "4\n",
      "1 2 6 10\n",
      "2\n",
      "7 3\n",
      "[7, 3]\n",
      "1 1 0 0 "
     ]
    }
   ],
   "source": [
    "n = int(input())\n",
    "sel = input().split()\n",
    "t = int(input())\n",
    "bom = input().split()\n",
    "b = []\n",
    "for i in bom:\n",
    "    b += [int(i)]\n",
    "print(b)\n",
    "def nearest(lst, target):\n",
    "    return min(lst, key=lambda x: abs(x-target))\n",
    "\n",
    "for i in range(len(sel)):\n",
    "    a = nearest(b, int(sel[i]))\n",
    "    print(bom.index(str(a)) + 1, end=' ')"
   ]
  },
  {
   "cell_type": "code",
   "execution_count": 57,
   "metadata": {},
   "outputs": [
    {
     "name": "stdout",
     "output_type": "stream",
     "text": [
      "4\n",
      "1 2 6 10\n",
      "2\n",
      "7 3\n"
     ]
    },
    {
     "ename": "TypeError",
     "evalue": "'int' object is not subscriptable",
     "output_type": "error",
     "traceback": [
      "\u001b[1;31m---------------------------------------------------------------------------\u001b[0m",
      "\u001b[1;31mTypeError\u001b[0m                                 Traceback (most recent call last)",
      "\u001b[1;32m<ipython-input-57-592716afbb4b>\u001b[0m in \u001b[0;36m<module>\u001b[1;34m\u001b[0m\n\u001b[0;32m      9\u001b[0m \u001b[1;32mfor\u001b[0m \u001b[0mi\u001b[0m \u001b[1;32min\u001b[0m \u001b[0mrange\u001b[0m\u001b[1;33m(\u001b[0m\u001b[0mlen\u001b[0m\u001b[1;33m(\u001b[0m\u001b[0mbom\u001b[0m\u001b[1;33m)\u001b[0m\u001b[1;33m)\u001b[0m\u001b[1;33m:\u001b[0m\u001b[1;33m\u001b[0m\u001b[1;33m\u001b[0m\u001b[0m\n\u001b[0;32m     10\u001b[0m     \u001b[0msbom\u001b[0m \u001b[1;33m=\u001b[0m \u001b[0msbom\u001b[0m \u001b[1;33m+\u001b[0m \u001b[1;33m[\u001b[0m\u001b[1;33m[\u001b[0m\u001b[0mint\u001b[0m\u001b[1;33m(\u001b[0m\u001b[0mbom\u001b[0m\u001b[1;33m[\u001b[0m\u001b[0mi\u001b[0m\u001b[1;33m]\u001b[0m\u001b[1;33m)\u001b[0m\u001b[1;33m]\u001b[0m \u001b[1;33m+\u001b[0m \u001b[1;33m[\u001b[0m\u001b[0mi\u001b[0m \u001b[1;33m+\u001b[0m \u001b[1;36m1\u001b[0m\u001b[1;33m]\u001b[0m\u001b[1;33m]\u001b[0m\u001b[1;33m\u001b[0m\u001b[1;33m\u001b[0m\u001b[0m\n\u001b[1;32m---> 11\u001b[1;33m \u001b[0mssel\u001b[0m \u001b[1;33m=\u001b[0m \u001b[0msorted\u001b[0m\u001b[1;33m(\u001b[0m\u001b[0mssel\u001b[0m\u001b[1;33m,\u001b[0m \u001b[0mkey\u001b[0m\u001b[1;33m=\u001b[0m\u001b[1;32mlambda\u001b[0m \u001b[0mx\u001b[0m\u001b[1;33m:\u001b[0m \u001b[0mx\u001b[0m\u001b[1;33m[\u001b[0m\u001b[1;36m0\u001b[0m\u001b[1;33m]\u001b[0m\u001b[1;33m[\u001b[0m\u001b[1;36m0\u001b[0m\u001b[1;33m]\u001b[0m\u001b[1;33m)\u001b[0m\u001b[1;33m\u001b[0m\u001b[1;33m\u001b[0m\u001b[0m\n\u001b[0m\u001b[0;32m     12\u001b[0m \u001b[0mprint\u001b[0m\u001b[1;33m(\u001b[0m\u001b[0mssel\u001b[0m\u001b[1;33m)\u001b[0m\u001b[1;33m\u001b[0m\u001b[1;33m\u001b[0m\u001b[0m\n",
      "\u001b[1;32m<ipython-input-57-592716afbb4b>\u001b[0m in \u001b[0;36m<lambda>\u001b[1;34m(x)\u001b[0m\n\u001b[0;32m      9\u001b[0m \u001b[1;32mfor\u001b[0m \u001b[0mi\u001b[0m \u001b[1;32min\u001b[0m \u001b[0mrange\u001b[0m\u001b[1;33m(\u001b[0m\u001b[0mlen\u001b[0m\u001b[1;33m(\u001b[0m\u001b[0mbom\u001b[0m\u001b[1;33m)\u001b[0m\u001b[1;33m)\u001b[0m\u001b[1;33m:\u001b[0m\u001b[1;33m\u001b[0m\u001b[1;33m\u001b[0m\u001b[0m\n\u001b[0;32m     10\u001b[0m     \u001b[0msbom\u001b[0m \u001b[1;33m=\u001b[0m \u001b[0msbom\u001b[0m \u001b[1;33m+\u001b[0m \u001b[1;33m[\u001b[0m\u001b[1;33m[\u001b[0m\u001b[0mint\u001b[0m\u001b[1;33m(\u001b[0m\u001b[0mbom\u001b[0m\u001b[1;33m[\u001b[0m\u001b[0mi\u001b[0m\u001b[1;33m]\u001b[0m\u001b[1;33m)\u001b[0m\u001b[1;33m]\u001b[0m \u001b[1;33m+\u001b[0m \u001b[1;33m[\u001b[0m\u001b[0mi\u001b[0m \u001b[1;33m+\u001b[0m \u001b[1;36m1\u001b[0m\u001b[1;33m]\u001b[0m\u001b[1;33m]\u001b[0m\u001b[1;33m\u001b[0m\u001b[1;33m\u001b[0m\u001b[0m\n\u001b[1;32m---> 11\u001b[1;33m \u001b[0mssel\u001b[0m \u001b[1;33m=\u001b[0m \u001b[0msorted\u001b[0m\u001b[1;33m(\u001b[0m\u001b[0mssel\u001b[0m\u001b[1;33m,\u001b[0m \u001b[0mkey\u001b[0m\u001b[1;33m=\u001b[0m\u001b[1;32mlambda\u001b[0m \u001b[0mx\u001b[0m\u001b[1;33m:\u001b[0m \u001b[0mx\u001b[0m\u001b[1;33m[\u001b[0m\u001b[1;36m0\u001b[0m\u001b[1;33m]\u001b[0m\u001b[1;33m[\u001b[0m\u001b[1;36m0\u001b[0m\u001b[1;33m]\u001b[0m\u001b[1;33m)\u001b[0m\u001b[1;33m\u001b[0m\u001b[1;33m\u001b[0m\u001b[0m\n\u001b[0m\u001b[0;32m     12\u001b[0m \u001b[0mprint\u001b[0m\u001b[1;33m(\u001b[0m\u001b[0mssel\u001b[0m\u001b[1;33m)\u001b[0m\u001b[1;33m\u001b[0m\u001b[1;33m\u001b[0m\u001b[0m\n",
      "\u001b[1;31mTypeError\u001b[0m: 'int' object is not subscriptable"
     ]
    }
   ],
   "source": [
    "n = int(input())\n",
    "sel = list(map(int, input().split()))\n",
    "t = int(input())\n",
    "bom = list(map(int, input().split()))\n",
    "\n",
    "for i in sel:\n",
    "    for f in range(100001):\n",
    "        if (i + f) in bom or (i - f) in bom:\n",
    "            if (i + f) in bom:\n",
    "                print(bom.index(i + f) + 1, end=' ')\n",
    "                break\n",
    "            if (i - f) in bom:\n",
    "                print(bom.index(i - f) + 1, end=' ')\n",
    "                break\n",
    "            \n"
   ]
  },
  {
   "cell_type": "code",
   "execution_count": 71,
   "metadata": {},
   "outputs": [
    {
     "name": "stdout",
     "output_type": "stream",
     "text": [
      "yes\n"
     ]
    }
   ],
   "source": [
    "a = 5\n",
    "if a in range(0,10):\n",
    "    print('yes')"
   ]
  },
  {
   "cell_type": "code",
   "execution_count": 1,
   "metadata": {},
   "outputs": [
    {
     "name": "stdout",
     "output_type": "stream",
     "text": [
      "10\n",
      "79 64 13 8 38 29 58 20 56 17\n",
      "10\n",
      "53 19 20 85 82 39 58 46 51 69\n"
     ]
    },
    {
     "ename": "TypeError",
     "evalue": "'int' object is not subscriptable",
     "output_type": "error",
     "traceback": [
      "\u001b[1;31m---------------------------------------------------------------------------\u001b[0m",
      "\u001b[1;31mTypeError\u001b[0m                                 Traceback (most recent call last)",
      "\u001b[1;32m<ipython-input-1-ca318df78058>\u001b[0m in \u001b[0;36m<module>\u001b[1;34m\u001b[0m\n\u001b[0;32m      5\u001b[0m \u001b[0mf\u001b[0m \u001b[1;33m=\u001b[0m \u001b[1;36m0\u001b[0m\u001b[1;33m\u001b[0m\u001b[1;33m\u001b[0m\u001b[0m\n\u001b[0;32m      6\u001b[0m \u001b[1;33m\u001b[0m\u001b[0m\n\u001b[1;32m----> 7\u001b[1;33m \u001b[0mtown\u001b[0m \u001b[1;33m=\u001b[0m \u001b[0msorted\u001b[0m\u001b[1;33m(\u001b[0m\u001b[0mtown\u001b[0m\u001b[1;33m,\u001b[0m \u001b[0mkey\u001b[0m\u001b[1;33m=\u001b[0m\u001b[1;32mlambda\u001b[0m \u001b[0mx\u001b[0m\u001b[1;33m:\u001b[0m \u001b[0mx\u001b[0m\u001b[1;33m[\u001b[0m\u001b[1;36m0\u001b[0m\u001b[1;33m]\u001b[0m\u001b[1;33m[\u001b[0m\u001b[1;36m1\u001b[0m\u001b[1;33m]\u001b[0m\u001b[1;33m)\u001b[0m\u001b[1;33m\u001b[0m\u001b[1;33m\u001b[0m\u001b[0m\n\u001b[0m\u001b[0;32m      8\u001b[0m \u001b[0mbomb\u001b[0m \u001b[1;33m=\u001b[0m \u001b[0msorted\u001b[0m\u001b[1;33m(\u001b[0m\u001b[0mbomb\u001b[0m\u001b[1;33m,\u001b[0m \u001b[0mkey\u001b[0m\u001b[1;33m=\u001b[0m\u001b[1;32mlambda\u001b[0m \u001b[0mx\u001b[0m\u001b[1;33m:\u001b[0m \u001b[0mx\u001b[0m\u001b[1;33m[\u001b[0m\u001b[1;36m0\u001b[0m\u001b[1;33m]\u001b[0m\u001b[1;33m[\u001b[0m\u001b[1;36m1\u001b[0m\u001b[1;33m]\u001b[0m\u001b[1;33m)\u001b[0m\u001b[1;33m\u001b[0m\u001b[1;33m\u001b[0m\u001b[0m\n\u001b[0;32m      9\u001b[0m \u001b[1;32mif\u001b[0m \u001b[0mm\u001b[0m \u001b[1;33m==\u001b[0m \u001b[1;36m1\u001b[0m\u001b[1;33m:\u001b[0m\u001b[1;33m\u001b[0m\u001b[1;33m\u001b[0m\u001b[0m\n",
      "\u001b[1;32m<ipython-input-1-ca318df78058>\u001b[0m in \u001b[0;36m<lambda>\u001b[1;34m(x)\u001b[0m\n\u001b[0;32m      5\u001b[0m \u001b[0mf\u001b[0m \u001b[1;33m=\u001b[0m \u001b[1;36m0\u001b[0m\u001b[1;33m\u001b[0m\u001b[1;33m\u001b[0m\u001b[0m\n\u001b[0;32m      6\u001b[0m \u001b[1;33m\u001b[0m\u001b[0m\n\u001b[1;32m----> 7\u001b[1;33m \u001b[0mtown\u001b[0m \u001b[1;33m=\u001b[0m \u001b[0msorted\u001b[0m\u001b[1;33m(\u001b[0m\u001b[0mtown\u001b[0m\u001b[1;33m,\u001b[0m \u001b[0mkey\u001b[0m\u001b[1;33m=\u001b[0m\u001b[1;32mlambda\u001b[0m \u001b[0mx\u001b[0m\u001b[1;33m:\u001b[0m \u001b[0mx\u001b[0m\u001b[1;33m[\u001b[0m\u001b[1;36m0\u001b[0m\u001b[1;33m]\u001b[0m\u001b[1;33m[\u001b[0m\u001b[1;36m1\u001b[0m\u001b[1;33m]\u001b[0m\u001b[1;33m)\u001b[0m\u001b[1;33m\u001b[0m\u001b[1;33m\u001b[0m\u001b[0m\n\u001b[0m\u001b[0;32m      8\u001b[0m \u001b[0mbomb\u001b[0m \u001b[1;33m=\u001b[0m \u001b[0msorted\u001b[0m\u001b[1;33m(\u001b[0m\u001b[0mbomb\u001b[0m\u001b[1;33m,\u001b[0m \u001b[0mkey\u001b[0m\u001b[1;33m=\u001b[0m\u001b[1;32mlambda\u001b[0m \u001b[0mx\u001b[0m\u001b[1;33m:\u001b[0m \u001b[0mx\u001b[0m\u001b[1;33m[\u001b[0m\u001b[1;36m0\u001b[0m\u001b[1;33m]\u001b[0m\u001b[1;33m[\u001b[0m\u001b[1;36m1\u001b[0m\u001b[1;33m]\u001b[0m\u001b[1;33m)\u001b[0m\u001b[1;33m\u001b[0m\u001b[1;33m\u001b[0m\u001b[0m\n\u001b[0;32m      9\u001b[0m \u001b[1;32mif\u001b[0m \u001b[0mm\u001b[0m \u001b[1;33m==\u001b[0m \u001b[1;36m1\u001b[0m\u001b[1;33m:\u001b[0m\u001b[1;33m\u001b[0m\u001b[1;33m\u001b[0m\u001b[0m\n",
      "\u001b[1;31mTypeError\u001b[0m: 'int' object is not subscriptable"
     ]
    }
   ],
   "source": [
    "n = int(input())\n",
    "town = tuple(enumerate(map(int, input().split())))\n",
    "m = int(input())\n",
    "bomb = tuple(enumerate(map(int, input().split())))\n",
    "f = 0\n",
    "\n",
    "town = sorted(town, key=lambda x: x[0][1])\n",
    "bomb = sorted(bomb, key=lambda x: x[0][1])\n",
    "if m == 1:\n",
    "    for i in range(n):\n",
    "        print(bomb[0][0], end=' ')\n",
    "else:\n",
    "    for i in range(len(town)):\n",
    "        b = town[i][1]\n",
    "        while f < len(bomb):\n",
    "            if f == len(bomb) - 1 and b in range(bomb[f][1], 1000000):\n",
    "                if i == (len(town) - 1):\n",
    "                    print(bomb[f][0] + 1)\n",
    "                    break\n",
    "                else:\n",
    "                    print(bomb[f][0] + 1, end=' ')\n",
    "                    break\n",
    "            if b in range(bomb[f][1], bomb[f+1][1]):\n",
    "                if b - bomb[f][1] <= bomb[f+1][1] - b:\n",
    "                    print(bomb[f][0] + 1, end=' ')\n",
    "                    break\n",
    "                else:\n",
    "                    print(bomb[f+1][0] + 1, end=' ')\n",
    "                    break\n",
    "            if b in range(0, bomb[f][1]):\n",
    "                print(bomb[f][0] + 1, end=' ')\n",
    "                break\n",
    "            f += 1"
   ]
  },
  {
   "cell_type": "code",
   "execution_count": 22,
   "metadata": {},
   "outputs": [
    {
     "name": "stdout",
     "output_type": "stream",
     "text": [
      "4\n",
      "1 2 6 10\n",
      "2\n",
      "7 3\n",
      "[(0, 1), (1, 2), (2, 6), (3, 10)]\n",
      "[(1, 3), (0, 7)]\n"
     ]
    },
    {
     "ename": "IndexError",
     "evalue": "list index out of range",
     "output_type": "error",
     "traceback": [
      "\u001b[1;31m---------------------------------------------------------------------------\u001b[0m",
      "\u001b[1;31mIndexError\u001b[0m                                Traceback (most recent call last)",
      "\u001b[1;32m<ipython-input-22-8d785a259fe4>\u001b[0m in \u001b[0;36m<module>\u001b[1;34m\u001b[0m\n\u001b[0;32m     10\u001b[0m \u001b[1;32mfor\u001b[0m \u001b[0mi\u001b[0m \u001b[1;32min\u001b[0m \u001b[0mrange\u001b[0m\u001b[1;33m(\u001b[0m\u001b[0mlen\u001b[0m\u001b[1;33m(\u001b[0m\u001b[0mtown\u001b[0m\u001b[1;33m)\u001b[0m\u001b[1;33m)\u001b[0m\u001b[1;33m:\u001b[0m\u001b[1;33m\u001b[0m\u001b[1;33m\u001b[0m\u001b[0m\n\u001b[0;32m     11\u001b[0m         \u001b[0mb\u001b[0m \u001b[1;33m=\u001b[0m \u001b[0mint\u001b[0m\u001b[1;33m(\u001b[0m\u001b[0mtown\u001b[0m\u001b[1;33m[\u001b[0m\u001b[0mi\u001b[0m\u001b[1;33m]\u001b[0m\u001b[1;33m[\u001b[0m\u001b[1;36m1\u001b[0m\u001b[1;33m]\u001b[0m\u001b[1;33m)\u001b[0m\u001b[1;33m\u001b[0m\u001b[1;33m\u001b[0m\u001b[0m\n\u001b[1;32m---> 12\u001b[1;33m         \u001b[0mc\u001b[0m \u001b[1;33m=\u001b[0m \u001b[0mint\u001b[0m\u001b[1;33m(\u001b[0m\u001b[0mbomb\u001b[0m\u001b[1;33m[\u001b[0m\u001b[0mf\u001b[0m\u001b[1;33m]\u001b[0m\u001b[1;33m[\u001b[0m\u001b[1;36m1\u001b[0m\u001b[1;33m]\u001b[0m\u001b[1;33m)\u001b[0m\u001b[1;33m\u001b[0m\u001b[1;33m\u001b[0m\u001b[0m\n\u001b[0m\u001b[0;32m     13\u001b[0m         \u001b[0md\u001b[0m \u001b[1;33m=\u001b[0m \u001b[0mint\u001b[0m\u001b[1;33m(\u001b[0m\u001b[0mbomb\u001b[0m\u001b[1;33m[\u001b[0m\u001b[0mf\u001b[0m\u001b[1;33m+\u001b[0m\u001b[1;36m1\u001b[0m\u001b[1;33m]\u001b[0m\u001b[1;33m[\u001b[0m\u001b[1;36m1\u001b[0m\u001b[1;33m]\u001b[0m\u001b[1;33m)\u001b[0m\u001b[1;33m\u001b[0m\u001b[1;33m\u001b[0m\u001b[0m\n\u001b[0;32m     14\u001b[0m         \u001b[1;32mwhile\u001b[0m \u001b[0mf\u001b[0m \u001b[1;33m<=\u001b[0m \u001b[0mlen\u001b[0m\u001b[1;33m(\u001b[0m\u001b[0mbomb\u001b[0m\u001b[1;33m)\u001b[0m\u001b[1;33m:\u001b[0m\u001b[1;33m\u001b[0m\u001b[1;33m\u001b[0m\u001b[0m\n",
      "\u001b[1;31mIndexError\u001b[0m: list index out of range"
     ]
    }
   ],
   "source": [
    "n = int(input())\n",
    "town = tuple(enumerate(map(int, input().split())))\n",
    "m = int(input())\n",
    "bomb = tuple(enumerate(map(int, input().split())))\n",
    "f = 0\n",
    "a = [*town]\n",
    "print(a)\n",
    "town = sorted(town, key=lambda x: x[1])\n",
    "print(town)\n",
    "bomb = sorted(bomb, key=lambda x: x[1])\n",
    "print(bomb)\n",
    "for i in range(len(town)):\n",
    "        b = int(town[i][1])\n",
    "        c = int(bomb[f][1])\n",
    "        d = int(bomb[f+1][1])\n",
    "        while f <= len(bomb):\n",
    "            if b in range(c,d):\n",
    "                if b - c <= d - b:\n",
    "                    print(bomb[f][0], end=' ')\n",
    "                    break\n",
    "                else:\n",
    "                    print(bomb[f+1][0], end=' ')\n",
    "                    break\n",
    "            f += 1"
   ]
  },
  {
   "cell_type": "code",
   "execution_count": 24,
   "metadata": {},
   "outputs": [
    {
     "name": "stdout",
     "output_type": "stream",
     "text": [
      "False\n"
     ]
    }
   ],
   "source": [
    "a = 5\n",
    "print(a in range(10,0))"
   ]
  },
  {
   "cell_type": "code",
   "execution_count": 12,
   "metadata": {},
   "outputs": [
    {
     "name": "stdout",
     "output_type": "stream",
     "text": [
      "1 9 5 2 4 68 84 69\n",
      "[1, 9, 5, 2, 4, 68, 84, 69]\n",
      "[1, 2, 4, 5, 9, 68, 69, 84]\n"
     ]
    }
   ],
   "source": [
    "n = int(input())\n",
    "town = list(map(int, input().split()))\n",
    "m = int(input())\n",
    "bomb = list(map(int, input().split()))\n",
    "f = 0\n",
    "\n",
    "stown = sorted(town, key=lambda x: x[0][1])\n",
    "sbomb = sorted(bomb, key=lambda x: x[0][1])\n",
    "if m == 1:\n",
    "    for i in range(n):\n",
    "        print('1', end=' ')\n",
    "else:\n",
    "    for i in range(len(town)):\n",
    "        b = town[i][1]\n",
    "        while f < len(bomb):\n",
    "            if f == len(bomb) - 1 and b in range(bomb[f][1], 1000000):\n",
    "                if i == (len(town) - 1):\n",
    "                    print(bomb[f][0] + 1)\n",
    "                    break\n",
    "                else:\n",
    "                    print(bomb[f][0] + 1, end=' ')\n",
    "                    break\n",
    "            if b in range(bomb[f][1], bomb[f+1][1]):\n",
    "                if b - bomb[f][1] <= bomb[f+1][1] - b:\n",
    "                    print(bomb[f][0] + 1, end=' ')\n",
    "                    break\n",
    "                else:\n",
    "                    print(bomb[f+1][0] + 1, end=' ')\n",
    "                    break\n",
    "            if b in range(0, bomb[f][1]):\n",
    "                print(bomb[f][0] + 1, end=' ')\n",
    "                break\n",
    "            f += 1"
   ]
  },
  {
   "cell_type": "code",
   "execution_count": 16,
   "metadata": {},
   "outputs": [
    {
     "name": "stdout",
     "output_type": "stream",
     "text": [
      "4\n",
      "1 61 94 65 12 75\n",
      "3\n",
      "45 95 46 21\n",
      "[1, 61, 94, 65, 12, 75]\n",
      "[45, 95, 46, 21]\n",
      "[1, 12, 61, 65, 75, 94]\n",
      "[21, 45, 46, 95]\n"
     ]
    }
   ],
   "source": []
  },
  {
   "cell_type": "code",
   "execution_count": null,
   "metadata": {},
   "outputs": [],
   "source": [
    "n = int(input())\n",
    "town = list(map(int, input().split()))\n",
    "m = int(input())\n",
    "bomb = list(map(int, input().split()))\n",
    "f = 0\n",
    "\n",
    "stown = sorted(town)\n",
    "sbomb = sorted(bomb)\n",
    "if m == 1:\n",
    "    for i in range(n):\n",
    "        print('1', end=' ')\n",
    "else:\n",
    "    for i in range(len(town)):\n",
    "        b = town[i]\n",
    "        while f < len(bomb):\n",
    "            if f == len(bomb) - 1 and b in range(bomb[f], 1000000):\n",
    "                if i == (len(town) - 1):\n",
    "                    print(bomb.index(sbomb[f]) + 1, end=' ')\n",
    "                    f = 0\n",
    "                    break\n",
    "            if b in range(sbomb[f], sbomb[f+1]):\n",
    "                if b - sbomb[f] < sbomb[f+1] - b:\n",
    "                    print(bomb.index(sbomb[f]) + 1, end=' ')\n",
    "                    f = 0\n",
    "                    break\n",
    "                else:\n",
    "                    print(bomb.index(sbomb[f+1]) + 1, end=' ')\n",
    "                    f = 0\n",
    "                    break\n",
    "            if b in range(0, sbomb[f]):\n",
    "                print(bomb.index(sbomb[f]) + 1, end=' ')\n",
    "                f = 0\n",
    "                break\n",
    "            f += 1\n"
   ]
  }
 ],
 "metadata": {
  "kernelspec": {
   "display_name": "Python 3",
   "language": "python",
   "name": "python3"
  },
  "language_info": {
   "codemirror_mode": {
    "name": "ipython",
    "version": 3
   },
   "file_extension": ".py",
   "mimetype": "text/x-python",
   "name": "python",
   "nbconvert_exporter": "python",
   "pygments_lexer": "ipython3",
   "version": "3.8.1"
  }
 },
 "nbformat": 4,
 "nbformat_minor": 4
}
