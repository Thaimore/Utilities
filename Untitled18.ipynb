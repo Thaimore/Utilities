{
 "cells": [
  {
   "cell_type": "code",
   "execution_count": null,
   "metadata": {},
   "outputs": [],
   "source": [
    "a = 2\n",
    "b = 4\n",
    "c = 5\n",
    "d = 7\n",
    "e = str('')\n",
    "f == a\n",
    "while (a != b) or (c != d):\n",
    "    if e == '' :\n",
    "        while f != b :\n",
    "            f += 2\n",
    "            print (e,'\\t',a,'\\t', f - 1 ) "
   ]
  },
  {
   "cell_type": "code",
   "execution_count": 31,
   "metadata": {},
   "outputs": [
    {
     "name": "stdout",
     "output_type": "stream",
     "text": [
      "4\n",
      "6\n",
      "\t 4\t5\t6\t"
     ]
    }
   ],
   "source": [
    "a = int(input())\n",
    "b = int(input())\n",
    "c = int(input())\n",
    "d = int(input())\n",
    "e = str('')\n",
    "while (c <= d) or (a <= b):\n",
    "    if e == str(''):\n",
    "        print ('\\t', c, end = '\\t')\n",
    "    else : \n",
    "        print (c, end = '\\t')\n",
    "    print (a, '\\t', )\n",
    "    if c != d :\n",
    "        c += 1\n",
    "    e = c\n",
    "while a <= b :\n",
    "    print (a, '\\t', )"
   ]
  },
  {
   "cell_type": "code",
   "execution_count": null,
   "metadata": {},
   "outputs": [],
   "source": [
    "a = 1\n",
    "b = 6\n",
    "\n",
    "while a != b + 1:\n",
    "    print (a, end = '\\t')\n",
    "    a += 1"
   ]
  },
  {
   "cell_type": "code",
   "execution_count": null,
   "metadata": {},
   "outputs": [],
   "source": [
    "a = int(input())\n",
    "b = int(input())\n",
    "c = int(input())\n",
    "d = int(input())\n",
    "e = str('')\n",
    "x == c\n",
    "while x != d :\n",
    "    x += 1\n",
    "    print (x)"
   ]
  },
  {
   "cell_type": "code",
   "execution_count": null,
   "metadata": {},
   "outputs": [],
   "source": []
  }
 ],
 "metadata": {
  "kernelspec": {
   "display_name": "Python 3",
   "language": "python",
   "name": "python3"
  },
  "language_info": {
   "codemirror_mode": {
    "name": "ipython",
    "version": 3
   },
   "file_extension": ".py",
   "mimetype": "text/x-python",
   "name": "python",
   "nbconvert_exporter": "python",
   "pygments_lexer": "ipython3",
   "version": "3.8.1"
  }
 },
 "nbformat": 4,
 "nbformat_minor": 4
}
