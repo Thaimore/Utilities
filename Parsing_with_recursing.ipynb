{
 "cells": [
  {
   "cell_type": "code",
   "execution_count": 10,
   "metadata": {},
   "outputs": [
    {
     "name": "stdout",
     "output_type": "stream",
     "text": [
      "{'color': 'blue'}\n",
      "1\n",
      "{'color': 'red'}\n",
      "2\n",
      "{'color': 'green'}\n",
      "3\n",
      "{'color': 'red'}\n",
      "2\n",
      "{'red': 4, 'green': 3, 'blue': 1}\n"
     ]
    }
   ],
   "source": [
    "from lxml import etree as et\n",
    "\n",
    "root = et.fromstring(str(input()))\n",
    "level = 1\n",
    "current = {'red': 0, 'green': 0, 'blue': 0}\n",
    "\n",
    "def pars(x, inp):\n",
    "    global current\n",
    "    current[x.attrib['color']] += inp\n",
    "    inp += 1\n",
    "    for i in x:\n",
    "        pars(i, inp)\n",
    "    \n",
    "pars(root, level)\n",
    "print(current['red'], current['green'], current['blue'])"
   ]
  },
  {
   "cell_type": "code",
   "execution_count": null,
   "metadata": {},
   "outputs": [],
   "source": []
  }
 ],
 "metadata": {
  "kernelspec": {
   "display_name": "Python 3",
   "language": "python",
   "name": "python3"
  },
  "language_info": {
   "codemirror_mode": {
    "name": "ipython",
    "version": 3
   },
   "file_extension": ".py",
   "mimetype": "text/x-python",
   "name": "python",
   "nbconvert_exporter": "python",
   "pygments_lexer": "ipython3",
   "version": "3.8.1"
  }
 },
 "nbformat": 4,
 "nbformat_minor": 4
}
