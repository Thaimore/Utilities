{
 "cells": [
  {
   "cell_type": "code",
   "execution_count": null,
   "metadata": {},
   "outputs": [],
   "source": [
    "a = []\n",
    "d = 0\n",
    "b = input().split()\n",
    "while b != ['end']:\n",
    "    a = a + [b]\n",
    "    b = input().split()\n",
    "b = []\n",
    "\n",
    "for i in range (len(a)) :\n",
    "    #for j in range (len(a[i])) :\n",
    "    b = b + [[int(f) for f in a[i]]]\n",
    "print (b)\n",
    "\n",
    "for i in range (len(a)) :\n",
    "    for j in range (len(a[i])) :\n",
    "        d = 0\n",
    "        if j == (len(a[i]) - 1) :\n",
    "            d = d + b[i+1][j]\n",
    "            d = d + b[i-1][j]\n",
    "            d = d + b[i][j-(len(a[i])) + 1]\n",
    "            d = d + b[i][j-1]\n",
    "            \n",
    "            print (d, end = ' ')\n",
    "            break\n",
    "        if i == (len(a) - 1) :\n",
    "            d = d + b[i-len(a[i]) + 1][j] # исправить\n",
    "            d = d + b[i-1][j]\n",
    "            d = d + b[i][j+1]\n",
    "            d = d + b[i][j-1]\n",
    "            print (d, end = ' ')\n",
    "            continue\n",
    "        d = d + int(b[i+1][j])\n",
    "        d = d + int(b[i-1][j])\n",
    "        d = d + int(b[i][j+1])\n",
    "        d = d + int(b[i][j-1])\n",
    "        print (d, end = ' ')\n",
    "    print ('\\n', end = '')"
   ]
  }
 ],
 "metadata": {
  "kernelspec": {
   "display_name": "Python 3",
   "language": "python",
   "name": "python3"
  },
  "language_info": {
   "codemirror_mode": {
    "name": "ipython",
    "version": 3
   },
   "file_extension": ".py",
   "mimetype": "text/x-python",
   "name": "python",
   "nbconvert_exporter": "python",
   "pygments_lexer": "ipython3",
   "version": "3.8.1"
  }
 },
 "nbformat": 4,
 "nbformat_minor": 4
}
