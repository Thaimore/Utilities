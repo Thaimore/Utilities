{
 "cells": [
  {
   "cell_type": "code",
   "execution_count": 2,
   "metadata": {},
   "outputs": [
    {
     "name": "stdout",
     "output_type": "stream",
     "text": [
      "\n",
      "\n"
     ]
    }
   ],
   "source": [
    "from bs4 import BeautifulSoup\n",
    "\n",
    "html = '<h5><span>Contents</span></h5>'\n",
    "html_2 =        \"\"\"\"\"\"\"\"\"<!DOCTYPE html>\n",
    "    <p class='text odd'>first</p>\n",
    "    <p class='text even'>second<a href='some http'>link</a></p>\n",
    "    <p class='text again'>third<a href='again http'>some link</a></p>\n",
    "    \"\"\"\"\"\"\"\"\"\n",
    "soup = BeautifulSoup(html, 'lxml')\n",
    "soup_2 = BeautifulSoup(html_2, 'lxml')\n",
    "#for i in soup.h5.recursiveChildGenerator():\n",
    "#    print(i.name)\n",
    "#print(soup_2.b.text)\n",
    "print(soup_2.p.next_sibling)\n",
    "#if not soup_2.a.next_sibling.startswith('<a'):\n",
    "    #exec('a = soup_2.a.next_sibling.next_sibling')\n",
    "    #print(a)"
   ]
  },
  {
   "cell_type": "code",
   "execution_count": 3,
   "metadata": {},
   "outputs": [
    {
     "ename": "KeyError",
     "evalue": "'href'",
     "output_type": "error",
     "traceback": [
      "\u001b[1;31m---------------------------------------------------------------------------\u001b[0m",
      "\u001b[1;31mKeyError\u001b[0m                                  Traceback (most recent call last)",
      "\u001b[1;32m<ipython-input-3-d8472011762d>\u001b[0m in \u001b[0;36m<module>\u001b[1;34m\u001b[0m\n\u001b[0;32m      1\u001b[0m \u001b[0mhtml\u001b[0m \u001b[1;33m=\u001b[0m\u001b[1;34m'<a class=\"mw-selflink selflink\">Leipzig 1960</a>'\u001b[0m\u001b[1;33m\u001b[0m\u001b[1;33m\u001b[0m\u001b[0m\n\u001b[0;32m      2\u001b[0m \u001b[0msoup\u001b[0m \u001b[1;33m=\u001b[0m \u001b[0mBeautifulSoup\u001b[0m\u001b[1;33m(\u001b[0m\u001b[0mhtml\u001b[0m\u001b[1;33m,\u001b[0m \u001b[1;34m'lxml'\u001b[0m\u001b[1;33m)\u001b[0m\u001b[1;33m\u001b[0m\u001b[1;33m\u001b[0m\u001b[0m\n\u001b[1;32m----> 3\u001b[1;33m \u001b[0mprint\u001b[0m\u001b[1;33m(\u001b[0m\u001b[0msoup\u001b[0m\u001b[1;33m.\u001b[0m\u001b[0ma\u001b[0m\u001b[1;33m[\u001b[0m\u001b[1;34m'href'\u001b[0m\u001b[1;33m]\u001b[0m\u001b[1;33m)\u001b[0m\u001b[1;33m\u001b[0m\u001b[1;33m\u001b[0m\u001b[0m\n\u001b[0m",
      "\u001b[1;32mc:\\program files (x86)\\python38-32\\lib\\site-packages\\bs4\\element.py\u001b[0m in \u001b[0;36m__getitem__\u001b[1;34m(self, key)\u001b[0m\n\u001b[0;32m   1399\u001b[0m         \"\"\"tag[key] returns the value of the 'key' attribute for the Tag,\n\u001b[0;32m   1400\u001b[0m         and throws an exception if it's not there.\"\"\"\n\u001b[1;32m-> 1401\u001b[1;33m         \u001b[1;32mreturn\u001b[0m \u001b[0mself\u001b[0m\u001b[1;33m.\u001b[0m\u001b[0mattrs\u001b[0m\u001b[1;33m[\u001b[0m\u001b[0mkey\u001b[0m\u001b[1;33m]\u001b[0m\u001b[1;33m\u001b[0m\u001b[1;33m\u001b[0m\u001b[0m\n\u001b[0m\u001b[0;32m   1402\u001b[0m \u001b[1;33m\u001b[0m\u001b[0m\n\u001b[0;32m   1403\u001b[0m     \u001b[1;32mdef\u001b[0m \u001b[0m__iter__\u001b[0m\u001b[1;33m(\u001b[0m\u001b[0mself\u001b[0m\u001b[1;33m)\u001b[0m\u001b[1;33m:\u001b[0m\u001b[1;33m\u001b[0m\u001b[1;33m\u001b[0m\u001b[0m\n",
      "\u001b[1;31mKeyError\u001b[0m: 'href'"
     ]
    }
   ],
   "source": [
    "html ='<a class=\"mw-selflink selflink\">Leipzig 1960</a>'\n",
    "soup = BeautifulSoup(html, 'lxml')\n",
    "print(soup.a['href'])"
   ]
  },
  {
   "cell_type": "code",
   "execution_count": 30,
   "metadata": {
    "scrolled": true
   },
   "outputs": [
    {
     "name": "stdout",
     "output_type": "stream",
     "text": [
      "<h2>\n",
      "<span class=\"mw-headline\" id=\"Results\">\n",
      "        Results\n",
      "       </span>\n",
      "<ol><li></li></ol>, <ul><li><ol><li></li></ol></li></ul>\n",
      "</h2>\n"
     ]
    }
   ],
   "source": [
    "html = \"\"\"\"\"\"\"\"\"\"\n",
    "        <h2>\n",
    "       <span class=\"mw-headline\" id=\"Results\">\n",
    "        Results\n",
    "       </span>\n",
    "       <ol><li></li></ol>, <ul><li><ol><li></li></ol></li></ul>\n",
    "       </h2>\n",
    "       \"\"\"\"\"\"\"\"\"\n",
    "soup = BeautifulSoup(html, 'lxml')\n",
    "print(soup.ol.parent)\n"
   ]
  },
  {
   "cell_type": "code",
   "execution_count": 2,
   "metadata": {},
   "outputs": [
    {
     "name": "stdout",
     "output_type": "stream",
     "text": [
      "<class 'decimal.Decimal'>\n"
     ]
    }
   ],
   "source": [
    "from decimal import Decimal\n",
    "\n",
    "number = Decimal('65.444')\n",
    "print(type(number.quantize(Decimal('1.00'))))"
   ]
  },
  {
   "cell_type": "code",
   "execution_count": 4,
   "metadata": {},
   "outputs": [
    {
     "name": "stdout",
     "output_type": "stream",
     "text": [
      "['70', '514']\n",
      "70.514\n"
     ]
    }
   ],
   "source": [
    "a = '70,514'\n",
    "b = a.split(',')\n",
    "print(b)\n",
    "c = b[0] + '.' + b[1]\n",
    "print(float(c))"
   ]
  },
  {
   "cell_type": "code",
   "execution_count": null,
   "metadata": {},
   "outputs": [],
   "source": []
  }
 ],
 "metadata": {
  "kernelspec": {
   "display_name": "Python 3",
   "language": "python",
   "name": "python3"
  },
  "language_info": {
   "codemirror_mode": {
    "name": "ipython",
    "version": 3
   },
   "file_extension": ".py",
   "mimetype": "text/x-python",
   "name": "python",
   "nbconvert_exporter": "python",
   "pygments_lexer": "ipython3",
   "version": "3.8.1"
  }
 },
 "nbformat": 4,
 "nbformat_minor": 4
}
