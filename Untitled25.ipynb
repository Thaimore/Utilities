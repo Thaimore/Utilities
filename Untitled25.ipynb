{
 "cells": [
  {
   "cell_type": "code",
   "execution_count": 23,
   "metadata": {},
   "outputs": [
    {
     "name": "stdout",
     "output_type": "stream",
     "text": [
      "hgvghvhj\n",
      "h\n",
      "h1g\n",
      "g2v\n",
      "v3g\n",
      "g4h\n",
      "h5v\n",
      "v6h\n",
      "h7j\n",
      "j8"
     ]
    }
   ],
   "source": [
    "s = str(input(''))\n",
    "a = str('')\n",
    "b = len(s)\n",
    "c = 0\n",
    "d = 0\n",
    "x = 0\n",
    "for i in range (0, b) :\n",
    "    a = s[d:x+1]\n",
    "    c += 1\n",
    "    d += 1\n",
    "    x += 1\n",
    "    print (a)\n",
    "    if a != s[0:x+1] :\n",
    "        print (str(a), end = '')\n",
    "        print (c, end = '')\n",
    "        "
   ]
  },
  {
   "cell_type": "code",
   "execution_count": null,
   "metadata": {},
   "outputs": [],
   "source": [
    "s = str(input(''))\n",
    "a = str('')\n",
    "b = len(s)\n",
    "c = 0\n",
    "d = 0\n",
    "x = 0\n",
    "\n",
    "for i in range (d,b+1): \n",
    "    a = s[d:x+1]\n",
    "    d += 1\n",
    "    x += 1\n",
    "    print (a)\n",
    "    while a == s[d:x+1] or (d <= b ) or (x <= b):\n",
    "        c += 1\n",
    "        d += 1\n",
    "        x += 1\n",
    "    print (a, end = '')\n",
    "    print (c, end = '')\n",
    "    "
   ]
  },
  {
   "cell_type": "code",
   "execution_count": null,
   "metadata": {},
   "outputs": [],
   "source": [
    "s = str(input(''))\n",
    "a = str('')\n",
    "b = len(s)\n",
    "c = 0\n",
    "d = 0\n",
    "x = 0\n",
    "f = 1\n",
    "\n",
    "for i in range (d,b+1,f): \n",
    "    a = s[d:x+1]\n",
    "    if (a != s[d+1:x+2]) :\n",
    "        d += 1\n",
    "        x += 1\n",
    "    print (a)\n",
    "    while (a == s[d:x+1]) and (d <= b ):\n",
    "        c += 1\n",
    "        d += 1\n",
    "        x += 1\n",
    "    print (a, end = '')\n",
    "    print (c, end = '')\n",
    "    c = 0\n",
    "    f = d\n",
    "    "
   ]
  }
 ],
 "metadata": {
  "kernelspec": {
   "display_name": "Python 3",
   "language": "python",
   "name": "python3"
  },
  "language_info": {
   "codemirror_mode": {
    "name": "ipython",
    "version": 3
   },
   "file_extension": ".py",
   "mimetype": "text/x-python",
   "name": "python",
   "nbconvert_exporter": "python",
   "pygments_lexer": "ipython3",
   "version": "3.8.1"
  }
 },
 "nbformat": 4,
 "nbformat_minor": 4
}
