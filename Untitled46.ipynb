{
 "cells": [
  {
   "cell_type": "code",
   "execution_count": 1,
   "metadata": {},
   "outputs": [
    {
     "name": "stdout",
     "output_type": "stream",
     "text": [
      "4\n",
      "север 10\n",
      "запад 20\n",
      "юг 30\n",
      "восток 40\n",
      "20 -20\n"
     ]
    }
   ],
   "source": [
    "n = int(input())\n",
    "b = 0\n",
    "c = 0\n",
    "for i in range (n) :\n",
    "    a = input().split()\n",
    "    if a[0] == 'север' :\n",
    "        c = c + int(a[1])\n",
    "    if a[0] == 'юг' :\n",
    "        c = c - int(a[1])\n",
    "    if a[0] == 'восток' :\n",
    "        b = b + int(a[1])\n",
    "    if a[0] == 'запад' :\n",
    "        b = b - int(a[1])\n",
    "print (b, c)"
   ]
  },
  {
   "cell_type": "code",
   "execution_count": 5,
   "metadata": {},
   "outputs": [
    {
     "name": "stdout",
     "output_type": "stream",
     "text": [
      "abcd\n",
      "*d%#\n",
      "abacabadaba\n",
      "#*%*d*%\n",
      "*#*%*#*#*#*\n",
      "dacabac\n"
     ]
    }
   ],
   "source": [
    "a,b,c,d = str(input('')),str(input('')),str(input('')),str(input(''))\n",
    "for i in range (len(a)) :\n",
    "    c = c.replace(str(a[i]),str(b[i]))\n",
    "    d = d.replace(str(b[i]),str(a[i]))\n",
    "print (c)\n",
    "print (d)"
   ]
  },
  {
   "cell_type": "code",
   "execution_count": 11,
   "metadata": {},
   "outputs": [
    {
     "name": "stdout",
     "output_type": "stream",
     "text": [
      "abcd\n",
      "*d%#\n",
      "abacabadaba\n",
      "#*%*d*%\n",
      "0\n",
      "1\n",
      "0\n",
      "2\n",
      "0\n",
      "1\n",
      "0\n",
      "3\n",
      "0\n",
      "1\n",
      "0\n"
     ]
    }
   ],
   "source": [
    "a,b,c,d = str(input('')),str(input('')),str(input('')),str(input(''))\n",
    "a,b,c,d = list(a),list(b),list(c),list(d)\n",
    "f,e = [],[]\n",
    "for i in c :\n",
    "    if i in a :\n",
    "        f += b[a.index(i)]"
   ]
  },
  {
   "cell_type": "code",
   "execution_count": 15,
   "metadata": {},
   "outputs": [
    {
     "name": "stdout",
     "output_type": "stream",
     "text": [
      "4\n",
      "champions\n",
      "we\n",
      "are\n",
      "Stepik\n",
      "3\n",
      "We are the champignons\n",
      "We Are The Champions\n",
      "Stepic\n",
      "['t', 'h', 'e', 'c', 'h', 'a', 'm', 'p', 'i', 'g', 'n', 'o', 'n', 's', 't', 'h', 'e', 's', 't', 'e', 'p', 'i', 'c']\n"
     ]
    }
   ],
   "source": [
    "a = int(input())\n",
    "vok,pred,err = [],[],[]\n",
    "for i in range (a) :\n",
    "    vok += list(input().lower().split())\n",
    "    \n",
    "b = int(input())\n",
    "for i in range (b) :\n",
    "    pred += list(input().lower().split())\n",
    "    \n",
    "for i in pred :\n",
    "    if (i not in vok) and (i not in err) :\n",
    "        err += i\n",
    "        \n",
    "print (err)"
   ]
  },
  {
   "cell_type": "code",
   "execution_count": null,
   "metadata": {},
   "outputs": [],
   "source": []
  }
 ],
 "metadata": {
  "kernelspec": {
   "display_name": "Python 3",
   "language": "python",
   "name": "python3"
  },
  "language_info": {
   "codemirror_mode": {
    "name": "ipython",
    "version": 3
   },
   "file_extension": ".py",
   "mimetype": "text/x-python",
   "name": "python",
   "nbconvert_exporter": "python",
   "pygments_lexer": "ipython3",
   "version": "3.8.1"
  }
 },
 "nbformat": 4,
 "nbformat_minor": 4
}
