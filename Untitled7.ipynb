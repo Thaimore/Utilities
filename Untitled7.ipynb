{
 "cells": [
  {
   "cell_type": "code",
   "execution_count": 34,
   "metadata": {},
   "outputs": [
    {
     "name": "stdout",
     "output_type": "stream",
     "text": [
      "5\n",
      "5\n",
      "2\n",
      "5\n",
      "2\n",
      "5\n"
     ]
    }
   ],
   "source": [
    "a,b,c = int(input()), int(input()), int(input())\n",
    "\n",
    "if a < b:\n",
    "\ta, b = b, a\n",
    "if a < c:\n",
    "\ta, c = c, a\n",
    "if b > c:\n",
    "\tb, c = c, b\n",
    "print(a)\n",
    "print(b)\n",
    "print(c)"
   ]
  },
  {
   "cell_type": "code",
   "execution_count": 29,
   "metadata": {
    "scrolled": true
   },
   "outputs": [
    {
     "name": "stdout",
     "output_type": "stream",
     "text": [
      "2\n",
      "5\n",
      "2\n",
      "5\n",
      "2\n",
      "2\n"
     ]
    }
   ],
   "source": [
    "a = int(input())\n",
    "b = int(input())\n",
    "c = int(input())\n",
    " \n",
    "if (((a > b) and (a > c)) and (b > c)) or ((a == b) and (b > c)) or ((a > b) and (b == c)) : # начало А\n",
    "    print (int(a))\n",
    "    print (int(c))\n",
    "    print (int(b))\n",
    "    \n",
    "if (((a > b) and (a > c)) and (c > b)) or ((a == c) and (c > b)) :\n",
    "    print (int(a))\n",
    "    print (int(b))\n",
    "    print (int(c))\n",
    "    \n",
    "if (((b > a) and (b > c)) and (c > a)) or ((b == c) and (b > a)) or ((b > a) and (a == c)) : # начало Б\n",
    "    print (int(b))\n",
    "    print (int(a))\n",
    "    print (int(c))\n",
    "    \n",
    "if (((b > a) and (b > c)) and (a > c)) :\n",
    "    print (int(b))\n",
    "    print (int(c))\n",
    "    print (int(a))\n",
    "    \n",
    "if (((c > a) and (c > b)) and (b > a)) or ((c > a) and (a == b )) : # начало С\n",
    "    print (int(c))\n",
    "    print (int(a))\n",
    "    print (int(b))\n",
    "\n",
    "if (((c > a) and (c > b)) and (a > b)) :\n",
    "    print (int(c))\n",
    "    print (int(b))\n",
    "    print (int(a))\n",
    "    \n",
    "if (a == b == c) :\n",
    "    print (int(a))\n",
    "    print (int(b))\n",
    "    print (int(c))"
   ]
  },
  {
   "cell_type": "code",
   "execution_count": null,
   "metadata": {},
   "outputs": [],
   "source": [
    "n = int(input())\n",
    "\n",
    "if (n % 100 == 11) or (n % 100 == 12) or (n % 100 == 13) or (n % 100 == 14) or (11 <= n <= 14) :\n",
    "        print (n, \"программистов\")"
   ]
  },
  {
   "cell_type": "code",
   "execution_count": null,
   "metadata": {},
   "outputs": [],
   "source": [
    "n = int(input)\n",
    "\n",
    "if (14 < n < 111) or (114 < n < 211) or (214 < n < 311) or (314 < n < 411) or "
   ]
  }
 ],
 "metadata": {
  "kernelspec": {
   "display_name": "Python 3",
   "language": "python",
   "name": "python3"
  },
  "language_info": {
   "codemirror_mode": {
    "name": "ipython",
    "version": 3
   },
   "file_extension": ".py",
   "mimetype": "text/x-python",
   "name": "python",
   "nbconvert_exporter": "python",
   "pygments_lexer": "ipython3",
   "version": "3.8.1"
  }
 },
 "nbformat": 4,
 "nbformat_minor": 4
}
