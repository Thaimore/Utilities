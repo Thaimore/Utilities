{
 "cells": [
  {
   "cell_type": "code",
   "execution_count": 9,
   "metadata": {},
   "outputs": [
    {
     "name": "stdout",
     "output_type": "stream",
     "text": [
      "1\n",
      "s\n"
     ]
    }
   ],
   "source": [
    "a = str('s12J4b1')\n",
    "print (int(a[1]))\n",
    "b = str('')\n",
    "b = b + a[0]\n",
    "print (b)"
   ]
  },
  {
   "cell_type": "code",
   "execution_count": 13,
   "metadata": {},
   "outputs": [
    {
     "name": "stdout",
     "output_type": "stream",
     "text": [
      "125\n"
     ]
    }
   ],
   "source": [
    "a = str('s125')\n",
    "i = 0\n",
    "d = str('')\n",
    "while i < len(a) :\n",
    "    c = i\n",
    "    b = str('')\n",
    "    while a[i] < 'A' :\n",
    "        b = b + a[i]\n",
    "        i += 1\n",
    "    d = d + a[c] * int(b)\n",
    "        \n",
    "print (b)"
   ]
  },
  {
   "cell_type": "code",
   "execution_count": null,
   "metadata": {},
   "outputs": [],
   "source": [
    "a = str('s12J4b19R11Z9X13r6P10')\n",
    "i = 0\n",
    "c = 0\n",
    "d = str('')\n",
    "for i in range (len(a)) :\n",
    "    b = str('')\n",
    "    if a[i+1] < 'A' :\n",
    "        while a[i] < 'A' :\n",
    "            b = b + a[i]\n",
    "            i += 1\n",
    "            if i == len(a) :\n",
    "                break\n",
    "    \n",
    "    if b != '' :\n",
    "        if c == len(a):\n",
    "            break\n",
    "        d = d + a[c] * int(b)\n",
    "        c = i\n",
    "print (d)"
   ]
  }
 ],
 "metadata": {
  "kernelspec": {
   "display_name": "Python 3",
   "language": "python",
   "name": "python3"
  },
  "language_info": {
   "codemirror_mode": {
    "name": "ipython",
    "version": 3
   },
   "file_extension": ".py",
   "mimetype": "text/x-python",
   "name": "python",
   "nbconvert_exporter": "python",
   "pygments_lexer": "ipython3",
   "version": "3.8.1"
  }
 },
 "nbformat": 4,
 "nbformat_minor": 4
}
