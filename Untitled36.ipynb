{
 "cells": [
  {
   "cell_type": "code",
   "execution_count": 2,
   "metadata": {},
   "outputs": [
    {
     "name": "stdout",
     "output_type": "stream",
     "text": [
      "5\n",
      "5\n"
     ]
    }
   ],
   "source": [
    "\n",
    "x = int(input())\n",
    "def f(x) :\n",
    "    if x <= -2 :\n",
    "        x = 1 - ((x + 2) ** 2)\n",
    "        return x\n",
    "    if -2 < x <= 2 :\n",
    "        x = (x / 2) * (-1)\n",
    "        return x\n",
    "    if 2 < x :\n",
    "        x = (x - 2) ** 2 - 1\n",
    "        return x\n",
    "print (x)"
   ]
  },
  {
   "cell_type": "code",
   "execution_count": 3,
   "metadata": {},
   "outputs": [],
   "source": [
    "def modify_list(l) :\n",
    "    c = []\n",
    "    x = []\n",
    "    l = [int(i) for i in l]\n",
    "    for i in range (len(l)) :\n",
    "        if int(l[i]) % 2 == 0 :\n",
    "            l[i] = int(l[i]) // 2\n",
    "            c.append(l[i])\n",
    "    l = c\n",
    "    print (c)\n",
    "c = input().split()\n",
    "modify_list(c)"
   ]
  },
  {
   "cell_type": "code",
   "execution_count": null,
   "metadata": {},
   "outputs": [],
   "source": [
    "def modify_list(l) :\n",
    "    l = [int(i) for i in l]\n",
    "    x = 0\n",
    "    while x != len(l) :\n",
    "        if x == len(l) :\n",
    "            break\n",
    "        if int(l[x]) % 2 != 0 :\n",
    "            del l[x]\n",
    "        else : x += 1\n",
    "    for c in range (len(l)) :\n",
    "        l[c] = int(l[c]) // 2\n",
    "    print(l)\n",
    "x = input().split()\n",
    "modify_list(x)"
   ]
  },
  {
   "cell_type": "code",
   "execution_count": 4,
   "metadata": {},
   "outputs": [
    {
     "data": {
      "text/plain": [
       "0"
      ]
     },
     "execution_count": 4,
     "metadata": {},
     "output_type": "execute_result"
    }
   ],
   "source": [
    "10 % 2"
   ]
  },
  {
   "cell_type": "code",
   "execution_count": null,
   "metadata": {},
   "outputs": [],
   "source": [
    "def modify_list(l) :\n",
    "    l = [int(i) for i in l]\n",
    "    x = 0\n",
    "    while x != len(l) :\n",
    "        if x == len(l) :\n",
    "            break\n",
    "        if int(l[x]) % 2 != 0 :\n",
    "            del l[x]\n",
    "        else : x += 1\n",
    "    for c in range (len(l)) :\n",
    "        l[c] = int(l[c]) // 2\n",
    "    print(l)\n",
    "x = input().split()\n",
    "modify_list(x)"
   ]
  }
 ],
 "metadata": {
  "kernelspec": {
   "display_name": "Python 3",
   "language": "python",
   "name": "python3"
  },
  "language_info": {
   "codemirror_mode": {
    "name": "ipython",
    "version": 3
   },
   "file_extension": ".py",
   "mimetype": "text/x-python",
   "name": "python",
   "nbconvert_exporter": "python",
   "pygments_lexer": "ipython3",
   "version": "3.8.1"
  }
 },
 "nbformat": 4,
 "nbformat_minor": 4
}
