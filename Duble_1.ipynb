{
 "cells": [
  {
   "cell_type": "code",
   "execution_count": 3,
   "metadata": {},
   "outputs": [
    {
     "name": "stdout",
     "output_type": "stream",
     "text": [
      "(1,)\n",
      "(1, 2)\n"
     ]
    }
   ],
   "source": [
    "a = ()\n",
    "a += (1,)\n",
    "print(a)\n",
    "a += (2,)\n",
    "print(a)"
   ]
  },
  {
   "cell_type": "code",
   "execution_count": 48,
   "metadata": {},
   "outputs": [
    {
     "name": "stdout",
     "output_type": "stream",
     "text": [
      "11\n",
      "create foo global\n",
      "create bar foo\n",
      "create barz bar\n",
      "create bary barz\n",
      "add bar b\n",
      "create zoo bar\n",
      "create zoo2 zoo\n",
      "create zoo3 zoo2\n",
      "add bary b\n",
      "create doo zoo\n",
      "get zoo b\n"
     ]
    }
   ],
   "source": [
    "n = int(input())\n",
    "spaces = [['global',()]]\n",
    "parent = [['global', None]]\n",
    "var = [['global', ()]]\n",
    "\n",
    "g = []\n",
    "def create(new_space, new_parent):\n",
    "    global var, parent\n",
    "    parent += [[str(new_space), str(new_parent)]]\n",
    "    var += [[new_space, ()]]\n",
    "    \n",
    "def add(namespace, new_var):\n",
    "    global var\n",
    "    new_var = str(new_var)\n",
    "    for i in range(len(var)-1, -1, -1):\n",
    "        if str(namespace) == var[i][0]:\n",
    "            var[i][1] += (new_var,)\n",
    "            break\n",
    "            \n",
    "def get(namespace, old_var):\n",
    "    global var, parent, g\n",
    "    namespace, old_var = str(namespace), str(old_var)\n",
    "    a = namespace\n",
    "    b = 0\n",
    "    for i in range(len(parent)-1, -1, -1):\n",
    "        g = []\n",
    "        if a == parent[i][0]:\n",
    "            b = parent[i][1]\n",
    "            for f in range(len(var)-1, -1, -1):\n",
    "                if a == var[f][0] and old_var in var[f][1]:\n",
    "                    print(var[f][0])\n",
    "                    g += var[f][0]\n",
    "                    break\n",
    "                if (f == 0 and i == 0) and old_var not in var[f][0]:\n",
    "                    print('None')\n",
    "                    break\n",
    "        if g != []:\n",
    "            break\n",
    "        a = b\n",
    "        \n",
    "for i in range (n) :\n",
    "    inp = input().split()\n",
    "    names = inp[1]\n",
    "    if inp[0] == 'create' :\n",
    "        create(inp[1],inp[2])\n",
    "    elif inp[0] == 'add' :\n",
    "        add(inp[1],inp[2])\n",
    "    elif inp[0] == 'get' :\n",
    "        get(inp[1],inp[2])"
   ]
  },
  {
   "cell_type": "code",
   "execution_count": 7,
   "metadata": {},
   "outputs": [
    {
     "name": "stdout",
     "output_type": "stream",
     "text": [
      "Yes\n"
     ]
    }
   ],
   "source": [
    "a = {'global' : ()}\n",
    "if 'global' in a:\n",
    "    print('Yes')"
   ]
  },
  {
   "cell_type": "code",
   "execution_count": 29,
   "metadata": {},
   "outputs": [
    {
     "name": "stdout",
     "output_type": "stream",
     "text": [
      "()\n"
     ]
    }
   ],
   "source": [
    "add ('global', 'a')\n",
    "print(var)\n",
    "create ('foo', 'global')\n",
    "print(parent)\n",
    "add ('foo', 'b')\n",
    "print(var)\n",
    "get ('foo', 'a')\n",
    "get ('foo', 'c')\n",
    "create ('bar', 'foo')\n",
    "print(parent)\n",
    "add ('bar', 'a')\n",
    "print(var)\n",
    "get ('bar', 'a')\n",
    "get ('bar', 'b')"
   ]
  },
  {
   "cell_type": "code",
   "execution_count": null,
   "metadata": {},
   "outputs": [],
   "source": []
  }
 ],
 "metadata": {
  "kernelspec": {
   "display_name": "Python 3",
   "language": "python",
   "name": "python3"
  },
  "language_info": {
   "codemirror_mode": {
    "name": "ipython",
    "version": 3
   },
   "file_extension": ".py",
   "mimetype": "text/x-python",
   "name": "python",
   "nbconvert_exporter": "python",
   "pygments_lexer": "ipython3",
   "version": "3.8.1"
  }
 },
 "nbformat": 4,
 "nbformat_minor": 4
}
